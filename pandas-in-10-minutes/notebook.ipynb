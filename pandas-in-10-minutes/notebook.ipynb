{
 "metadata": {
  "language_info": {
   "codemirror_mode": {
    "name": "ipython",
    "version": 3
   },
   "file_extension": ".py",
   "mimetype": "text/x-python",
   "name": "python",
   "nbconvert_exporter": "python",
   "pygments_lexer": "ipython3",
   "version": "3.9.0-candidate"
  },
  "orig_nbformat": 2,
  "kernelspec": {
   "name": "python3",
   "display_name": "Python 3.9.0 64-bit ('pandas-sandbox')",
   "metadata": {
    "interpreter": {
     "hash": "1f038e228d5e9c4cac16424305ee96748eb598b414c1a78684160b304f4e536d"
    }
   }
  }
 },
 "nbformat": 4,
 "nbformat_minor": 2,
 "cells": [
  {
   "source": [
    "# 10 minutes to pandas"
   ],
   "cell_type": "markdown",
   "metadata": {}
  },
  {
   "source": [
    "## Object creation"
   ],
   "cell_type": "markdown",
   "metadata": {}
  },
  {
   "cell_type": "code",
   "execution_count": 3,
   "metadata": {},
   "outputs": [],
   "source": [
    "import pandas as pd\n",
    "import numpy as np"
   ]
  },
  {
   "cell_type": "code",
   "execution_count": 4,
   "metadata": {},
   "outputs": [
    {
     "output_type": "execute_result",
     "data": {
      "text/plain": [
       "0    1.0\n",
       "1    3.0\n",
       "2    5.0\n",
       "3    NaN\n",
       "4    6.0\n",
       "5    8.0\n",
       "dtype: float64"
      ]
     },
     "metadata": {},
     "execution_count": 4
    }
   ],
   "source": [
    "s = pd.Series([1,3,5, np.nan,6,8])\n",
    "s"
   ]
  },
  {
   "cell_type": "code",
   "execution_count": 5,
   "metadata": {},
   "outputs": [
    {
     "output_type": "execute_result",
     "data": {
      "text/plain": [
       "DatetimeIndex(['2013-01-01', '2013-01-02', '2013-01-03', '2013-01-04',\n",
       "               '2013-01-05', '2013-01-06'],\n",
       "              dtype='datetime64[ns]', freq='D')"
      ]
     },
     "metadata": {},
     "execution_count": 5
    }
   ],
   "source": [
    "dates = pd.date_range(\"2013-01-01\", periods=6)\n",
    "dates"
   ]
  },
  {
   "cell_type": "code",
   "execution_count": 6,
   "metadata": {},
   "outputs": [
    {
     "output_type": "execute_result",
     "data": {
      "text/plain": [
       "                   A         B         C         D\n",
       "2013-01-01  0.305115  0.514672 -0.414396 -0.051394\n",
       "2013-01-02  0.419706  0.217923 -0.757748 -0.949438\n",
       "2013-01-03 -0.296259  0.501387 -0.372069 -0.373503\n",
       "2013-01-04 -0.544228  1.105408 -0.429750 -0.200137\n",
       "2013-01-05  1.074317 -1.253928 -1.325984  2.158863\n",
       "2013-01-06 -1.199020  0.565522  0.629644  0.257256"
      ],
      "text/html": "<div>\n<style scoped>\n    .dataframe tbody tr th:only-of-type {\n        vertical-align: middle;\n    }\n\n    .dataframe tbody tr th {\n        vertical-align: top;\n    }\n\n    .dataframe thead th {\n        text-align: right;\n    }\n</style>\n<table border=\"1\" class=\"dataframe\">\n  <thead>\n    <tr style=\"text-align: right;\">\n      <th></th>\n      <th>A</th>\n      <th>B</th>\n      <th>C</th>\n      <th>D</th>\n    </tr>\n  </thead>\n  <tbody>\n    <tr>\n      <th>2013-01-01</th>\n      <td>0.305115</td>\n      <td>0.514672</td>\n      <td>-0.414396</td>\n      <td>-0.051394</td>\n    </tr>\n    <tr>\n      <th>2013-01-02</th>\n      <td>0.419706</td>\n      <td>0.217923</td>\n      <td>-0.757748</td>\n      <td>-0.949438</td>\n    </tr>\n    <tr>\n      <th>2013-01-03</th>\n      <td>-0.296259</td>\n      <td>0.501387</td>\n      <td>-0.372069</td>\n      <td>-0.373503</td>\n    </tr>\n    <tr>\n      <th>2013-01-04</th>\n      <td>-0.544228</td>\n      <td>1.105408</td>\n      <td>-0.429750</td>\n      <td>-0.200137</td>\n    </tr>\n    <tr>\n      <th>2013-01-05</th>\n      <td>1.074317</td>\n      <td>-1.253928</td>\n      <td>-1.325984</td>\n      <td>2.158863</td>\n    </tr>\n    <tr>\n      <th>2013-01-06</th>\n      <td>-1.199020</td>\n      <td>0.565522</td>\n      <td>0.629644</td>\n      <td>0.257256</td>\n    </tr>\n  </tbody>\n</table>\n</div>"
     },
     "metadata": {},
     "execution_count": 6
    }
   ],
   "source": [
    "df = pd.DataFrame(np.random.randn(6,4), index=dates, columns=[\"A\", \"B\", \"C\", \"D\"])\n",
    "df"
   ]
  },
  {
   "cell_type": "code",
   "execution_count": 7,
   "metadata": {},
   "outputs": [
    {
     "output_type": "display_data",
     "data": {
      "text/plain": "     A          B    C  D      E    F\n0  1.0 2020-02-01  1.0  3   test  foo\n1  1.0 2020-02-01  1.0  3  train  foo\n2  1.0 2020-02-01  1.0  3   test  foo\n3  1.0 2020-02-01  1.0  3  train  foo",
      "text/html": "<div>\n<style scoped>\n    .dataframe tbody tr th:only-of-type {\n        vertical-align: middle;\n    }\n\n    .dataframe tbody tr th {\n        vertical-align: top;\n    }\n\n    .dataframe thead th {\n        text-align: right;\n    }\n</style>\n<table border=\"1\" class=\"dataframe\">\n  <thead>\n    <tr style=\"text-align: right;\">\n      <th></th>\n      <th>A</th>\n      <th>B</th>\n      <th>C</th>\n      <th>D</th>\n      <th>E</th>\n      <th>F</th>\n    </tr>\n  </thead>\n  <tbody>\n    <tr>\n      <th>0</th>\n      <td>1.0</td>\n      <td>2020-02-01</td>\n      <td>1.0</td>\n      <td>3</td>\n      <td>test</td>\n      <td>foo</td>\n    </tr>\n    <tr>\n      <th>1</th>\n      <td>1.0</td>\n      <td>2020-02-01</td>\n      <td>1.0</td>\n      <td>3</td>\n      <td>train</td>\n      <td>foo</td>\n    </tr>\n    <tr>\n      <th>2</th>\n      <td>1.0</td>\n      <td>2020-02-01</td>\n      <td>1.0</td>\n      <td>3</td>\n      <td>test</td>\n      <td>foo</td>\n    </tr>\n    <tr>\n      <th>3</th>\n      <td>1.0</td>\n      <td>2020-02-01</td>\n      <td>1.0</td>\n      <td>3</td>\n      <td>train</td>\n      <td>foo</td>\n    </tr>\n  </tbody>\n</table>\n</div>"
     },
     "metadata": {}
    },
    {
     "output_type": "execute_result",
     "data": {
      "text/plain": [
       "A           float64\n",
       "B    datetime64[ns]\n",
       "C           float32\n",
       "D             int32\n",
       "E          category\n",
       "F            object\n",
       "dtype: object"
      ]
     },
     "metadata": {},
     "execution_count": 7
    }
   ],
   "source": [
    "df_from_dict = pd.DataFrame(\n",
    "    {\n",
    "        \"A\": 1.0,\n",
    "        \"B\": pd.Timestamp(\"2020-02-01\"),\n",
    "        \"C\": pd.Series(1, index=list(range(4)), dtype=\"float32\"),\n",
    "        \"D\": np.array([3] * 4, dtype=\"int32\"),\n",
    "        \"E\": pd.Categorical([\"test\", \"train\", \"test\", \"train\"]),\n",
    "        \"F\": \"foo\",\n",
    "    },\n",
    ")\n",
    "display(df_from_dict)\n",
    "df_from_dict.dtypes"
   ]
  },
  {
   "source": [
    "## Viewing data"
   ],
   "cell_type": "markdown",
   "metadata": {}
  },
  {
   "cell_type": "code",
   "execution_count": 8,
   "metadata": {},
   "outputs": [
    {
     "output_type": "display_data",
     "data": {
      "text/plain": "                   A         B         C         D\n2013-01-01  0.305115  0.514672 -0.414396 -0.051394\n2013-01-02  0.419706  0.217923 -0.757748 -0.949438",
      "text/html": "<div>\n<style scoped>\n    .dataframe tbody tr th:only-of-type {\n        vertical-align: middle;\n    }\n\n    .dataframe tbody tr th {\n        vertical-align: top;\n    }\n\n    .dataframe thead th {\n        text-align: right;\n    }\n</style>\n<table border=\"1\" class=\"dataframe\">\n  <thead>\n    <tr style=\"text-align: right;\">\n      <th></th>\n      <th>A</th>\n      <th>B</th>\n      <th>C</th>\n      <th>D</th>\n    </tr>\n  </thead>\n  <tbody>\n    <tr>\n      <th>2013-01-01</th>\n      <td>0.305115</td>\n      <td>0.514672</td>\n      <td>-0.414396</td>\n      <td>-0.051394</td>\n    </tr>\n    <tr>\n      <th>2013-01-02</th>\n      <td>0.419706</td>\n      <td>0.217923</td>\n      <td>-0.757748</td>\n      <td>-0.949438</td>\n    </tr>\n  </tbody>\n</table>\n</div>"
     },
     "metadata": {}
    },
    {
     "output_type": "display_data",
     "data": {
      "text/plain": "                   A         B         C         D\n2013-01-04 -0.544228  1.105408 -0.429750 -0.200137\n2013-01-05  1.074317 -1.253928 -1.325984  2.158863\n2013-01-06 -1.199020  0.565522  0.629644  0.257256",
      "text/html": "<div>\n<style scoped>\n    .dataframe tbody tr th:only-of-type {\n        vertical-align: middle;\n    }\n\n    .dataframe tbody tr th {\n        vertical-align: top;\n    }\n\n    .dataframe thead th {\n        text-align: right;\n    }\n</style>\n<table border=\"1\" class=\"dataframe\">\n  <thead>\n    <tr style=\"text-align: right;\">\n      <th></th>\n      <th>A</th>\n      <th>B</th>\n      <th>C</th>\n      <th>D</th>\n    </tr>\n  </thead>\n  <tbody>\n    <tr>\n      <th>2013-01-04</th>\n      <td>-0.544228</td>\n      <td>1.105408</td>\n      <td>-0.429750</td>\n      <td>-0.200137</td>\n    </tr>\n    <tr>\n      <th>2013-01-05</th>\n      <td>1.074317</td>\n      <td>-1.253928</td>\n      <td>-1.325984</td>\n      <td>2.158863</td>\n    </tr>\n    <tr>\n      <th>2013-01-06</th>\n      <td>-1.199020</td>\n      <td>0.565522</td>\n      <td>0.629644</td>\n      <td>0.257256</td>\n    </tr>\n  </tbody>\n</table>\n</div>"
     },
     "metadata": {}
    },
    {
     "output_type": "display_data",
     "data": {
      "text/plain": "DatetimeIndex(['2013-01-01', '2013-01-02', '2013-01-03', '2013-01-04',\n               '2013-01-05', '2013-01-06'],\n              dtype='datetime64[ns]', freq='D')"
     },
     "metadata": {}
    },
    {
     "output_type": "display_data",
     "data": {
      "text/plain": "Index(['A', 'B', 'C', 'D'], dtype='object')"
     },
     "metadata": {}
    }
   ],
   "source": [
    "display(df.head(2))\n",
    "display(df.tail(3))\n",
    "display(df.index)\n",
    "display(df.columns)"
   ]
  },
  {
   "cell_type": "code",
   "execution_count": 9,
   "metadata": {},
   "outputs": [
    {
     "output_type": "execute_result",
     "data": {
      "text/plain": [
       "array([[ 0.30511486,  0.51467194, -0.4143962 , -0.05139416],\n",
       "       [ 0.41970601,  0.21792302, -0.7577475 , -0.94943836],\n",
       "       [-0.29625945,  0.5013867 , -0.37206921, -0.37350281],\n",
       "       [-0.54422835,  1.10540805, -0.4297503 , -0.20013725],\n",
       "       [ 1.07431663, -1.25392795, -1.32598446,  2.15886308],\n",
       "       [-1.19902016,  0.56552196,  0.62964448,  0.25725615]])"
      ]
     },
     "metadata": {},
     "execution_count": 9
    }
   ],
   "source": [
    "# Can be expensive if dataframe's columns are of different types.\n",
    "# It also skips the index.\n",
    "df.to_numpy()"
   ]
  },
  {
   "cell_type": "code",
   "execution_count": 10,
   "metadata": {},
   "outputs": [
    {
     "output_type": "execute_result",
     "data": {
      "text/plain": [
       "              A         B         C         D\n",
       "count  6.000000  6.000000  6.000000  6.000000\n",
       "mean  -0.040062  0.275164 -0.445051  0.140274\n",
       "std    0.804410  0.802939  0.638012  1.067000\n",
       "min   -1.199020 -1.253928 -1.325984 -0.949438\n",
       "25%   -0.482236  0.288789 -0.675748 -0.330161\n",
       "50%    0.004428  0.508029 -0.422073 -0.125766\n",
       "75%    0.391058  0.552809 -0.382651  0.180094\n",
       "max    1.074317  1.105408  0.629644  2.158863"
      ],
      "text/html": "<div>\n<style scoped>\n    .dataframe tbody tr th:only-of-type {\n        vertical-align: middle;\n    }\n\n    .dataframe tbody tr th {\n        vertical-align: top;\n    }\n\n    .dataframe thead th {\n        text-align: right;\n    }\n</style>\n<table border=\"1\" class=\"dataframe\">\n  <thead>\n    <tr style=\"text-align: right;\">\n      <th></th>\n      <th>A</th>\n      <th>B</th>\n      <th>C</th>\n      <th>D</th>\n    </tr>\n  </thead>\n  <tbody>\n    <tr>\n      <th>count</th>\n      <td>6.000000</td>\n      <td>6.000000</td>\n      <td>6.000000</td>\n      <td>6.000000</td>\n    </tr>\n    <tr>\n      <th>mean</th>\n      <td>-0.040062</td>\n      <td>0.275164</td>\n      <td>-0.445051</td>\n      <td>0.140274</td>\n    </tr>\n    <tr>\n      <th>std</th>\n      <td>0.804410</td>\n      <td>0.802939</td>\n      <td>0.638012</td>\n      <td>1.067000</td>\n    </tr>\n    <tr>\n      <th>min</th>\n      <td>-1.199020</td>\n      <td>-1.253928</td>\n      <td>-1.325984</td>\n      <td>-0.949438</td>\n    </tr>\n    <tr>\n      <th>25%</th>\n      <td>-0.482236</td>\n      <td>0.288789</td>\n      <td>-0.675748</td>\n      <td>-0.330161</td>\n    </tr>\n    <tr>\n      <th>50%</th>\n      <td>0.004428</td>\n      <td>0.508029</td>\n      <td>-0.422073</td>\n      <td>-0.125766</td>\n    </tr>\n    <tr>\n      <th>75%</th>\n      <td>0.391058</td>\n      <td>0.552809</td>\n      <td>-0.382651</td>\n      <td>0.180094</td>\n    </tr>\n    <tr>\n      <th>max</th>\n      <td>1.074317</td>\n      <td>1.105408</td>\n      <td>0.629644</td>\n      <td>2.158863</td>\n    </tr>\n  </tbody>\n</table>\n</div>"
     },
     "metadata": {},
     "execution_count": 10
    }
   ],
   "source": [
    "# Quick stats\n",
    "df.describe()"
   ]
  },
  {
   "cell_type": "code",
   "execution_count": 11,
   "metadata": {},
   "outputs": [
    {
     "output_type": "execute_result",
     "data": {
      "text/plain": [
       "   2013-01-01  2013-01-02  2013-01-03  2013-01-04  2013-01-05  2013-01-06\n",
       "A    0.305115    0.419706   -0.296259   -0.544228    1.074317   -1.199020\n",
       "B    0.514672    0.217923    0.501387    1.105408   -1.253928    0.565522\n",
       "C   -0.414396   -0.757748   -0.372069   -0.429750   -1.325984    0.629644\n",
       "D   -0.051394   -0.949438   -0.373503   -0.200137    2.158863    0.257256"
      ],
      "text/html": "<div>\n<style scoped>\n    .dataframe tbody tr th:only-of-type {\n        vertical-align: middle;\n    }\n\n    .dataframe tbody tr th {\n        vertical-align: top;\n    }\n\n    .dataframe thead th {\n        text-align: right;\n    }\n</style>\n<table border=\"1\" class=\"dataframe\">\n  <thead>\n    <tr style=\"text-align: right;\">\n      <th></th>\n      <th>2013-01-01</th>\n      <th>2013-01-02</th>\n      <th>2013-01-03</th>\n      <th>2013-01-04</th>\n      <th>2013-01-05</th>\n      <th>2013-01-06</th>\n    </tr>\n  </thead>\n  <tbody>\n    <tr>\n      <th>A</th>\n      <td>0.305115</td>\n      <td>0.419706</td>\n      <td>-0.296259</td>\n      <td>-0.544228</td>\n      <td>1.074317</td>\n      <td>-1.199020</td>\n    </tr>\n    <tr>\n      <th>B</th>\n      <td>0.514672</td>\n      <td>0.217923</td>\n      <td>0.501387</td>\n      <td>1.105408</td>\n      <td>-1.253928</td>\n      <td>0.565522</td>\n    </tr>\n    <tr>\n      <th>C</th>\n      <td>-0.414396</td>\n      <td>-0.757748</td>\n      <td>-0.372069</td>\n      <td>-0.429750</td>\n      <td>-1.325984</td>\n      <td>0.629644</td>\n    </tr>\n    <tr>\n      <th>D</th>\n      <td>-0.051394</td>\n      <td>-0.949438</td>\n      <td>-0.373503</td>\n      <td>-0.200137</td>\n      <td>2.158863</td>\n      <td>0.257256</td>\n    </tr>\n  </tbody>\n</table>\n</div>"
     },
     "metadata": {},
     "execution_count": 11
    }
   ],
   "source": [
    "# Transposition\n",
    "df.T"
   ]
  },
  {
   "cell_type": "code",
   "execution_count": 12,
   "metadata": {},
   "outputs": [
    {
     "output_type": "execute_result",
     "data": {
      "text/plain": [
       "                   D         C         B         A\n",
       "2013-01-01 -0.051394 -0.414396  0.514672  0.305115\n",
       "2013-01-02 -0.949438 -0.757748  0.217923  0.419706\n",
       "2013-01-03 -0.373503 -0.372069  0.501387 -0.296259\n",
       "2013-01-04 -0.200137 -0.429750  1.105408 -0.544228\n",
       "2013-01-05  2.158863 -1.325984 -1.253928  1.074317\n",
       "2013-01-06  0.257256  0.629644  0.565522 -1.199020"
      ],
      "text/html": "<div>\n<style scoped>\n    .dataframe tbody tr th:only-of-type {\n        vertical-align: middle;\n    }\n\n    .dataframe tbody tr th {\n        vertical-align: top;\n    }\n\n    .dataframe thead th {\n        text-align: right;\n    }\n</style>\n<table border=\"1\" class=\"dataframe\">\n  <thead>\n    <tr style=\"text-align: right;\">\n      <th></th>\n      <th>D</th>\n      <th>C</th>\n      <th>B</th>\n      <th>A</th>\n    </tr>\n  </thead>\n  <tbody>\n    <tr>\n      <th>2013-01-01</th>\n      <td>-0.051394</td>\n      <td>-0.414396</td>\n      <td>0.514672</td>\n      <td>0.305115</td>\n    </tr>\n    <tr>\n      <th>2013-01-02</th>\n      <td>-0.949438</td>\n      <td>-0.757748</td>\n      <td>0.217923</td>\n      <td>0.419706</td>\n    </tr>\n    <tr>\n      <th>2013-01-03</th>\n      <td>-0.373503</td>\n      <td>-0.372069</td>\n      <td>0.501387</td>\n      <td>-0.296259</td>\n    </tr>\n    <tr>\n      <th>2013-01-04</th>\n      <td>-0.200137</td>\n      <td>-0.429750</td>\n      <td>1.105408</td>\n      <td>-0.544228</td>\n    </tr>\n    <tr>\n      <th>2013-01-05</th>\n      <td>2.158863</td>\n      <td>-1.325984</td>\n      <td>-1.253928</td>\n      <td>1.074317</td>\n    </tr>\n    <tr>\n      <th>2013-01-06</th>\n      <td>0.257256</td>\n      <td>0.629644</td>\n      <td>0.565522</td>\n      <td>-1.199020</td>\n    </tr>\n  </tbody>\n</table>\n</div>"
     },
     "metadata": {},
     "execution_count": 12
    }
   ],
   "source": [
    "# Sorting by columns.\n",
    "df.sort_index(axis=1, ascending=False)"
   ]
  },
  {
   "cell_type": "code",
   "execution_count": 13,
   "metadata": {},
   "outputs": [
    {
     "output_type": "execute_result",
     "data": {
      "text/plain": [
       "                   A         B         C         D\n",
       "2013-01-05  1.074317 -1.253928 -1.325984  2.158863\n",
       "2013-01-02  0.419706  0.217923 -0.757748 -0.949438\n",
       "2013-01-03 -0.296259  0.501387 -0.372069 -0.373503\n",
       "2013-01-01  0.305115  0.514672 -0.414396 -0.051394\n",
       "2013-01-06 -1.199020  0.565522  0.629644  0.257256\n",
       "2013-01-04 -0.544228  1.105408 -0.429750 -0.200137"
      ],
      "text/html": "<div>\n<style scoped>\n    .dataframe tbody tr th:only-of-type {\n        vertical-align: middle;\n    }\n\n    .dataframe tbody tr th {\n        vertical-align: top;\n    }\n\n    .dataframe thead th {\n        text-align: right;\n    }\n</style>\n<table border=\"1\" class=\"dataframe\">\n  <thead>\n    <tr style=\"text-align: right;\">\n      <th></th>\n      <th>A</th>\n      <th>B</th>\n      <th>C</th>\n      <th>D</th>\n    </tr>\n  </thead>\n  <tbody>\n    <tr>\n      <th>2013-01-05</th>\n      <td>1.074317</td>\n      <td>-1.253928</td>\n      <td>-1.325984</td>\n      <td>2.158863</td>\n    </tr>\n    <tr>\n      <th>2013-01-02</th>\n      <td>0.419706</td>\n      <td>0.217923</td>\n      <td>-0.757748</td>\n      <td>-0.949438</td>\n    </tr>\n    <tr>\n      <th>2013-01-03</th>\n      <td>-0.296259</td>\n      <td>0.501387</td>\n      <td>-0.372069</td>\n      <td>-0.373503</td>\n    </tr>\n    <tr>\n      <th>2013-01-01</th>\n      <td>0.305115</td>\n      <td>0.514672</td>\n      <td>-0.414396</td>\n      <td>-0.051394</td>\n    </tr>\n    <tr>\n      <th>2013-01-06</th>\n      <td>-1.199020</td>\n      <td>0.565522</td>\n      <td>0.629644</td>\n      <td>0.257256</td>\n    </tr>\n    <tr>\n      <th>2013-01-04</th>\n      <td>-0.544228</td>\n      <td>1.105408</td>\n      <td>-0.429750</td>\n      <td>-0.200137</td>\n    </tr>\n  </tbody>\n</table>\n</div>"
     },
     "metadata": {},
     "execution_count": 13
    }
   ],
   "source": [
    "# Sorting by values.\n",
    "df.sort_values(by=\"B\")"
   ]
  },
  {
   "source": [
    "## Selection"
   ],
   "cell_type": "markdown",
   "metadata": {}
  },
  {
   "cell_type": "code",
   "execution_count": 14,
   "metadata": {},
   "outputs": [
    {
     "output_type": "execute_result",
     "data": {
      "text/plain": [
       "2013-01-01    0.305115\n",
       "2013-01-02    0.419706\n",
       "2013-01-03   -0.296259\n",
       "2013-01-04   -0.544228\n",
       "2013-01-05    1.074317\n",
       "2013-01-06   -1.199020\n",
       "Freq: D, Name: A, dtype: float64"
      ]
     },
     "metadata": {},
     "execution_count": 14
    }
   ],
   "source": [
    "# Get series (by column name)\n",
    "df[\"A\"]  # or df.A"
   ]
  },
  {
   "cell_type": "code",
   "execution_count": 15,
   "metadata": {},
   "outputs": [
    {
     "output_type": "execute_result",
     "data": {
      "text/plain": [
       "                   A         B         C         D\n",
       "2013-01-01  0.305115  0.514672 -0.414396 -0.051394\n",
       "2013-01-02  0.419706  0.217923 -0.757748 -0.949438"
      ],
      "text/html": "<div>\n<style scoped>\n    .dataframe tbody tr th:only-of-type {\n        vertical-align: middle;\n    }\n\n    .dataframe tbody tr th {\n        vertical-align: top;\n    }\n\n    .dataframe thead th {\n        text-align: right;\n    }\n</style>\n<table border=\"1\" class=\"dataframe\">\n  <thead>\n    <tr style=\"text-align: right;\">\n      <th></th>\n      <th>A</th>\n      <th>B</th>\n      <th>C</th>\n      <th>D</th>\n    </tr>\n  </thead>\n  <tbody>\n    <tr>\n      <th>2013-01-01</th>\n      <td>0.305115</td>\n      <td>0.514672</td>\n      <td>-0.414396</td>\n      <td>-0.051394</td>\n    </tr>\n    <tr>\n      <th>2013-01-02</th>\n      <td>0.419706</td>\n      <td>0.217923</td>\n      <td>-0.757748</td>\n      <td>-0.949438</td>\n    </tr>\n  </tbody>\n</table>\n</div>"
     },
     "metadata": {},
     "execution_count": 15
    }
   ],
   "source": [
    "# Slice rows\n",
    "df[:2]"
   ]
  },
  {
   "cell_type": "code",
   "execution_count": 16,
   "metadata": {},
   "outputs": [
    {
     "output_type": "execute_result",
     "data": {
      "text/plain": [
       "A    0.419706\n",
       "B    0.217923\n",
       "C   -0.757748\n",
       "D   -0.949438\n",
       "Name: 2013-01-02 00:00:00, dtype: float64"
      ]
     },
     "metadata": {},
     "execution_count": 16
    }
   ],
   "source": [
    "# Get a cross section (a series).\n",
    "df.loc[dates[1]]"
   ]
  },
  {
   "source": [
    "display(df.loc[\"2013-01-01\":\"2013-01-03\", [\"A\", \"B\"]])\n"
   ],
   "cell_type": "code",
   "metadata": {},
   "execution_count": 17,
   "outputs": [
    {
     "output_type": "display_data",
     "data": {
      "text/plain": "                   A         B\n2013-01-01  0.305115  0.514672\n2013-01-02  0.419706  0.217923\n2013-01-03 -0.296259  0.501387",
      "text/html": "<div>\n<style scoped>\n    .dataframe tbody tr th:only-of-type {\n        vertical-align: middle;\n    }\n\n    .dataframe tbody tr th {\n        vertical-align: top;\n    }\n\n    .dataframe thead th {\n        text-align: right;\n    }\n</style>\n<table border=\"1\" class=\"dataframe\">\n  <thead>\n    <tr style=\"text-align: right;\">\n      <th></th>\n      <th>A</th>\n      <th>B</th>\n    </tr>\n  </thead>\n  <tbody>\n    <tr>\n      <th>2013-01-01</th>\n      <td>0.305115</td>\n      <td>0.514672</td>\n    </tr>\n    <tr>\n      <th>2013-01-02</th>\n      <td>0.419706</td>\n      <td>0.217923</td>\n    </tr>\n    <tr>\n      <th>2013-01-03</th>\n      <td>-0.296259</td>\n      <td>0.501387</td>\n    </tr>\n  </tbody>\n</table>\n</div>"
     },
     "metadata": {}
    }
   ]
  },
  {
   "cell_type": "code",
   "execution_count": 18,
   "metadata": {},
   "outputs": [
    {
     "output_type": "execute_result",
     "data": {
      "text/plain": [
       "True"
      ]
     },
     "metadata": {},
     "execution_count": 18
    }
   ],
   "source": [
    "# Get a single scalar value. Two methods.\n",
    "df.loc[\"2013-01-01\", \"A\"] == df.at[\"2013-01-01\", \"A\"]"
   ]
  },
  {
   "source": [
    "### Selection by position - iloc"
   ],
   "cell_type": "markdown",
   "metadata": {}
  },
  {
   "cell_type": "code",
   "execution_count": 19,
   "metadata": {},
   "outputs": [
    {
     "output_type": "execute_result",
     "data": {
      "text/plain": [
       "A   -0.544228\n",
       "B    1.105408\n",
       "C   -0.429750\n",
       "D   -0.200137\n",
       "Name: 2013-01-04 00:00:00, dtype: float64"
      ]
     },
     "metadata": {},
     "execution_count": 19
    }
   ],
   "source": [
    "df.iloc[3]"
   ]
  },
  {
   "cell_type": "code",
   "execution_count": 20,
   "metadata": {},
   "outputs": [
    {
     "output_type": "execute_result",
     "data": {
      "text/plain": [
       "                   A         B\n",
       "2013-01-04 -0.544228  1.105408\n",
       "2013-01-05  1.074317 -1.253928"
      ],
      "text/html": "<div>\n<style scoped>\n    .dataframe tbody tr th:only-of-type {\n        vertical-align: middle;\n    }\n\n    .dataframe tbody tr th {\n        vertical-align: top;\n    }\n\n    .dataframe thead th {\n        text-align: right;\n    }\n</style>\n<table border=\"1\" class=\"dataframe\">\n  <thead>\n    <tr style=\"text-align: right;\">\n      <th></th>\n      <th>A</th>\n      <th>B</th>\n    </tr>\n  </thead>\n  <tbody>\n    <tr>\n      <th>2013-01-04</th>\n      <td>-0.544228</td>\n      <td>1.105408</td>\n    </tr>\n    <tr>\n      <th>2013-01-05</th>\n      <td>1.074317</td>\n      <td>-1.253928</td>\n    </tr>\n  </tbody>\n</table>\n</div>"
     },
     "metadata": {},
     "execution_count": 20
    }
   ],
   "source": [
    "df.iloc[3:5, 0:2]"
   ]
  },
  {
   "cell_type": "code",
   "execution_count": 21,
   "metadata": {},
   "outputs": [
    {
     "output_type": "execute_result",
     "data": {
      "text/plain": [
       "                   A         D\n",
       "2013-01-02  0.419706 -0.949438\n",
       "2013-01-03 -0.296259 -0.373503\n",
       "2013-01-05  1.074317  2.158863"
      ],
      "text/html": "<div>\n<style scoped>\n    .dataframe tbody tr th:only-of-type {\n        vertical-align: middle;\n    }\n\n    .dataframe tbody tr th {\n        vertical-align: top;\n    }\n\n    .dataframe thead th {\n        text-align: right;\n    }\n</style>\n<table border=\"1\" class=\"dataframe\">\n  <thead>\n    <tr style=\"text-align: right;\">\n      <th></th>\n      <th>A</th>\n      <th>D</th>\n    </tr>\n  </thead>\n  <tbody>\n    <tr>\n      <th>2013-01-02</th>\n      <td>0.419706</td>\n      <td>-0.949438</td>\n    </tr>\n    <tr>\n      <th>2013-01-03</th>\n      <td>-0.296259</td>\n      <td>-0.373503</td>\n    </tr>\n    <tr>\n      <th>2013-01-05</th>\n      <td>1.074317</td>\n      <td>2.158863</td>\n    </tr>\n  </tbody>\n</table>\n</div>"
     },
     "metadata": {},
     "execution_count": 21
    }
   ],
   "source": [
    "df.iloc[[1,2,4], [0,3]]"
   ]
  },
  {
   "cell_type": "code",
   "execution_count": 22,
   "metadata": {},
   "outputs": [
    {
     "output_type": "execute_result",
     "data": {
      "text/plain": [
       "2013-01-01   -0.051394\n",
       "2013-01-02   -0.949438\n",
       "2013-01-03   -0.373503\n",
       "2013-01-04   -0.200137\n",
       "2013-01-05    2.158863\n",
       "2013-01-06    0.257256\n",
       "Freq: D, Name: D, dtype: float64"
      ]
     },
     "metadata": {},
     "execution_count": 22
    }
   ],
   "source": [
    "df.iloc[:, 3]"
   ]
  },
  {
   "cell_type": "code",
   "execution_count": 23,
   "metadata": {},
   "outputs": [
    {
     "output_type": "execute_result",
     "data": {
      "text/plain": [
       "True"
      ]
     },
     "metadata": {},
     "execution_count": 23
    }
   ],
   "source": [
    "# Selecting a single scalar value by position. Two methods.\n",
    "df.iat[1, 1] == df.iloc[1, 1]"
   ]
  },
  {
   "source": [
    "## Boolean indexing"
   ],
   "cell_type": "markdown",
   "metadata": {}
  },
  {
   "cell_type": "code",
   "execution_count": 24,
   "metadata": {},
   "outputs": [
    {
     "output_type": "execute_result",
     "data": {
      "text/plain": [
       "                   A         B         C         D\n",
       "2013-01-01  0.305115  0.514672 -0.414396 -0.051394\n",
       "2013-01-02  0.419706  0.217923 -0.757748 -0.949438\n",
       "2013-01-05  1.074317 -1.253928 -1.325984  2.158863"
      ],
      "text/html": "<div>\n<style scoped>\n    .dataframe tbody tr th:only-of-type {\n        vertical-align: middle;\n    }\n\n    .dataframe tbody tr th {\n        vertical-align: top;\n    }\n\n    .dataframe thead th {\n        text-align: right;\n    }\n</style>\n<table border=\"1\" class=\"dataframe\">\n  <thead>\n    <tr style=\"text-align: right;\">\n      <th></th>\n      <th>A</th>\n      <th>B</th>\n      <th>C</th>\n      <th>D</th>\n    </tr>\n  </thead>\n  <tbody>\n    <tr>\n      <th>2013-01-01</th>\n      <td>0.305115</td>\n      <td>0.514672</td>\n      <td>-0.414396</td>\n      <td>-0.051394</td>\n    </tr>\n    <tr>\n      <th>2013-01-02</th>\n      <td>0.419706</td>\n      <td>0.217923</td>\n      <td>-0.757748</td>\n      <td>-0.949438</td>\n    </tr>\n    <tr>\n      <th>2013-01-05</th>\n      <td>1.074317</td>\n      <td>-1.253928</td>\n      <td>-1.325984</td>\n      <td>2.158863</td>\n    </tr>\n  </tbody>\n</table>\n</div>"
     },
     "metadata": {},
     "execution_count": 24
    }
   ],
   "source": [
    "# Using values from a single column to filter rows.\n",
    "df[df[\"A\"] > 0]"
   ]
  },
  {
   "cell_type": "code",
   "execution_count": 25,
   "metadata": {},
   "outputs": [
    {
     "output_type": "execute_result",
     "data": {
      "text/plain": [
       "                   A         B         C         D\n",
       "2013-01-01  0.305115  0.514672       NaN       NaN\n",
       "2013-01-02  0.419706  0.217923       NaN       NaN\n",
       "2013-01-03       NaN  0.501387       NaN       NaN\n",
       "2013-01-04       NaN  1.105408       NaN       NaN\n",
       "2013-01-05  1.074317       NaN       NaN  2.158863\n",
       "2013-01-06       NaN  0.565522  0.629644  0.257256"
      ],
      "text/html": "<div>\n<style scoped>\n    .dataframe tbody tr th:only-of-type {\n        vertical-align: middle;\n    }\n\n    .dataframe tbody tr th {\n        vertical-align: top;\n    }\n\n    .dataframe thead th {\n        text-align: right;\n    }\n</style>\n<table border=\"1\" class=\"dataframe\">\n  <thead>\n    <tr style=\"text-align: right;\">\n      <th></th>\n      <th>A</th>\n      <th>B</th>\n      <th>C</th>\n      <th>D</th>\n    </tr>\n  </thead>\n  <tbody>\n    <tr>\n      <th>2013-01-01</th>\n      <td>0.305115</td>\n      <td>0.514672</td>\n      <td>NaN</td>\n      <td>NaN</td>\n    </tr>\n    <tr>\n      <th>2013-01-02</th>\n      <td>0.419706</td>\n      <td>0.217923</td>\n      <td>NaN</td>\n      <td>NaN</td>\n    </tr>\n    <tr>\n      <th>2013-01-03</th>\n      <td>NaN</td>\n      <td>0.501387</td>\n      <td>NaN</td>\n      <td>NaN</td>\n    </tr>\n    <tr>\n      <th>2013-01-04</th>\n      <td>NaN</td>\n      <td>1.105408</td>\n      <td>NaN</td>\n      <td>NaN</td>\n    </tr>\n    <tr>\n      <th>2013-01-05</th>\n      <td>1.074317</td>\n      <td>NaN</td>\n      <td>NaN</td>\n      <td>2.158863</td>\n    </tr>\n    <tr>\n      <th>2013-01-06</th>\n      <td>NaN</td>\n      <td>0.565522</td>\n      <td>0.629644</td>\n      <td>0.257256</td>\n    </tr>\n  </tbody>\n</table>\n</div>"
     },
     "metadata": {},
     "execution_count": 25
    }
   ],
   "source": [
    "# Select values across the entire df.\n",
    "df[df > 0]"
   ]
  },
  {
   "cell_type": "code",
   "execution_count": 26,
   "metadata": {},
   "outputs": [
    {
     "output_type": "execute_result",
     "data": {
      "text/plain": [
       "                   A         B         C         D     E\n",
       "2013-01-03 -0.296259  0.501387 -0.372069 -0.373503   two\n",
       "2013-01-05  1.074317 -1.253928 -1.325984  2.158863  four"
      ],
      "text/html": "<div>\n<style scoped>\n    .dataframe tbody tr th:only-of-type {\n        vertical-align: middle;\n    }\n\n    .dataframe tbody tr th {\n        vertical-align: top;\n    }\n\n    .dataframe thead th {\n        text-align: right;\n    }\n</style>\n<table border=\"1\" class=\"dataframe\">\n  <thead>\n    <tr style=\"text-align: right;\">\n      <th></th>\n      <th>A</th>\n      <th>B</th>\n      <th>C</th>\n      <th>D</th>\n      <th>E</th>\n    </tr>\n  </thead>\n  <tbody>\n    <tr>\n      <th>2013-01-03</th>\n      <td>-0.296259</td>\n      <td>0.501387</td>\n      <td>-0.372069</td>\n      <td>-0.373503</td>\n      <td>two</td>\n    </tr>\n    <tr>\n      <th>2013-01-05</th>\n      <td>1.074317</td>\n      <td>-1.253928</td>\n      <td>-1.325984</td>\n      <td>2.158863</td>\n      <td>four</td>\n    </tr>\n  </tbody>\n</table>\n</div>"
     },
     "metadata": {},
     "execution_count": 26
    }
   ],
   "source": [
    "# Filtering using `isin` method.\n",
    "df2 = df.copy()\n",
    "df2[\"E\"] = [\"one\", \"one\", \"two\", \"three\", \"four\", \"three\"]\n",
    "df2[df2[\"E\"].isin([\"two\", \"four\"])]"
   ]
  },
  {
   "source": [
    "### Setting"
   ],
   "cell_type": "markdown",
   "metadata": {}
  },
  {
   "cell_type": "code",
   "execution_count": 27,
   "metadata": {},
   "outputs": [
    {
     "output_type": "execute_result",
     "data": {
      "text/plain": [
       "2013-01-01    NaN\n",
       "2013-01-02    1.0\n",
       "2013-01-03    2.0\n",
       "2013-01-04    3.0\n",
       "2013-01-05    4.0\n",
       "2013-01-06    5.0\n",
       "Freq: D, Name: F, dtype: float64"
      ]
     },
     "metadata": {},
     "execution_count": 27
    }
   ],
   "source": [
    "s1 = pd.Series(list(range(1,7)), index=pd.date_range(\"2013-01-02\", periods=6))\n",
    "df[\"F\"] = s1\n",
    "df[\"F\"]"
   ]
  },
  {
   "cell_type": "code",
   "execution_count": 28,
   "metadata": {},
   "outputs": [],
   "source": [
    "# Set value by label.\n",
    "df.at[dates[0], \"A\"] = 0\n",
    "# And by position.\n",
    "df.iat[0, 1] = 0"
   ]
  },
  {
   "cell_type": "code",
   "execution_count": 29,
   "metadata": {},
   "outputs": [
    {
     "output_type": "execute_result",
     "data": {
      "text/plain": [
       "                   A         B         C  D    F\n",
       "2013-01-01  0.000000  0.000000 -0.414396  5  NaN\n",
       "2013-01-02  0.419706  0.217923 -0.757748  5  1.0\n",
       "2013-01-03 -0.296259  0.501387 -0.372069  5  2.0\n",
       "2013-01-04 -0.544228  1.105408 -0.429750  5  3.0\n",
       "2013-01-05  1.074317 -1.253928 -1.325984  5  4.0\n",
       "2013-01-06 -1.199020  0.565522  0.629644  5  5.0"
      ],
      "text/html": "<div>\n<style scoped>\n    .dataframe tbody tr th:only-of-type {\n        vertical-align: middle;\n    }\n\n    .dataframe tbody tr th {\n        vertical-align: top;\n    }\n\n    .dataframe thead th {\n        text-align: right;\n    }\n</style>\n<table border=\"1\" class=\"dataframe\">\n  <thead>\n    <tr style=\"text-align: right;\">\n      <th></th>\n      <th>A</th>\n      <th>B</th>\n      <th>C</th>\n      <th>D</th>\n      <th>F</th>\n    </tr>\n  </thead>\n  <tbody>\n    <tr>\n      <th>2013-01-01</th>\n      <td>0.000000</td>\n      <td>0.000000</td>\n      <td>-0.414396</td>\n      <td>5</td>\n      <td>NaN</td>\n    </tr>\n    <tr>\n      <th>2013-01-02</th>\n      <td>0.419706</td>\n      <td>0.217923</td>\n      <td>-0.757748</td>\n      <td>5</td>\n      <td>1.0</td>\n    </tr>\n    <tr>\n      <th>2013-01-03</th>\n      <td>-0.296259</td>\n      <td>0.501387</td>\n      <td>-0.372069</td>\n      <td>5</td>\n      <td>2.0</td>\n    </tr>\n    <tr>\n      <th>2013-01-04</th>\n      <td>-0.544228</td>\n      <td>1.105408</td>\n      <td>-0.429750</td>\n      <td>5</td>\n      <td>3.0</td>\n    </tr>\n    <tr>\n      <th>2013-01-05</th>\n      <td>1.074317</td>\n      <td>-1.253928</td>\n      <td>-1.325984</td>\n      <td>5</td>\n      <td>4.0</td>\n    </tr>\n    <tr>\n      <th>2013-01-06</th>\n      <td>-1.199020</td>\n      <td>0.565522</td>\n      <td>0.629644</td>\n      <td>5</td>\n      <td>5.0</td>\n    </tr>\n  </tbody>\n</table>\n</div>"
     },
     "metadata": {},
     "execution_count": 29
    }
   ],
   "source": [
    "# Setting by assigning a numpy array.\n",
    "df.loc[:, \"D\"] = np.array([5] * len(df))\n",
    "df"
   ]
  },
  {
   "cell_type": "code",
   "execution_count": 30,
   "metadata": {},
   "outputs": [
    {
     "output_type": "execute_result",
     "data": {
      "text/plain": [
       "                   A         B         C  D    F\n",
       "2013-01-01  0.000000  0.000000 -0.414396 -5  NaN\n",
       "2013-01-02 -0.419706 -0.217923 -0.757748 -5 -1.0\n",
       "2013-01-03 -0.296259 -0.501387 -0.372069 -5 -2.0\n",
       "2013-01-04 -0.544228 -1.105408 -0.429750 -5 -3.0\n",
       "2013-01-05 -1.074317 -1.253928 -1.325984 -5 -4.0\n",
       "2013-01-06 -1.199020 -0.565522 -0.629644 -5 -5.0"
      ],
      "text/html": "<div>\n<style scoped>\n    .dataframe tbody tr th:only-of-type {\n        vertical-align: middle;\n    }\n\n    .dataframe tbody tr th {\n        vertical-align: top;\n    }\n\n    .dataframe thead th {\n        text-align: right;\n    }\n</style>\n<table border=\"1\" class=\"dataframe\">\n  <thead>\n    <tr style=\"text-align: right;\">\n      <th></th>\n      <th>A</th>\n      <th>B</th>\n      <th>C</th>\n      <th>D</th>\n      <th>F</th>\n    </tr>\n  </thead>\n  <tbody>\n    <tr>\n      <th>2013-01-01</th>\n      <td>0.000000</td>\n      <td>0.000000</td>\n      <td>-0.414396</td>\n      <td>-5</td>\n      <td>NaN</td>\n    </tr>\n    <tr>\n      <th>2013-01-02</th>\n      <td>-0.419706</td>\n      <td>-0.217923</td>\n      <td>-0.757748</td>\n      <td>-5</td>\n      <td>-1.0</td>\n    </tr>\n    <tr>\n      <th>2013-01-03</th>\n      <td>-0.296259</td>\n      <td>-0.501387</td>\n      <td>-0.372069</td>\n      <td>-5</td>\n      <td>-2.0</td>\n    </tr>\n    <tr>\n      <th>2013-01-04</th>\n      <td>-0.544228</td>\n      <td>-1.105408</td>\n      <td>-0.429750</td>\n      <td>-5</td>\n      <td>-3.0</td>\n    </tr>\n    <tr>\n      <th>2013-01-05</th>\n      <td>-1.074317</td>\n      <td>-1.253928</td>\n      <td>-1.325984</td>\n      <td>-5</td>\n      <td>-4.0</td>\n    </tr>\n    <tr>\n      <th>2013-01-06</th>\n      <td>-1.199020</td>\n      <td>-0.565522</td>\n      <td>-0.629644</td>\n      <td>-5</td>\n      <td>-5.0</td>\n    </tr>\n  </tbody>\n</table>\n</div>"
     },
     "metadata": {},
     "execution_count": 30
    }
   ],
   "source": [
    "# Using `where` method to set only certain values.\n",
    "df3 = df.copy()\n",
    "df3[df3 > 0] = -df3\n",
    "df3"
   ]
  },
  {
   "source": [
    "## Missing data"
   ],
   "cell_type": "markdown",
   "metadata": {}
  },
  {
   "cell_type": "code",
   "execution_count": 31,
   "metadata": {},
   "outputs": [
    {
     "output_type": "execute_result",
     "data": {
      "text/plain": [
       "                   A         B         C  D    F   E\n",
       "2013-01-01  0.000000  0.000000 -0.414396  5  NaN NaN\n",
       "2013-01-02  0.419706  0.217923 -0.757748  5  1.0 NaN\n",
       "2013-01-03 -0.296259  0.501387 -0.372069  5  2.0 NaN\n",
       "2013-01-04 -0.544228  1.105408 -0.429750  5  3.0 NaN"
      ],
      "text/html": "<div>\n<style scoped>\n    .dataframe tbody tr th:only-of-type {\n        vertical-align: middle;\n    }\n\n    .dataframe tbody tr th {\n        vertical-align: top;\n    }\n\n    .dataframe thead th {\n        text-align: right;\n    }\n</style>\n<table border=\"1\" class=\"dataframe\">\n  <thead>\n    <tr style=\"text-align: right;\">\n      <th></th>\n      <th>A</th>\n      <th>B</th>\n      <th>C</th>\n      <th>D</th>\n      <th>F</th>\n      <th>E</th>\n    </tr>\n  </thead>\n  <tbody>\n    <tr>\n      <th>2013-01-01</th>\n      <td>0.000000</td>\n      <td>0.000000</td>\n      <td>-0.414396</td>\n      <td>5</td>\n      <td>NaN</td>\n      <td>NaN</td>\n    </tr>\n    <tr>\n      <th>2013-01-02</th>\n      <td>0.419706</td>\n      <td>0.217923</td>\n      <td>-0.757748</td>\n      <td>5</td>\n      <td>1.0</td>\n      <td>NaN</td>\n    </tr>\n    <tr>\n      <th>2013-01-03</th>\n      <td>-0.296259</td>\n      <td>0.501387</td>\n      <td>-0.372069</td>\n      <td>5</td>\n      <td>2.0</td>\n      <td>NaN</td>\n    </tr>\n    <tr>\n      <th>2013-01-04</th>\n      <td>-0.544228</td>\n      <td>1.105408</td>\n      <td>-0.429750</td>\n      <td>5</td>\n      <td>3.0</td>\n      <td>NaN</td>\n    </tr>\n  </tbody>\n</table>\n</div>"
     },
     "metadata": {},
     "execution_count": 31
    }
   ],
   "source": [
    "df1 = df.reindex(index=dates[0:4], columns=(df.columns.to_list() + [\"E\"]))\n",
    "df1"
   ]
  },
  {
   "cell_type": "code",
   "execution_count": 32,
   "metadata": {},
   "outputs": [
    {
     "output_type": "display_data",
     "data": {
      "text/plain": "                   A         B         C  D    F    E\n2013-01-01  0.000000  0.000000 -0.414396  5  NaN  1.0\n2013-01-02  0.419706  0.217923 -0.757748  5  1.0  1.0\n2013-01-03 -0.296259  0.501387 -0.372069  5  2.0  NaN\n2013-01-04 -0.544228  1.105408 -0.429750  5  3.0  NaN",
      "text/html": "<div>\n<style scoped>\n    .dataframe tbody tr th:only-of-type {\n        vertical-align: middle;\n    }\n\n    .dataframe tbody tr th {\n        vertical-align: top;\n    }\n\n    .dataframe thead th {\n        text-align: right;\n    }\n</style>\n<table border=\"1\" class=\"dataframe\">\n  <thead>\n    <tr style=\"text-align: right;\">\n      <th></th>\n      <th>A</th>\n      <th>B</th>\n      <th>C</th>\n      <th>D</th>\n      <th>F</th>\n      <th>E</th>\n    </tr>\n  </thead>\n  <tbody>\n    <tr>\n      <th>2013-01-01</th>\n      <td>0.000000</td>\n      <td>0.000000</td>\n      <td>-0.414396</td>\n      <td>5</td>\n      <td>NaN</td>\n      <td>1.0</td>\n    </tr>\n    <tr>\n      <th>2013-01-02</th>\n      <td>0.419706</td>\n      <td>0.217923</td>\n      <td>-0.757748</td>\n      <td>5</td>\n      <td>1.0</td>\n      <td>1.0</td>\n    </tr>\n    <tr>\n      <th>2013-01-03</th>\n      <td>-0.296259</td>\n      <td>0.501387</td>\n      <td>-0.372069</td>\n      <td>5</td>\n      <td>2.0</td>\n      <td>NaN</td>\n    </tr>\n    <tr>\n      <th>2013-01-04</th>\n      <td>-0.544228</td>\n      <td>1.105408</td>\n      <td>-0.429750</td>\n      <td>5</td>\n      <td>3.0</td>\n      <td>NaN</td>\n    </tr>\n  </tbody>\n</table>\n</div>"
     },
     "metadata": {}
    },
    {
     "output_type": "display_data",
     "data": {
      "text/plain": "                   A         B         C  D    F    E\n2013-01-02  0.419706  0.217923 -0.757748  5  1.0  1.0",
      "text/html": "<div>\n<style scoped>\n    .dataframe tbody tr th:only-of-type {\n        vertical-align: middle;\n    }\n\n    .dataframe tbody tr th {\n        vertical-align: top;\n    }\n\n    .dataframe thead th {\n        text-align: right;\n    }\n</style>\n<table border=\"1\" class=\"dataframe\">\n  <thead>\n    <tr style=\"text-align: right;\">\n      <th></th>\n      <th>A</th>\n      <th>B</th>\n      <th>C</th>\n      <th>D</th>\n      <th>F</th>\n      <th>E</th>\n    </tr>\n  </thead>\n  <tbody>\n    <tr>\n      <th>2013-01-02</th>\n      <td>0.419706</td>\n      <td>0.217923</td>\n      <td>-0.757748</td>\n      <td>5</td>\n      <td>1.0</td>\n      <td>1.0</td>\n    </tr>\n  </tbody>\n</table>\n</div>"
     },
     "metadata": {}
    }
   ],
   "source": [
    "# Drop missing data.\n",
    "df1.loc[dates[:2], \"E\"] = 1\n",
    "display(df1)\n",
    "display(df1.dropna(how='any'))"
   ]
  },
  {
   "cell_type": "code",
   "execution_count": 33,
   "metadata": {},
   "outputs": [
    {
     "output_type": "execute_result",
     "data": {
      "text/plain": [
       "                   A         B         C  D    F    E\n",
       "2013-01-01  0.000000  0.000000 -0.414396  5  5.0  1.0\n",
       "2013-01-02  0.419706  0.217923 -0.757748  5  1.0  1.0\n",
       "2013-01-03 -0.296259  0.501387 -0.372069  5  2.0  5.0\n",
       "2013-01-04 -0.544228  1.105408 -0.429750  5  3.0  5.0"
      ],
      "text/html": "<div>\n<style scoped>\n    .dataframe tbody tr th:only-of-type {\n        vertical-align: middle;\n    }\n\n    .dataframe tbody tr th {\n        vertical-align: top;\n    }\n\n    .dataframe thead th {\n        text-align: right;\n    }\n</style>\n<table border=\"1\" class=\"dataframe\">\n  <thead>\n    <tr style=\"text-align: right;\">\n      <th></th>\n      <th>A</th>\n      <th>B</th>\n      <th>C</th>\n      <th>D</th>\n      <th>F</th>\n      <th>E</th>\n    </tr>\n  </thead>\n  <tbody>\n    <tr>\n      <th>2013-01-01</th>\n      <td>0.000000</td>\n      <td>0.000000</td>\n      <td>-0.414396</td>\n      <td>5</td>\n      <td>5.0</td>\n      <td>1.0</td>\n    </tr>\n    <tr>\n      <th>2013-01-02</th>\n      <td>0.419706</td>\n      <td>0.217923</td>\n      <td>-0.757748</td>\n      <td>5</td>\n      <td>1.0</td>\n      <td>1.0</td>\n    </tr>\n    <tr>\n      <th>2013-01-03</th>\n      <td>-0.296259</td>\n      <td>0.501387</td>\n      <td>-0.372069</td>\n      <td>5</td>\n      <td>2.0</td>\n      <td>5.0</td>\n    </tr>\n    <tr>\n      <th>2013-01-04</th>\n      <td>-0.544228</td>\n      <td>1.105408</td>\n      <td>-0.429750</td>\n      <td>5</td>\n      <td>3.0</td>\n      <td>5.0</td>\n    </tr>\n  </tbody>\n</table>\n</div>"
     },
     "metadata": {},
     "execution_count": 33
    }
   ],
   "source": [
    "# Fill missing data.\n",
    "df1.fillna(value=5)"
   ]
  },
  {
   "source": [
    "## Operations"
   ],
   "cell_type": "markdown",
   "metadata": {}
  },
  {
   "cell_type": "code",
   "execution_count": 34,
   "metadata": {},
   "outputs": [
    {
     "output_type": "display_data",
     "data": {
      "text/plain": "A   -0.090914\nB    0.189385\nC   -0.445051\nD    5.000000\nF    3.000000\ndtype: float64"
     },
     "metadata": {}
    },
    {
     "output_type": "display_data",
     "data": {
      "text/plain": "2013-01-01    1.146401\n2013-01-02    1.175976\n2013-01-03    1.366612\n2013-01-04    1.626286\n2013-01-05    1.498881\n2013-01-06    1.999229\nFreq: D, dtype: float64"
     },
     "metadata": {}
    }
   ],
   "source": [
    "# Stats on entire DF.\n",
    "display(df.mean())\n",
    "# Stats on another axis.\n",
    "display(df.mean(axis=1))"
   ]
  },
  {
   "cell_type": "code",
   "execution_count": 35,
   "metadata": {},
   "outputs": [
    {
     "output_type": "display_data",
     "data": {
      "text/plain": "2013-01-01    NaN\n2013-01-02    NaN\n2013-01-03    1.0\n2013-01-04    3.0\n2013-01-05    5.0\n2013-01-06    NaN\nFreq: D, dtype: float64"
     },
     "metadata": {}
    },
    {
     "output_type": "execute_result",
     "data": {
      "text/plain": [
       "                   A         B         C    D    F\n",
       "2013-01-01       NaN       NaN       NaN  NaN  NaN\n",
       "2013-01-02       NaN       NaN       NaN  NaN  NaN\n",
       "2013-01-03 -1.296259 -0.498613 -1.372069  4.0  1.0\n",
       "2013-01-04 -3.544228 -1.894592 -3.429750  2.0  0.0\n",
       "2013-01-05 -3.925683 -6.253928 -6.325984  0.0 -1.0\n",
       "2013-01-06       NaN       NaN       NaN  NaN  NaN"
      ],
      "text/html": "<div>\n<style scoped>\n    .dataframe tbody tr th:only-of-type {\n        vertical-align: middle;\n    }\n\n    .dataframe tbody tr th {\n        vertical-align: top;\n    }\n\n    .dataframe thead th {\n        text-align: right;\n    }\n</style>\n<table border=\"1\" class=\"dataframe\">\n  <thead>\n    <tr style=\"text-align: right;\">\n      <th></th>\n      <th>A</th>\n      <th>B</th>\n      <th>C</th>\n      <th>D</th>\n      <th>F</th>\n    </tr>\n  </thead>\n  <tbody>\n    <tr>\n      <th>2013-01-01</th>\n      <td>NaN</td>\n      <td>NaN</td>\n      <td>NaN</td>\n      <td>NaN</td>\n      <td>NaN</td>\n    </tr>\n    <tr>\n      <th>2013-01-02</th>\n      <td>NaN</td>\n      <td>NaN</td>\n      <td>NaN</td>\n      <td>NaN</td>\n      <td>NaN</td>\n    </tr>\n    <tr>\n      <th>2013-01-03</th>\n      <td>-1.296259</td>\n      <td>-0.498613</td>\n      <td>-1.372069</td>\n      <td>4.0</td>\n      <td>1.0</td>\n    </tr>\n    <tr>\n      <th>2013-01-04</th>\n      <td>-3.544228</td>\n      <td>-1.894592</td>\n      <td>-3.429750</td>\n      <td>2.0</td>\n      <td>0.0</td>\n    </tr>\n    <tr>\n      <th>2013-01-05</th>\n      <td>-3.925683</td>\n      <td>-6.253928</td>\n      <td>-6.325984</td>\n      <td>0.0</td>\n      <td>-1.0</td>\n    </tr>\n    <tr>\n      <th>2013-01-06</th>\n      <td>NaN</td>\n      <td>NaN</td>\n      <td>NaN</td>\n      <td>NaN</td>\n      <td>NaN</td>\n    </tr>\n  </tbody>\n</table>\n</div>"
     },
     "metadata": {},
     "execution_count": 35
    }
   ],
   "source": [
    "s = pd.Series([1,3,5,np.nan,6,8], index=dates).shift(2)\n",
    "display(s)\n",
    "# Broadcast the operation over the specified axis.\n",
    "df.sub(s, axis='index')"
   ]
  },
  {
   "cell_type": "code",
   "execution_count": 36,
   "metadata": {},
   "outputs": [
    {
     "output_type": "display_data",
     "data": {
      "text/plain": "                   A         B         C   D     F\n2013-01-01  0.000000  0.000000 -0.414396   5   NaN\n2013-01-02  0.419706  0.217923 -1.172144  10   1.0\n2013-01-03  0.123447  0.719310 -1.544213  15   3.0\n2013-01-04 -0.420782  1.824718 -1.973963  20   6.0\n2013-01-05  0.653535  0.570790 -3.299948  25  10.0\n2013-01-06 -0.545485  1.136312 -2.670303  30  15.0",
      "text/html": "<div>\n<style scoped>\n    .dataframe tbody tr th:only-of-type {\n        vertical-align: middle;\n    }\n\n    .dataframe tbody tr th {\n        vertical-align: top;\n    }\n\n    .dataframe thead th {\n        text-align: right;\n    }\n</style>\n<table border=\"1\" class=\"dataframe\">\n  <thead>\n    <tr style=\"text-align: right;\">\n      <th></th>\n      <th>A</th>\n      <th>B</th>\n      <th>C</th>\n      <th>D</th>\n      <th>F</th>\n    </tr>\n  </thead>\n  <tbody>\n    <tr>\n      <th>2013-01-01</th>\n      <td>0.000000</td>\n      <td>0.000000</td>\n      <td>-0.414396</td>\n      <td>5</td>\n      <td>NaN</td>\n    </tr>\n    <tr>\n      <th>2013-01-02</th>\n      <td>0.419706</td>\n      <td>0.217923</td>\n      <td>-1.172144</td>\n      <td>10</td>\n      <td>1.0</td>\n    </tr>\n    <tr>\n      <th>2013-01-03</th>\n      <td>0.123447</td>\n      <td>0.719310</td>\n      <td>-1.544213</td>\n      <td>15</td>\n      <td>3.0</td>\n    </tr>\n    <tr>\n      <th>2013-01-04</th>\n      <td>-0.420782</td>\n      <td>1.824718</td>\n      <td>-1.973963</td>\n      <td>20</td>\n      <td>6.0</td>\n    </tr>\n    <tr>\n      <th>2013-01-05</th>\n      <td>0.653535</td>\n      <td>0.570790</td>\n      <td>-3.299948</td>\n      <td>25</td>\n      <td>10.0</td>\n    </tr>\n    <tr>\n      <th>2013-01-06</th>\n      <td>-0.545485</td>\n      <td>1.136312</td>\n      <td>-2.670303</td>\n      <td>30</td>\n      <td>15.0</td>\n    </tr>\n  </tbody>\n</table>\n</div>"
     },
     "metadata": {}
    },
    {
     "output_type": "display_data",
     "data": {
      "text/plain": "A    2.273337\nB    2.359336\nC    1.955629\nD    0.000000\nF    4.000000\ndtype: float64"
     },
     "metadata": {}
    }
   ],
   "source": [
    "# Applying functions.\n",
    "display(df.apply(np.cumsum))\n",
    "# `x` will be an entire series.\n",
    "display(df.apply(lambda x: x.max() - x.min()))"
   ]
  },
  {
   "cell_type": "code",
   "execution_count": 37,
   "metadata": {},
   "outputs": [
    {
     "output_type": "execute_result",
     "data": {
      "text/plain": [
       "3    3\n",
       "1    2\n",
       "5    2\n",
       "0    1\n",
       "4    1\n",
       "6    1\n",
       "dtype: int64"
      ]
     },
     "metadata": {},
     "execution_count": 37
    }
   ],
   "source": [
    "# Histogramming.\n",
    "s = pd.Series(np.random.randint(0, 7, size=10))\n",
    "s.value_counts()"
   ]
  },
  {
   "source": [
    "## String operations."
   ],
   "cell_type": "markdown",
   "metadata": {}
  },
  {
   "cell_type": "code",
   "execution_count": 38,
   "metadata": {},
   "outputs": [
    {
     "output_type": "execute_result",
     "data": {
      "text/plain": [
       "True"
      ]
     },
     "metadata": {},
     "execution_count": 38
    }
   ],
   "source": [
    "df = pd.DataFrame(np.random.randn(10, 4))\n",
    "# Break it into pieces.\n",
    "parts = [df[:3], df[3:7], df[7:]]\n",
    "pd.concat(parts).equals(df)"
   ]
  },
  {
   "cell_type": "code",
   "execution_count": 39,
   "metadata": {},
   "outputs": [
    {
     "output_type": "execute_result",
     "data": {
      "text/plain": [
       "   key  lval  rval\n",
       "0  foo     1     4\n",
       "1  foo     1     5\n",
       "2  foo     2     4\n",
       "3  foo     2     5"
      ],
      "text/html": "<div>\n<style scoped>\n    .dataframe tbody tr th:only-of-type {\n        vertical-align: middle;\n    }\n\n    .dataframe tbody tr th {\n        vertical-align: top;\n    }\n\n    .dataframe thead th {\n        text-align: right;\n    }\n</style>\n<table border=\"1\" class=\"dataframe\">\n  <thead>\n    <tr style=\"text-align: right;\">\n      <th></th>\n      <th>key</th>\n      <th>lval</th>\n      <th>rval</th>\n    </tr>\n  </thead>\n  <tbody>\n    <tr>\n      <th>0</th>\n      <td>foo</td>\n      <td>1</td>\n      <td>4</td>\n    </tr>\n    <tr>\n      <th>1</th>\n      <td>foo</td>\n      <td>1</td>\n      <td>5</td>\n    </tr>\n    <tr>\n      <th>2</th>\n      <td>foo</td>\n      <td>2</td>\n      <td>4</td>\n    </tr>\n    <tr>\n      <th>3</th>\n      <td>foo</td>\n      <td>2</td>\n      <td>5</td>\n    </tr>\n  </tbody>\n</table>\n</div>"
     },
     "metadata": {},
     "execution_count": 39
    }
   ],
   "source": [
    "# SQL-style merging.\n",
    "left = pd.DataFrame({\"key\": [\"foo\", \"foo\"], \"lval\": [1, 2]})\n",
    "right = pd.DataFrame({\"key\": [\"foo\", \"foo\"], \"rval\": [4, 5]})\n",
    "pd.merge(left, right, on=\"key\")"
   ]
  },
  {
   "source": [
    "## Grouping"
   ],
   "cell_type": "markdown",
   "metadata": {}
  },
  {
   "cell_type": "code",
   "execution_count": 40,
   "metadata": {},
   "outputs": [
    {
     "output_type": "execute_result",
     "data": {
      "text/plain": [
       "     A      B         C         D\n",
       "0  foo    one -2.728980  1.032619\n",
       "1  bar    one  0.922517 -1.280616\n",
       "2  foo    two  1.510180 -1.458203\n",
       "3  bar  three  1.778901  0.020654\n",
       "4  foo    two -0.597597  1.019825\n",
       "5  bar    two  0.124880  1.304291\n",
       "6  foo    one  0.616295  1.063744\n",
       "7  foo  three -0.288373  1.422963"
      ],
      "text/html": "<div>\n<style scoped>\n    .dataframe tbody tr th:only-of-type {\n        vertical-align: middle;\n    }\n\n    .dataframe tbody tr th {\n        vertical-align: top;\n    }\n\n    .dataframe thead th {\n        text-align: right;\n    }\n</style>\n<table border=\"1\" class=\"dataframe\">\n  <thead>\n    <tr style=\"text-align: right;\">\n      <th></th>\n      <th>A</th>\n      <th>B</th>\n      <th>C</th>\n      <th>D</th>\n    </tr>\n  </thead>\n  <tbody>\n    <tr>\n      <th>0</th>\n      <td>foo</td>\n      <td>one</td>\n      <td>-2.728980</td>\n      <td>1.032619</td>\n    </tr>\n    <tr>\n      <th>1</th>\n      <td>bar</td>\n      <td>one</td>\n      <td>0.922517</td>\n      <td>-1.280616</td>\n    </tr>\n    <tr>\n      <th>2</th>\n      <td>foo</td>\n      <td>two</td>\n      <td>1.510180</td>\n      <td>-1.458203</td>\n    </tr>\n    <tr>\n      <th>3</th>\n      <td>bar</td>\n      <td>three</td>\n      <td>1.778901</td>\n      <td>0.020654</td>\n    </tr>\n    <tr>\n      <th>4</th>\n      <td>foo</td>\n      <td>two</td>\n      <td>-0.597597</td>\n      <td>1.019825</td>\n    </tr>\n    <tr>\n      <th>5</th>\n      <td>bar</td>\n      <td>two</td>\n      <td>0.124880</td>\n      <td>1.304291</td>\n    </tr>\n    <tr>\n      <th>6</th>\n      <td>foo</td>\n      <td>one</td>\n      <td>0.616295</td>\n      <td>1.063744</td>\n    </tr>\n    <tr>\n      <th>7</th>\n      <td>foo</td>\n      <td>three</td>\n      <td>-0.288373</td>\n      <td>1.422963</td>\n    </tr>\n  </tbody>\n</table>\n</div>"
     },
     "metadata": {},
     "execution_count": 40
    }
   ],
   "source": [
    "df = pd.DataFrame(\n",
    "   {\n",
    "       \"A\": [\"foo\", \"bar\", \"foo\", \"bar\", \"foo\", \"bar\", \"foo\", \"foo\"],\n",
    "       \"B\": [\"one\", \"one\", \"two\", \"three\", \"two\", \"two\", \"one\", \"three\"],\n",
    "       \"C\": np.random.randn(8),\n",
    "       \"D\": np.random.randn(8),\n",
    "   }\n",
    ")\n",
    "df"
   ]
  },
  {
   "cell_type": "code",
   "execution_count": 41,
   "metadata": {},
   "outputs": [
    {
     "output_type": "display_data",
     "data": {
      "text/plain": "            C         D\nA                      \nbar  2.826299  0.044330\nfoo -1.488474  3.080947",
      "text/html": "<div>\n<style scoped>\n    .dataframe tbody tr th:only-of-type {\n        vertical-align: middle;\n    }\n\n    .dataframe tbody tr th {\n        vertical-align: top;\n    }\n\n    .dataframe thead th {\n        text-align: right;\n    }\n</style>\n<table border=\"1\" class=\"dataframe\">\n  <thead>\n    <tr style=\"text-align: right;\">\n      <th></th>\n      <th>C</th>\n      <th>D</th>\n    </tr>\n    <tr>\n      <th>A</th>\n      <th></th>\n      <th></th>\n    </tr>\n  </thead>\n  <tbody>\n    <tr>\n      <th>bar</th>\n      <td>2.826299</td>\n      <td>0.044330</td>\n    </tr>\n    <tr>\n      <th>foo</th>\n      <td>-1.488474</td>\n      <td>3.080947</td>\n    </tr>\n  </tbody>\n</table>\n</div>"
     },
     "metadata": {}
    },
    {
     "output_type": "display_data",
     "data": {
      "text/plain": "                  C         D\nA   B                        \nbar one    0.922517 -1.280616\n    three  1.778901  0.020654\n    two    0.124880  1.304291\nfoo one   -2.112685  2.096362\n    three -0.288373  1.422963\n    two    0.912583 -0.438378",
      "text/html": "<div>\n<style scoped>\n    .dataframe tbody tr th:only-of-type {\n        vertical-align: middle;\n    }\n\n    .dataframe tbody tr th {\n        vertical-align: top;\n    }\n\n    .dataframe thead th {\n        text-align: right;\n    }\n</style>\n<table border=\"1\" class=\"dataframe\">\n  <thead>\n    <tr style=\"text-align: right;\">\n      <th></th>\n      <th></th>\n      <th>C</th>\n      <th>D</th>\n    </tr>\n    <tr>\n      <th>A</th>\n      <th>B</th>\n      <th></th>\n      <th></th>\n    </tr>\n  </thead>\n  <tbody>\n    <tr>\n      <th rowspan=\"3\" valign=\"top\">bar</th>\n      <th>one</th>\n      <td>0.922517</td>\n      <td>-1.280616</td>\n    </tr>\n    <tr>\n      <th>three</th>\n      <td>1.778901</td>\n      <td>0.020654</td>\n    </tr>\n    <tr>\n      <th>two</th>\n      <td>0.124880</td>\n      <td>1.304291</td>\n    </tr>\n    <tr>\n      <th rowspan=\"3\" valign=\"top\">foo</th>\n      <th>one</th>\n      <td>-2.112685</td>\n      <td>2.096362</td>\n    </tr>\n    <tr>\n      <th>three</th>\n      <td>-0.288373</td>\n      <td>1.422963</td>\n    </tr>\n    <tr>\n      <th>two</th>\n      <td>0.912583</td>\n      <td>-0.438378</td>\n    </tr>\n  </tbody>\n</table>\n</div>"
     },
     "metadata": {}
    }
   ],
   "source": [
    "# SQL-style grouping.\n",
    "display(df.groupby(\"A\").sum())\n",
    "display(df.groupby([\"A\", \"B\"]).sum())"
   ]
  },
  {
   "source": [
    "## Reshaping"
   ],
   "cell_type": "markdown",
   "metadata": {}
  },
  {
   "cell_type": "code",
   "execution_count": 47,
   "metadata": {},
   "outputs": [
    {
     "output_type": "display_data",
     "data": {
      "text/plain": "                     A         B\nfirst second                    \nbar   one    -0.925041 -0.916813\n      two     1.086500 -0.492557\nbaz   one     1.674912 -1.796109\n      two    -0.746735 -2.229146\nfoo   one     1.417272  1.210723\n      two    -1.070085  0.855508\nqux   one     0.281814 -1.474978\n      two    -0.411902  0.260217",
      "text/html": "<div>\n<style scoped>\n    .dataframe tbody tr th:only-of-type {\n        vertical-align: middle;\n    }\n\n    .dataframe tbody tr th {\n        vertical-align: top;\n    }\n\n    .dataframe thead th {\n        text-align: right;\n    }\n</style>\n<table border=\"1\" class=\"dataframe\">\n  <thead>\n    <tr style=\"text-align: right;\">\n      <th></th>\n      <th></th>\n      <th>A</th>\n      <th>B</th>\n    </tr>\n    <tr>\n      <th>first</th>\n      <th>second</th>\n      <th></th>\n      <th></th>\n    </tr>\n  </thead>\n  <tbody>\n    <tr>\n      <th rowspan=\"2\" valign=\"top\">bar</th>\n      <th>one</th>\n      <td>-0.925041</td>\n      <td>-0.916813</td>\n    </tr>\n    <tr>\n      <th>two</th>\n      <td>1.086500</td>\n      <td>-0.492557</td>\n    </tr>\n    <tr>\n      <th rowspan=\"2\" valign=\"top\">baz</th>\n      <th>one</th>\n      <td>1.674912</td>\n      <td>-1.796109</td>\n    </tr>\n    <tr>\n      <th>two</th>\n      <td>-0.746735</td>\n      <td>-2.229146</td>\n    </tr>\n    <tr>\n      <th rowspan=\"2\" valign=\"top\">foo</th>\n      <th>one</th>\n      <td>1.417272</td>\n      <td>1.210723</td>\n    </tr>\n    <tr>\n      <th>two</th>\n      <td>-1.070085</td>\n      <td>0.855508</td>\n    </tr>\n    <tr>\n      <th rowspan=\"2\" valign=\"top\">qux</th>\n      <th>one</th>\n      <td>0.281814</td>\n      <td>-1.474978</td>\n    </tr>\n    <tr>\n      <th>two</th>\n      <td>-0.411902</td>\n      <td>0.260217</td>\n    </tr>\n  </tbody>\n</table>\n</div>"
     },
     "metadata": {}
    },
    {
     "output_type": "display_data",
     "data": {
      "text/plain": "                     A         B\nfirst second                    \nbar   one    -0.925041 -0.916813\n      two     1.086500 -0.492557\nbaz   one     1.674912 -1.796109\n      two    -0.746735 -2.229146",
      "text/html": "<div>\n<style scoped>\n    .dataframe tbody tr th:only-of-type {\n        vertical-align: middle;\n    }\n\n    .dataframe tbody tr th {\n        vertical-align: top;\n    }\n\n    .dataframe thead th {\n        text-align: right;\n    }\n</style>\n<table border=\"1\" class=\"dataframe\">\n  <thead>\n    <tr style=\"text-align: right;\">\n      <th></th>\n      <th></th>\n      <th>A</th>\n      <th>B</th>\n    </tr>\n    <tr>\n      <th>first</th>\n      <th>second</th>\n      <th></th>\n      <th></th>\n    </tr>\n  </thead>\n  <tbody>\n    <tr>\n      <th rowspan=\"2\" valign=\"top\">bar</th>\n      <th>one</th>\n      <td>-0.925041</td>\n      <td>-0.916813</td>\n    </tr>\n    <tr>\n      <th>two</th>\n      <td>1.086500</td>\n      <td>-0.492557</td>\n    </tr>\n    <tr>\n      <th rowspan=\"2\" valign=\"top\">baz</th>\n      <th>one</th>\n      <td>1.674912</td>\n      <td>-1.796109</td>\n    </tr>\n    <tr>\n      <th>two</th>\n      <td>-0.746735</td>\n      <td>-2.229146</td>\n    </tr>\n  </tbody>\n</table>\n</div>"
     },
     "metadata": {}
    }
   ],
   "source": [
    "pairs = list(zip([\"bar\", \"bar\", \"baz\", \"baz\", \"foo\", \"foo\", \"qux\", \"qux\"], [\"one\", \"two\", \"one\", \"two\", \"one\", \"two\", \"one\", \"two\"]))\n",
    "index = pd.MultiIndex.from_tuples(pairs, names=[\"first\", \"second\"])\n",
    "df = pd.DataFrame(np.random.randn(8, 2), index=index, columns=[\"A\", \"B\"])\n",
    "display(df)\n",
    "df2 = df[:4]\n",
    "display(df2)"
   ]
  },
  {
   "cell_type": "code",
   "execution_count": 50,
   "metadata": {},
   "outputs": [
    {
     "output_type": "display_data",
     "data": {
      "text/plain": "first  second   \nbar    one     A   -0.925041\n               B   -0.916813\n       two     A    1.086500\n               B   -0.492557\nbaz    one     A    1.674912\n               B   -1.796109\n       two     A   -0.746735\n               B   -2.229146\ndtype: float64"
     },
     "metadata": {}
    },
    {
     "output_type": "display_data",
     "data": {
      "text/plain": "                     A         B\nfirst second                    \nbar   one    -0.925041 -0.916813\n      two     1.086500 -0.492557\nbaz   one     1.674912 -1.796109\n      two    -0.746735 -2.229146",
      "text/html": "<div>\n<style scoped>\n    .dataframe tbody tr th:only-of-type {\n        vertical-align: middle;\n    }\n\n    .dataframe tbody tr th {\n        vertical-align: top;\n    }\n\n    .dataframe thead th {\n        text-align: right;\n    }\n</style>\n<table border=\"1\" class=\"dataframe\">\n  <thead>\n    <tr style=\"text-align: right;\">\n      <th></th>\n      <th></th>\n      <th>A</th>\n      <th>B</th>\n    </tr>\n    <tr>\n      <th>first</th>\n      <th>second</th>\n      <th></th>\n      <th></th>\n    </tr>\n  </thead>\n  <tbody>\n    <tr>\n      <th rowspan=\"2\" valign=\"top\">bar</th>\n      <th>one</th>\n      <td>-0.925041</td>\n      <td>-0.916813</td>\n    </tr>\n    <tr>\n      <th>two</th>\n      <td>1.086500</td>\n      <td>-0.492557</td>\n    </tr>\n    <tr>\n      <th rowspan=\"2\" valign=\"top\">baz</th>\n      <th>one</th>\n      <td>1.674912</td>\n      <td>-1.796109</td>\n    </tr>\n    <tr>\n      <th>two</th>\n      <td>-0.746735</td>\n      <td>-2.229146</td>\n    </tr>\n  </tbody>\n</table>\n</div>"
     },
     "metadata": {}
    },
    {
     "output_type": "display_data",
     "data": {
      "text/plain": "second        one       two\nfirst                      \nbar   A -0.925041  1.086500\n      B -0.916813 -0.492557\nbaz   A  1.674912 -0.746735\n      B -1.796109 -2.229146",
      "text/html": "<div>\n<style scoped>\n    .dataframe tbody tr th:only-of-type {\n        vertical-align: middle;\n    }\n\n    .dataframe tbody tr th {\n        vertical-align: top;\n    }\n\n    .dataframe thead th {\n        text-align: right;\n    }\n</style>\n<table border=\"1\" class=\"dataframe\">\n  <thead>\n    <tr style=\"text-align: right;\">\n      <th></th>\n      <th>second</th>\n      <th>one</th>\n      <th>two</th>\n    </tr>\n    <tr>\n      <th>first</th>\n      <th></th>\n      <th></th>\n      <th></th>\n    </tr>\n  </thead>\n  <tbody>\n    <tr>\n      <th rowspan=\"2\" valign=\"top\">bar</th>\n      <th>A</th>\n      <td>-0.925041</td>\n      <td>1.086500</td>\n    </tr>\n    <tr>\n      <th>B</th>\n      <td>-0.916813</td>\n      <td>-0.492557</td>\n    </tr>\n    <tr>\n      <th rowspan=\"2\" valign=\"top\">baz</th>\n      <th>A</th>\n      <td>1.674912</td>\n      <td>-0.746735</td>\n    </tr>\n    <tr>\n      <th>B</th>\n      <td>-1.796109</td>\n      <td>-2.229146</td>\n    </tr>\n  </tbody>\n</table>\n</div>"
     },
     "metadata": {}
    },
    {
     "output_type": "display_data",
     "data": {
      "text/plain": "first          bar       baz\nsecond                      \none    A -0.925041  1.674912\n       B -0.916813 -1.796109\ntwo    A  1.086500 -0.746735\n       B -0.492557 -2.229146",
      "text/html": "<div>\n<style scoped>\n    .dataframe tbody tr th:only-of-type {\n        vertical-align: middle;\n    }\n\n    .dataframe tbody tr th {\n        vertical-align: top;\n    }\n\n    .dataframe thead th {\n        text-align: right;\n    }\n</style>\n<table border=\"1\" class=\"dataframe\">\n  <thead>\n    <tr style=\"text-align: right;\">\n      <th></th>\n      <th>first</th>\n      <th>bar</th>\n      <th>baz</th>\n    </tr>\n    <tr>\n      <th>second</th>\n      <th></th>\n      <th></th>\n      <th></th>\n    </tr>\n  </thead>\n  <tbody>\n    <tr>\n      <th rowspan=\"2\" valign=\"top\">one</th>\n      <th>A</th>\n      <td>-0.925041</td>\n      <td>1.674912</td>\n    </tr>\n    <tr>\n      <th>B</th>\n      <td>-0.916813</td>\n      <td>-1.796109</td>\n    </tr>\n    <tr>\n      <th rowspan=\"2\" valign=\"top\">two</th>\n      <th>A</th>\n      <td>1.086500</td>\n      <td>-0.746735</td>\n    </tr>\n    <tr>\n      <th>B</th>\n      <td>-0.492557</td>\n      <td>-2.229146</td>\n    </tr>\n  </tbody>\n</table>\n</div>"
     },
     "metadata": {}
    }
   ],
   "source": [
    "# Stack - compress a level in a DF's columns.\n",
    "stacked = df2.stack()\n",
    "display(stacked)\n",
    "# Do the reverse.\n",
    "display(stacked.unstack())\n",
    "display(stacked.unstack(1))\n",
    "display(stacked.unstack(0))"
   ]
  },
  {
   "source": [
    "## Pivot tables"
   ],
   "cell_type": "markdown",
   "metadata": {}
  },
  {
   "cell_type": "code",
   "execution_count": 55,
   "metadata": {},
   "outputs": [
    {
     "output_type": "execute_result",
     "data": {
      "text/plain": [
       "c3             bar       foo\n",
       "c1    c2                    \n",
       "one   A   1.614068  1.217497\n",
       "      B  -1.599142 -0.921526\n",
       "      C   0.157239  0.607809\n",
       "three A   1.566123       NaN\n",
       "      B        NaN -0.899763\n",
       "      C   0.432387       NaN\n",
       "two   A        NaN  0.272545\n",
       "      B   0.012659       NaN\n",
       "      C        NaN  1.169011"
      ],
      "text/html": "<div>\n<style scoped>\n    .dataframe tbody tr th:only-of-type {\n        vertical-align: middle;\n    }\n\n    .dataframe tbody tr th {\n        vertical-align: top;\n    }\n\n    .dataframe thead th {\n        text-align: right;\n    }\n</style>\n<table border=\"1\" class=\"dataframe\">\n  <thead>\n    <tr style=\"text-align: right;\">\n      <th></th>\n      <th>c3</th>\n      <th>bar</th>\n      <th>foo</th>\n    </tr>\n    <tr>\n      <th>c1</th>\n      <th>c2</th>\n      <th></th>\n      <th></th>\n    </tr>\n  </thead>\n  <tbody>\n    <tr>\n      <th rowspan=\"3\" valign=\"top\">one</th>\n      <th>A</th>\n      <td>1.614068</td>\n      <td>1.217497</td>\n    </tr>\n    <tr>\n      <th>B</th>\n      <td>-1.599142</td>\n      <td>-0.921526</td>\n    </tr>\n    <tr>\n      <th>C</th>\n      <td>0.157239</td>\n      <td>0.607809</td>\n    </tr>\n    <tr>\n      <th rowspan=\"3\" valign=\"top\">three</th>\n      <th>A</th>\n      <td>1.566123</td>\n      <td>NaN</td>\n    </tr>\n    <tr>\n      <th>B</th>\n      <td>NaN</td>\n      <td>-0.899763</td>\n    </tr>\n    <tr>\n      <th>C</th>\n      <td>0.432387</td>\n      <td>NaN</td>\n    </tr>\n    <tr>\n      <th rowspan=\"3\" valign=\"top\">two</th>\n      <th>A</th>\n      <td>NaN</td>\n      <td>0.272545</td>\n    </tr>\n    <tr>\n      <th>B</th>\n      <td>0.012659</td>\n      <td>NaN</td>\n    </tr>\n    <tr>\n      <th>C</th>\n      <td>NaN</td>\n      <td>1.169011</td>\n    </tr>\n  </tbody>\n</table>\n</div>"
     },
     "metadata": {},
     "execution_count": 55
    }
   ],
   "source": [
    "df = pd.DataFrame(\n",
    "    {\n",
    "        \"c1\": [\"one\", \"one\", \"two\", \"three\"] * 3,\n",
    "        \"c2\": [\"A\", \"B\", \"C\"] * 4,\n",
    "        \"c3\": [\"foo\", \"foo\", \"foo\", \"bar\", \"bar\", \"bar\"] * 2,\n",
    "        \"c4\": np.random.randn(12),\n",
    "        \"c5\": np.random.randn(12),\n",
    "    }\n",
    ")\n",
    "pd.pivot_table(df, values=\"c4\", index=[\"c1\", \"c2\"], columns=[\"c3\"])"
   ]
  },
  {
   "source": [
    "## Time series"
   ],
   "cell_type": "markdown",
   "metadata": {}
  },
  {
   "cell_type": "code",
   "execution_count": 61,
   "metadata": {},
   "outputs": [
    {
     "output_type": "display_data",
     "data": {
      "text/plain": "2012-01-01 00:00:00    278\n2012-01-01 00:00:01    147\n2012-01-01 00:00:02    485\n2012-01-01 00:00:03    266\n2012-01-01 00:00:04    452\n                      ... \n2012-01-01 00:01:35    420\n2012-01-01 00:01:36    227\n2012-01-01 00:01:37    195\n2012-01-01 00:01:38    100\n2012-01-01 00:01:39    282\nFreq: S, Length: 100, dtype: int32"
     },
     "metadata": {}
    },
    {
     "output_type": "execute_result",
     "data": {
      "text/plain": [
       "2012-01-01    26223\n",
       "Freq: 5T, dtype: int32"
      ]
     },
     "metadata": {},
     "execution_count": 61
    }
   ],
   "source": [
    "time_range = pd.date_range(\"1/1/2012\", periods=100, freq=\"S\")\n",
    "time_series = ts = pd.Series(np.random.randint(0, 500, len(time_range)), index=time_range)\n",
    "display(time_series)\n",
    "ts.resample(\"5Min\").sum()"
   ]
  },
  {
   "cell_type": "code",
   "execution_count": 65,
   "metadata": {},
   "outputs": [
    {
     "output_type": "display_data",
     "data": {
      "text/plain": "2012-03-06   -0.096080\n2012-03-07   -0.600079\n2012-03-08    0.478730\n2012-03-09   -0.576053\n2012-03-10   -1.329539\nFreq: D, dtype: float64"
     },
     "metadata": {}
    },
    {
     "output_type": "display_data",
     "data": {
      "text/plain": "2012-03-06 00:00:00+00:00   -0.096080\n2012-03-07 00:00:00+00:00   -0.600079\n2012-03-08 00:00:00+00:00    0.478730\n2012-03-09 00:00:00+00:00   -0.576053\n2012-03-10 00:00:00+00:00   -1.329539\nFreq: D, dtype: float64"
     },
     "metadata": {}
    },
    {
     "output_type": "display_data",
     "data": {
      "text/plain": "2012-03-05 19:00:00-05:00   -0.096080\n2012-03-06 19:00:00-05:00   -0.600079\n2012-03-07 19:00:00-05:00    0.478730\n2012-03-08 19:00:00-05:00   -0.576053\n2012-03-09 19:00:00-05:00   -1.329539\nFreq: D, dtype: float64"
     },
     "metadata": {}
    }
   ],
   "source": [
    "# With timezone.\n",
    "time_range = pd.date_range(\"3/6/2012 00:00\", periods=5, freq=\"D\")\n",
    "time_series = pd.Series(np.random.randn(len(time_range)), time_range)\n",
    "time_series_utc = time_series.tz_localize(\"UTC\")\n",
    "\n",
    "display(time_series)\n",
    "display(time_series_utc)\n",
    "display(time_series_utc.tz_convert(\"US/Eastern\"))"
   ]
  },
  {
   "cell_type": "code",
   "execution_count": 68,
   "metadata": {},
   "outputs": [
    {
     "output_type": "display_data",
     "data": {
      "text/plain": "2012-01-31   -0.958475\n2012-02-29    0.120175\n2012-03-31   -0.414237\n2012-04-30    0.602073\n2012-05-31   -1.509958\nFreq: M, dtype: float64"
     },
     "metadata": {}
    },
    {
     "output_type": "display_data",
     "data": {
      "text/plain": "2012-01   -0.958475\n2012-02    0.120175\n2012-03   -0.414237\n2012-04    0.602073\n2012-05   -1.509958\nFreq: M, dtype: float64"
     },
     "metadata": {}
    },
    {
     "output_type": "display_data",
     "data": {
      "text/plain": "2012-01-01   -0.958475\n2012-02-01    0.120175\n2012-03-01   -0.414237\n2012-04-01    0.602073\n2012-05-01   -1.509958\nFreq: MS, dtype: float64"
     },
     "metadata": {}
    }
   ],
   "source": [
    "# Converting between time span representations.\n",
    "time_range = pd.date_range(\"1/1/2012\", periods=5, freq=\"M\")\n",
    "time_series = pd.Series(np.random.randn(len(time_range)), index=time_range)\n",
    "ps = time_series.to_period()\n",
    "display(time_series)\n",
    "display(ps)\n",
    "display(ps.to_timestamp())"
   ]
  },
  {
   "cell_type": "code",
   "execution_count": 72,
   "metadata": {},
   "outputs": [
    {
     "output_type": "display_data",
     "data": {
      "text/plain": "PeriodIndex(['1990Q1', '1990Q2', '1990Q3', '1990Q4', '1991Q1', '1991Q2',\n             '1991Q3', '1991Q4', '1992Q1', '1992Q2', '1992Q3', '1992Q4',\n             '1993Q1', '1993Q2', '1993Q3', '1993Q4', '1994Q1', '1994Q2',\n             '1994Q3', '1994Q4', '1995Q1', '1995Q2', '1995Q3', '1995Q4',\n             '1996Q1', '1996Q2', '1996Q3', '1996Q4', '1997Q1', '1997Q2',\n             '1997Q3', '1997Q4', '1998Q1', '1998Q2', '1998Q3', '1998Q4',\n             '1999Q1', '1999Q2', '1999Q3', '1999Q4', '2000Q1', '2000Q2',\n             '2000Q3', '2000Q4'],\n            dtype='period[Q-NOV]', freq='Q-NOV')"
     },
     "metadata": {}
    },
    {
     "output_type": "display_data",
     "data": {
      "text/plain": "1990-03-01 09:00   -0.144365\n1990-06-01 09:00    1.427309\n1990-09-01 09:00    0.715418\n1990-12-01 09:00    1.022450\n1991-03-01 09:00   -1.135598\nFreq: H, dtype: float64"
     },
     "metadata": {}
    }
   ],
   "source": [
    "period_range = pd.period_range(\"1990Q1\", \"2000Q4\", freq=\"Q-NOV\")\n",
    "time_series = pd.Series(np.random.randn(len(period_range)), period_range)\n",
    "time_series.index = (period_range.asfreq(\"M\", \"e\") + 1).asfreq(\"H\", \"s\") + 9\n",
    "display(period_range)\n",
    "display(time_series.head())"
   ]
  },
  {
   "source": [
    "## Categoricals"
   ],
   "cell_type": "markdown",
   "metadata": {}
  },
  {
   "cell_type": "code",
   "execution_count": 85,
   "metadata": {},
   "outputs": [
    {
     "output_type": "display_data",
     "data": {
      "text/plain": "   id raw_grade      grade\n0   1         a  very good\n3   4         a  very good\n4   5         a  very good\n1   2         b       good\n2   3         b       good\n5   6         e   very bad",
      "text/html": "<div>\n<style scoped>\n    .dataframe tbody tr th:only-of-type {\n        vertical-align: middle;\n    }\n\n    .dataframe tbody tr th {\n        vertical-align: top;\n    }\n\n    .dataframe thead th {\n        text-align: right;\n    }\n</style>\n<table border=\"1\" class=\"dataframe\">\n  <thead>\n    <tr style=\"text-align: right;\">\n      <th></th>\n      <th>id</th>\n      <th>raw_grade</th>\n      <th>grade</th>\n    </tr>\n  </thead>\n  <tbody>\n    <tr>\n      <th>0</th>\n      <td>1</td>\n      <td>a</td>\n      <td>very good</td>\n    </tr>\n    <tr>\n      <th>3</th>\n      <td>4</td>\n      <td>a</td>\n      <td>very good</td>\n    </tr>\n    <tr>\n      <th>4</th>\n      <td>5</td>\n      <td>a</td>\n      <td>very good</td>\n    </tr>\n    <tr>\n      <th>1</th>\n      <td>2</td>\n      <td>b</td>\n      <td>good</td>\n    </tr>\n    <tr>\n      <th>2</th>\n      <td>3</td>\n      <td>b</td>\n      <td>good</td>\n    </tr>\n    <tr>\n      <th>5</th>\n      <td>6</td>\n      <td>e</td>\n      <td>very bad</td>\n    </tr>\n  </tbody>\n</table>\n</div>"
     },
     "metadata": {}
    },
    {
     "output_type": "display_data",
     "data": {
      "text/plain": "grade\nvery bad     1\nbad          0\nmedium       0\ngood         2\nvery good    3\ndtype: int64"
     },
     "metadata": {}
    }
   ],
   "source": [
    "df = pd.DataFrame(\n",
    "    {\"id\": [1, 2, 3, 4, 5, 6], \"raw_grade\": [\"a\", \"b\", \"b\", \"a\", \"a\", \"e\"]}\n",
    ")\n",
    "df[\"grade\"] = df[\"raw_grade\"].astype(\"category\")\n",
    "df[\"grade\"].cat.categories = [\"very good\", \"good\", \"very bad\"]\n",
    "df[\"grade\"] = df[\"grade\"].cat.set_categories(\n",
    "    [\"very bad\", \"bad\", \"medium\", \"good\", \"very good\"]\n",
    ")\n",
    "display(df.sort_values(by=\"grade\", ascending=False))\n",
    "display(df.groupby(\"grade\").size())"
   ]
  },
  {
   "source": [
    "## Plotting"
   ],
   "cell_type": "markdown",
   "metadata": {}
  },
  {
   "cell_type": "code",
   "execution_count": 88,
   "metadata": {},
   "outputs": [],
   "source": [
    "import matplotlib.pyplot as plt\n",
    "plt.close(\"all\")"
   ]
  },
  {
   "cell_type": "code",
   "execution_count": 90,
   "metadata": {},
   "outputs": [
    {
     "output_type": "execute_result",
     "data": {
      "text/plain": [
       "<AxesSubplot:>"
      ]
     },
     "metadata": {},
     "execution_count": 90
    },
    {
     "output_type": "display_data",
     "data": {
      "text/plain": "<Figure size 432x288 with 1 Axes>",
      "image/svg+xml": "<?xml version=\"1.0\" encoding=\"utf-8\" standalone=\"no\"?>\r\n<!DOCTYPE svg PUBLIC \"-//W3C//DTD SVG 1.1//EN\"\r\n  \"http://www.w3.org/Graphics/SVG/1.1/DTD/svg11.dtd\">\r\n<!-- Created with matplotlib (https://matplotlib.org/) -->\r\n<svg height=\"259.715937pt\" version=\"1.1\" viewBox=\"0 0 377.304688 259.715937\" width=\"377.304688pt\" xmlns=\"http://www.w3.org/2000/svg\" xmlns:xlink=\"http://www.w3.org/1999/xlink\">\r\n <metadata>\r\n  <rdf:RDF xmlns:cc=\"http://creativecommons.org/ns#\" xmlns:dc=\"http://purl.org/dc/elements/1.1/\" xmlns:rdf=\"http://www.w3.org/1999/02/22-rdf-syntax-ns#\">\r\n   <cc:Work>\r\n    <dc:type rdf:resource=\"http://purl.org/dc/dcmitype/StillImage\"/>\r\n    <dc:date>2021-02-14T23:20:46.233886</dc:date>\r\n    <dc:format>image/svg+xml</dc:format>\r\n    <dc:creator>\r\n     <cc:Agent>\r\n      <dc:title>Matplotlib v3.3.4, https://matplotlib.org/</dc:title>\r\n     </cc:Agent>\r\n    </dc:creator>\r\n   </cc:Work>\r\n  </rdf:RDF>\r\n </metadata>\r\n <defs>\r\n  <style type=\"text/css\">*{stroke-linecap:butt;stroke-linejoin:round;}</style>\r\n </defs>\r\n <g id=\"figure_1\">\r\n  <g id=\"patch_1\">\r\n   <path d=\"M 0 259.715937 \r\nL 377.304688 259.715937 \r\nL 377.304688 0 \r\nL 0 0 \r\nz\r\n\" style=\"fill:none;\"/>\r\n  </g>\r\n  <g id=\"axes_1\">\r\n   <g id=\"patch_2\">\r\n    <path d=\"M 35.304688 224.64 \r\nL 370.104688 224.64 \r\nL 370.104688 7.2 \r\nL 35.304688 7.2 \r\nz\r\n\" style=\"fill:#ffffff;\"/>\r\n   </g>\r\n   <g id=\"matplotlib.axis_1\">\r\n    <g id=\"xtick_1\">\r\n     <g id=\"line2d_1\">\r\n      <defs>\r\n       <path d=\"M 0 0 \r\nL 0 3.5 \r\n\" id=\"mcd7c48e8ca\" style=\"stroke:#000000;stroke-width:0.8;\"/>\r\n      </defs>\r\n      <g>\r\n       <use style=\"stroke:#000000;stroke-width:0.8;\" x=\"35.304688\" xlink:href=\"#mcd7c48e8ca\" y=\"224.64\"/>\r\n      </g>\r\n     </g>\r\n     <g id=\"text_1\">\r\n      <!-- Jan -->\r\n      <g transform=\"translate(27.596875 239.238438)scale(0.1 -0.1)\">\r\n       <defs>\r\n        <path d=\"M 9.8125 72.90625 \r\nL 19.671875 72.90625 \r\nL 19.671875 5.078125 \r\nQ 19.671875 -8.109375 14.671875 -14.0625 \r\nQ 9.671875 -20.015625 -1.421875 -20.015625 \r\nL -5.171875 -20.015625 \r\nL -5.171875 -11.71875 \r\nL -2.09375 -11.71875 \r\nQ 4.4375 -11.71875 7.125 -8.046875 \r\nQ 9.8125 -4.390625 9.8125 5.078125 \r\nz\r\n\" id=\"DejaVuSans-74\"/>\r\n        <path d=\"M 34.28125 27.484375 \r\nQ 23.390625 27.484375 19.1875 25 \r\nQ 14.984375 22.515625 14.984375 16.5 \r\nQ 14.984375 11.71875 18.140625 8.90625 \r\nQ 21.296875 6.109375 26.703125 6.109375 \r\nQ 34.1875 6.109375 38.703125 11.40625 \r\nQ 43.21875 16.703125 43.21875 25.484375 \r\nL 43.21875 27.484375 \r\nz\r\nM 52.203125 31.203125 \r\nL 52.203125 0 \r\nL 43.21875 0 \r\nL 43.21875 8.296875 \r\nQ 40.140625 3.328125 35.546875 0.953125 \r\nQ 30.953125 -1.421875 24.3125 -1.421875 \r\nQ 15.921875 -1.421875 10.953125 3.296875 \r\nQ 6 8.015625 6 15.921875 \r\nQ 6 25.140625 12.171875 29.828125 \r\nQ 18.359375 34.515625 30.609375 34.515625 \r\nL 43.21875 34.515625 \r\nL 43.21875 35.40625 \r\nQ 43.21875 41.609375 39.140625 45 \r\nQ 35.0625 48.390625 27.6875 48.390625 \r\nQ 23 48.390625 18.546875 47.265625 \r\nQ 14.109375 46.140625 10.015625 43.890625 \r\nL 10.015625 52.203125 \r\nQ 14.9375 54.109375 19.578125 55.046875 \r\nQ 24.21875 56 28.609375 56 \r\nQ 40.484375 56 46.34375 49.84375 \r\nQ 52.203125 43.703125 52.203125 31.203125 \r\nz\r\n\" id=\"DejaVuSans-97\"/>\r\n        <path d=\"M 54.890625 33.015625 \r\nL 54.890625 0 \r\nL 45.90625 0 \r\nL 45.90625 32.71875 \r\nQ 45.90625 40.484375 42.875 44.328125 \r\nQ 39.84375 48.1875 33.796875 48.1875 \r\nQ 26.515625 48.1875 22.3125 43.546875 \r\nQ 18.109375 38.921875 18.109375 30.90625 \r\nL 18.109375 0 \r\nL 9.078125 0 \r\nL 9.078125 54.6875 \r\nL 18.109375 54.6875 \r\nL 18.109375 46.1875 \r\nQ 21.34375 51.125 25.703125 53.5625 \r\nQ 30.078125 56 35.796875 56 \r\nQ 45.21875 56 50.046875 50.171875 \r\nQ 54.890625 44.34375 54.890625 33.015625 \r\nz\r\n\" id=\"DejaVuSans-110\"/>\r\n       </defs>\r\n       <use xlink:href=\"#DejaVuSans-74\"/>\r\n       <use x=\"29.492188\" xlink:href=\"#DejaVuSans-97\"/>\r\n       <use x=\"90.771484\" xlink:href=\"#DejaVuSans-110\"/>\r\n      </g>\r\n      <!-- 2000 -->\r\n      <g transform=\"translate(22.579687 250.43625)scale(0.1 -0.1)\">\r\n       <defs>\r\n        <path d=\"M 19.1875 8.296875 \r\nL 53.609375 8.296875 \r\nL 53.609375 0 \r\nL 7.328125 0 \r\nL 7.328125 8.296875 \r\nQ 12.9375 14.109375 22.625 23.890625 \r\nQ 32.328125 33.6875 34.8125 36.53125 \r\nQ 39.546875 41.84375 41.421875 45.53125 \r\nQ 43.3125 49.21875 43.3125 52.78125 \r\nQ 43.3125 58.59375 39.234375 62.25 \r\nQ 35.15625 65.921875 28.609375 65.921875 \r\nQ 23.96875 65.921875 18.8125 64.3125 \r\nQ 13.671875 62.703125 7.8125 59.421875 \r\nL 7.8125 69.390625 \r\nQ 13.765625 71.78125 18.9375 73 \r\nQ 24.125 74.21875 28.421875 74.21875 \r\nQ 39.75 74.21875 46.484375 68.546875 \r\nQ 53.21875 62.890625 53.21875 53.421875 \r\nQ 53.21875 48.921875 51.53125 44.890625 \r\nQ 49.859375 40.875 45.40625 35.40625 \r\nQ 44.1875 33.984375 37.640625 27.21875 \r\nQ 31.109375 20.453125 19.1875 8.296875 \r\nz\r\n\" id=\"DejaVuSans-50\"/>\r\n        <path d=\"M 31.78125 66.40625 \r\nQ 24.171875 66.40625 20.328125 58.90625 \r\nQ 16.5 51.421875 16.5 36.375 \r\nQ 16.5 21.390625 20.328125 13.890625 \r\nQ 24.171875 6.390625 31.78125 6.390625 \r\nQ 39.453125 6.390625 43.28125 13.890625 \r\nQ 47.125 21.390625 47.125 36.375 \r\nQ 47.125 51.421875 43.28125 58.90625 \r\nQ 39.453125 66.40625 31.78125 66.40625 \r\nz\r\nM 31.78125 74.21875 \r\nQ 44.046875 74.21875 50.515625 64.515625 \r\nQ 56.984375 54.828125 56.984375 36.375 \r\nQ 56.984375 17.96875 50.515625 8.265625 \r\nQ 44.046875 -1.421875 31.78125 -1.421875 \r\nQ 19.53125 -1.421875 13.0625 8.265625 \r\nQ 6.59375 17.96875 6.59375 36.375 \r\nQ 6.59375 54.828125 13.0625 64.515625 \r\nQ 19.53125 74.21875 31.78125 74.21875 \r\nz\r\n\" id=\"DejaVuSans-48\"/>\r\n       </defs>\r\n       <use xlink:href=\"#DejaVuSans-50\"/>\r\n       <use x=\"63.623047\" xlink:href=\"#DejaVuSans-48\"/>\r\n       <use x=\"127.246094\" xlink:href=\"#DejaVuSans-48\"/>\r\n       <use x=\"190.869141\" xlink:href=\"#DejaVuSans-48\"/>\r\n      </g>\r\n     </g>\r\n    </g>\r\n    <g id=\"xtick_2\">\r\n     <g id=\"line2d_2\">\r\n      <g>\r\n       <use style=\"stroke:#000000;stroke-width:0.8;\" x=\"157.964147\" xlink:href=\"#mcd7c48e8ca\" y=\"224.64\"/>\r\n      </g>\r\n     </g>\r\n     <g id=\"text_2\">\r\n      <!-- Jan -->\r\n      <g transform=\"translate(150.256334 239.238438)scale(0.1 -0.1)\">\r\n       <use xlink:href=\"#DejaVuSans-74\"/>\r\n       <use x=\"29.492188\" xlink:href=\"#DejaVuSans-97\"/>\r\n       <use x=\"90.771484\" xlink:href=\"#DejaVuSans-110\"/>\r\n      </g>\r\n      <!-- 2001 -->\r\n      <g transform=\"translate(145.239147 250.43625)scale(0.1 -0.1)\">\r\n       <defs>\r\n        <path d=\"M 12.40625 8.296875 \r\nL 28.515625 8.296875 \r\nL 28.515625 63.921875 \r\nL 10.984375 60.40625 \r\nL 10.984375 69.390625 \r\nL 28.421875 72.90625 \r\nL 38.28125 72.90625 \r\nL 38.28125 8.296875 \r\nL 54.390625 8.296875 \r\nL 54.390625 0 \r\nL 12.40625 0 \r\nz\r\n\" id=\"DejaVuSans-49\"/>\r\n       </defs>\r\n       <use xlink:href=\"#DejaVuSans-50\"/>\r\n       <use x=\"63.623047\" xlink:href=\"#DejaVuSans-48\"/>\r\n       <use x=\"127.246094\" xlink:href=\"#DejaVuSans-48\"/>\r\n       <use x=\"190.869141\" xlink:href=\"#DejaVuSans-49\"/>\r\n      </g>\r\n     </g>\r\n    </g>\r\n    <g id=\"xtick_3\">\r\n     <g id=\"line2d_3\">\r\n      <g>\r\n       <use style=\"stroke:#000000;stroke-width:0.8;\" x=\"280.288471\" xlink:href=\"#mcd7c48e8ca\" y=\"224.64\"/>\r\n      </g>\r\n     </g>\r\n     <g id=\"text_3\">\r\n      <!-- Jan -->\r\n      <g transform=\"translate(272.580659 239.238438)scale(0.1 -0.1)\">\r\n       <use xlink:href=\"#DejaVuSans-74\"/>\r\n       <use x=\"29.492188\" xlink:href=\"#DejaVuSans-97\"/>\r\n       <use x=\"90.771484\" xlink:href=\"#DejaVuSans-110\"/>\r\n      </g>\r\n      <!-- 2002 -->\r\n      <g transform=\"translate(267.563471 250.43625)scale(0.1 -0.1)\">\r\n       <use xlink:href=\"#DejaVuSans-50\"/>\r\n       <use x=\"63.623047\" xlink:href=\"#DejaVuSans-48\"/>\r\n       <use x=\"127.246094\" xlink:href=\"#DejaVuSans-48\"/>\r\n       <use x=\"190.869141\" xlink:href=\"#DejaVuSans-50\"/>\r\n      </g>\r\n     </g>\r\n    </g>\r\n    <g id=\"xtick_4\">\r\n     <g id=\"line2d_4\">\r\n      <g>\r\n       <use style=\"stroke:#000000;stroke-width:0.8;\" x=\"370.104688\" xlink:href=\"#mcd7c48e8ca\" y=\"224.64\"/>\r\n      </g>\r\n     </g>\r\n    </g>\r\n    <g id=\"xtick_5\">\r\n     <g id=\"line2d_5\">\r\n      <defs>\r\n       <path d=\"M 0 0 \r\nL 0 2 \r\n\" id=\"m7768401068\" style=\"stroke:#000000;stroke-width:0.6;\"/>\r\n      </defs>\r\n      <g>\r\n       <use style=\"stroke:#000000;stroke-width:0.6;\" x=\"45.693877\" xlink:href=\"#m7768401068\" y=\"224.64\"/>\r\n      </g>\r\n     </g>\r\n    </g>\r\n    <g id=\"xtick_6\">\r\n     <g id=\"line2d_6\">\r\n      <g>\r\n       <use style=\"stroke:#000000;stroke-width:0.6;\" x=\"55.412796\" xlink:href=\"#m7768401068\" y=\"224.64\"/>\r\n      </g>\r\n     </g>\r\n    </g>\r\n    <g id=\"xtick_7\">\r\n     <g id=\"line2d_7\">\r\n      <g>\r\n       <use style=\"stroke:#000000;stroke-width:0.6;\" x=\"65.801985\" xlink:href=\"#m7768401068\" y=\"224.64\"/>\r\n      </g>\r\n     </g>\r\n    </g>\r\n    <g id=\"xtick_8\">\r\n     <g id=\"line2d_8\">\r\n      <g>\r\n       <use style=\"stroke:#000000;stroke-width:0.6;\" x=\"75.856039\" xlink:href=\"#m7768401068\" y=\"224.64\"/>\r\n      </g>\r\n     </g>\r\n    </g>\r\n    <g id=\"xtick_9\">\r\n     <g id=\"line2d_9\">\r\n      <g>\r\n       <use style=\"stroke:#000000;stroke-width:0.6;\" x=\"86.245228\" xlink:href=\"#m7768401068\" y=\"224.64\"/>\r\n      </g>\r\n     </g>\r\n    </g>\r\n    <g id=\"xtick_10\">\r\n     <g id=\"line2d_10\">\r\n      <g>\r\n       <use style=\"stroke:#000000;stroke-width:0.6;\" x=\"96.299282\" xlink:href=\"#m7768401068\" y=\"224.64\"/>\r\n      </g>\r\n     </g>\r\n     <g id=\"text_4\">\r\n      <!-- Jul -->\r\n      <g transform=\"translate(90.26647 237.638438)scale(0.1 -0.1)\">\r\n       <defs>\r\n        <path d=\"M 8.5 21.578125 \r\nL 8.5 54.6875 \r\nL 17.484375 54.6875 \r\nL 17.484375 21.921875 \r\nQ 17.484375 14.15625 20.5 10.265625 \r\nQ 23.53125 6.390625 29.59375 6.390625 \r\nQ 36.859375 6.390625 41.078125 11.03125 \r\nQ 45.3125 15.671875 45.3125 23.6875 \r\nL 45.3125 54.6875 \r\nL 54.296875 54.6875 \r\nL 54.296875 0 \r\nL 45.3125 0 \r\nL 45.3125 8.40625 \r\nQ 42.046875 3.421875 37.71875 1 \r\nQ 33.40625 -1.421875 27.6875 -1.421875 \r\nQ 18.265625 -1.421875 13.375 4.4375 \r\nQ 8.5 10.296875 8.5 21.578125 \r\nz\r\nM 31.109375 56 \r\nz\r\n\" id=\"DejaVuSans-117\"/>\r\n        <path d=\"M 9.421875 75.984375 \r\nL 18.40625 75.984375 \r\nL 18.40625 0 \r\nL 9.421875 0 \r\nz\r\n\" id=\"DejaVuSans-108\"/>\r\n       </defs>\r\n       <use xlink:href=\"#DejaVuSans-74\"/>\r\n       <use x=\"29.492188\" xlink:href=\"#DejaVuSans-117\"/>\r\n       <use x=\"92.871094\" xlink:href=\"#DejaVuSans-108\"/>\r\n      </g>\r\n     </g>\r\n    </g>\r\n    <g id=\"xtick_11\">\r\n     <g id=\"line2d_11\">\r\n      <g>\r\n       <use style=\"stroke:#000000;stroke-width:0.6;\" x=\"106.688471\" xlink:href=\"#m7768401068\" y=\"224.64\"/>\r\n      </g>\r\n     </g>\r\n    </g>\r\n    <g id=\"xtick_12\">\r\n     <g id=\"line2d_12\">\r\n      <g>\r\n       <use style=\"stroke:#000000;stroke-width:0.6;\" x=\"117.07766\" xlink:href=\"#m7768401068\" y=\"224.64\"/>\r\n      </g>\r\n     </g>\r\n    </g>\r\n    <g id=\"xtick_13\">\r\n     <g id=\"line2d_13\">\r\n      <g>\r\n       <use style=\"stroke:#000000;stroke-width:0.6;\" x=\"127.131715\" xlink:href=\"#m7768401068\" y=\"224.64\"/>\r\n      </g>\r\n     </g>\r\n    </g>\r\n    <g id=\"xtick_14\">\r\n     <g id=\"line2d_14\">\r\n      <g>\r\n       <use style=\"stroke:#000000;stroke-width:0.6;\" x=\"137.520904\" xlink:href=\"#m7768401068\" y=\"224.64\"/>\r\n      </g>\r\n     </g>\r\n    </g>\r\n    <g id=\"xtick_15\">\r\n     <g id=\"line2d_15\">\r\n      <g>\r\n       <use style=\"stroke:#000000;stroke-width:0.6;\" x=\"147.574958\" xlink:href=\"#m7768401068\" y=\"224.64\"/>\r\n      </g>\r\n     </g>\r\n    </g>\r\n    <g id=\"xtick_16\">\r\n     <g id=\"line2d_16\">\r\n      <g>\r\n       <use style=\"stroke:#000000;stroke-width:0.6;\" x=\"168.353336\" xlink:href=\"#m7768401068\" y=\"224.64\"/>\r\n      </g>\r\n     </g>\r\n    </g>\r\n    <g id=\"xtick_17\">\r\n     <g id=\"line2d_17\">\r\n      <g>\r\n       <use style=\"stroke:#000000;stroke-width:0.6;\" x=\"177.73712\" xlink:href=\"#m7768401068\" y=\"224.64\"/>\r\n      </g>\r\n     </g>\r\n    </g>\r\n    <g id=\"xtick_18\">\r\n     <g id=\"line2d_18\">\r\n      <g>\r\n       <use style=\"stroke:#000000;stroke-width:0.6;\" x=\"188.126309\" xlink:href=\"#m7768401068\" y=\"224.64\"/>\r\n      </g>\r\n     </g>\r\n    </g>\r\n    <g id=\"xtick_19\">\r\n     <g id=\"line2d_19\">\r\n      <g>\r\n       <use style=\"stroke:#000000;stroke-width:0.6;\" x=\"198.180363\" xlink:href=\"#m7768401068\" y=\"224.64\"/>\r\n      </g>\r\n     </g>\r\n    </g>\r\n    <g id=\"xtick_20\">\r\n     <g id=\"line2d_20\">\r\n      <g>\r\n       <use style=\"stroke:#000000;stroke-width:0.6;\" x=\"208.569552\" xlink:href=\"#m7768401068\" y=\"224.64\"/>\r\n      </g>\r\n     </g>\r\n    </g>\r\n    <g id=\"xtick_21\">\r\n     <g id=\"line2d_21\">\r\n      <g>\r\n       <use style=\"stroke:#000000;stroke-width:0.6;\" x=\"218.623606\" xlink:href=\"#m7768401068\" y=\"224.64\"/>\r\n      </g>\r\n     </g>\r\n     <g id=\"text_5\">\r\n      <!-- Jul -->\r\n      <g transform=\"translate(212.590794 237.638438)scale(0.1 -0.1)\">\r\n       <use xlink:href=\"#DejaVuSans-74\"/>\r\n       <use x=\"29.492188\" xlink:href=\"#DejaVuSans-117\"/>\r\n       <use x=\"92.871094\" xlink:href=\"#DejaVuSans-108\"/>\r\n      </g>\r\n     </g>\r\n    </g>\r\n    <g id=\"xtick_22\">\r\n     <g id=\"line2d_22\">\r\n      <g>\r\n       <use style=\"stroke:#000000;stroke-width:0.6;\" x=\"229.012796\" xlink:href=\"#m7768401068\" y=\"224.64\"/>\r\n      </g>\r\n     </g>\r\n    </g>\r\n    <g id=\"xtick_23\">\r\n     <g id=\"line2d_23\">\r\n      <g>\r\n       <use style=\"stroke:#000000;stroke-width:0.6;\" x=\"239.401985\" xlink:href=\"#m7768401068\" y=\"224.64\"/>\r\n      </g>\r\n     </g>\r\n    </g>\r\n    <g id=\"xtick_24\">\r\n     <g id=\"line2d_24\">\r\n      <g>\r\n       <use style=\"stroke:#000000;stroke-width:0.6;\" x=\"249.456039\" xlink:href=\"#m7768401068\" y=\"224.64\"/>\r\n      </g>\r\n     </g>\r\n    </g>\r\n    <g id=\"xtick_25\">\r\n     <g id=\"line2d_25\">\r\n      <g>\r\n       <use style=\"stroke:#000000;stroke-width:0.6;\" x=\"259.845228\" xlink:href=\"#m7768401068\" y=\"224.64\"/>\r\n      </g>\r\n     </g>\r\n    </g>\r\n    <g id=\"xtick_26\">\r\n     <g id=\"line2d_26\">\r\n      <g>\r\n       <use style=\"stroke:#000000;stroke-width:0.6;\" x=\"269.899282\" xlink:href=\"#m7768401068\" y=\"224.64\"/>\r\n      </g>\r\n     </g>\r\n    </g>\r\n    <g id=\"xtick_27\">\r\n     <g id=\"line2d_27\">\r\n      <g>\r\n       <use style=\"stroke:#000000;stroke-width:0.6;\" x=\"290.67766\" xlink:href=\"#m7768401068\" y=\"224.64\"/>\r\n      </g>\r\n     </g>\r\n    </g>\r\n    <g id=\"xtick_28\">\r\n     <g id=\"line2d_28\">\r\n      <g>\r\n       <use style=\"stroke:#000000;stroke-width:0.6;\" x=\"300.061444\" xlink:href=\"#m7768401068\" y=\"224.64\"/>\r\n      </g>\r\n     </g>\r\n    </g>\r\n    <g id=\"xtick_29\">\r\n     <g id=\"line2d_29\">\r\n      <g>\r\n       <use style=\"stroke:#000000;stroke-width:0.6;\" x=\"310.450633\" xlink:href=\"#m7768401068\" y=\"224.64\"/>\r\n      </g>\r\n     </g>\r\n    </g>\r\n    <g id=\"xtick_30\">\r\n     <g id=\"line2d_30\">\r\n      <g>\r\n       <use style=\"stroke:#000000;stroke-width:0.6;\" x=\"320.504687\" xlink:href=\"#m7768401068\" y=\"224.64\"/>\r\n      </g>\r\n     </g>\r\n    </g>\r\n    <g id=\"xtick_31\">\r\n     <g id=\"line2d_31\">\r\n      <g>\r\n       <use style=\"stroke:#000000;stroke-width:0.6;\" x=\"330.893877\" xlink:href=\"#m7768401068\" y=\"224.64\"/>\r\n      </g>\r\n     </g>\r\n    </g>\r\n    <g id=\"xtick_32\">\r\n     <g id=\"line2d_32\">\r\n      <g>\r\n       <use style=\"stroke:#000000;stroke-width:0.6;\" x=\"340.947931\" xlink:href=\"#m7768401068\" y=\"224.64\"/>\r\n      </g>\r\n     </g>\r\n     <g id=\"text_6\">\r\n      <!-- Jul -->\r\n      <g transform=\"translate(334.915118 237.638438)scale(0.1 -0.1)\">\r\n       <use xlink:href=\"#DejaVuSans-74\"/>\r\n       <use x=\"29.492188\" xlink:href=\"#DejaVuSans-117\"/>\r\n       <use x=\"92.871094\" xlink:href=\"#DejaVuSans-108\"/>\r\n      </g>\r\n     </g>\r\n    </g>\r\n    <g id=\"xtick_33\">\r\n     <g id=\"line2d_33\">\r\n      <g>\r\n       <use style=\"stroke:#000000;stroke-width:0.6;\" x=\"351.33712\" xlink:href=\"#m7768401068\" y=\"224.64\"/>\r\n      </g>\r\n     </g>\r\n    </g>\r\n    <g id=\"xtick_34\">\r\n     <g id=\"line2d_34\">\r\n      <g>\r\n       <use style=\"stroke:#000000;stroke-width:0.6;\" x=\"361.726309\" xlink:href=\"#m7768401068\" y=\"224.64\"/>\r\n      </g>\r\n     </g>\r\n    </g>\r\n   </g>\r\n   <g id=\"matplotlib.axis_2\">\r\n    <g id=\"ytick_1\">\r\n     <g id=\"line2d_35\">\r\n      <defs>\r\n       <path d=\"M 0 0 \r\nL -3.5 0 \r\n\" id=\"m4835ebd51f\" style=\"stroke:#000000;stroke-width:0.8;\"/>\r\n      </defs>\r\n      <g>\r\n       <use style=\"stroke:#000000;stroke-width:0.8;\" x=\"35.304688\" xlink:href=\"#m4835ebd51f\" y=\"203.879921\"/>\r\n      </g>\r\n     </g>\r\n     <g id=\"text_7\">\r\n      <!-- −35 -->\r\n      <g transform=\"translate(7.2 207.67914)scale(0.1 -0.1)\">\r\n       <defs>\r\n        <path d=\"M 10.59375 35.5 \r\nL 73.1875 35.5 \r\nL 73.1875 27.203125 \r\nL 10.59375 27.203125 \r\nz\r\n\" id=\"DejaVuSans-8722\"/>\r\n        <path d=\"M 40.578125 39.3125 \r\nQ 47.65625 37.796875 51.625 33 \r\nQ 55.609375 28.21875 55.609375 21.1875 \r\nQ 55.609375 10.40625 48.1875 4.484375 \r\nQ 40.765625 -1.421875 27.09375 -1.421875 \r\nQ 22.515625 -1.421875 17.65625 -0.515625 \r\nQ 12.796875 0.390625 7.625 2.203125 \r\nL 7.625 11.71875 \r\nQ 11.71875 9.328125 16.59375 8.109375 \r\nQ 21.484375 6.890625 26.8125 6.890625 \r\nQ 36.078125 6.890625 40.9375 10.546875 \r\nQ 45.796875 14.203125 45.796875 21.1875 \r\nQ 45.796875 27.640625 41.28125 31.265625 \r\nQ 36.765625 34.90625 28.71875 34.90625 \r\nL 20.21875 34.90625 \r\nL 20.21875 43.015625 \r\nL 29.109375 43.015625 \r\nQ 36.375 43.015625 40.234375 45.921875 \r\nQ 44.09375 48.828125 44.09375 54.296875 \r\nQ 44.09375 59.90625 40.109375 62.90625 \r\nQ 36.140625 65.921875 28.71875 65.921875 \r\nQ 24.65625 65.921875 20.015625 65.03125 \r\nQ 15.375 64.15625 9.8125 62.3125 \r\nL 9.8125 71.09375 \r\nQ 15.4375 72.65625 20.34375 73.4375 \r\nQ 25.25 74.21875 29.59375 74.21875 \r\nQ 40.828125 74.21875 47.359375 69.109375 \r\nQ 53.90625 64.015625 53.90625 55.328125 \r\nQ 53.90625 49.265625 50.4375 45.09375 \r\nQ 46.96875 40.921875 40.578125 39.3125 \r\nz\r\n\" id=\"DejaVuSans-51\"/>\r\n        <path d=\"M 10.796875 72.90625 \r\nL 49.515625 72.90625 \r\nL 49.515625 64.59375 \r\nL 19.828125 64.59375 \r\nL 19.828125 46.734375 \r\nQ 21.96875 47.46875 24.109375 47.828125 \r\nQ 26.265625 48.1875 28.421875 48.1875 \r\nQ 40.625 48.1875 47.75 41.5 \r\nQ 54.890625 34.8125 54.890625 23.390625 \r\nQ 54.890625 11.625 47.5625 5.09375 \r\nQ 40.234375 -1.421875 26.90625 -1.421875 \r\nQ 22.3125 -1.421875 17.546875 -0.640625 \r\nQ 12.796875 0.140625 7.71875 1.703125 \r\nL 7.71875 11.625 \r\nQ 12.109375 9.234375 16.796875 8.0625 \r\nQ 21.484375 6.890625 26.703125 6.890625 \r\nQ 35.15625 6.890625 40.078125 11.328125 \r\nQ 45.015625 15.765625 45.015625 23.390625 \r\nQ 45.015625 31 40.078125 35.4375 \r\nQ 35.15625 39.890625 26.703125 39.890625 \r\nQ 22.75 39.890625 18.8125 39.015625 \r\nQ 14.890625 38.140625 10.796875 36.28125 \r\nz\r\n\" id=\"DejaVuSans-53\"/>\r\n       </defs>\r\n       <use xlink:href=\"#DejaVuSans-8722\"/>\r\n       <use x=\"83.789062\" xlink:href=\"#DejaVuSans-51\"/>\r\n       <use x=\"147.412109\" xlink:href=\"#DejaVuSans-53\"/>\r\n      </g>\r\n     </g>\r\n    </g>\r\n    <g id=\"ytick_2\">\r\n     <g id=\"line2d_36\">\r\n      <g>\r\n       <use style=\"stroke:#000000;stroke-width:0.8;\" x=\"35.304688\" xlink:href=\"#m4835ebd51f\" y=\"178.427078\"/>\r\n      </g>\r\n     </g>\r\n     <g id=\"text_8\">\r\n      <!-- −30 -->\r\n      <g transform=\"translate(7.2 182.226297)scale(0.1 -0.1)\">\r\n       <use xlink:href=\"#DejaVuSans-8722\"/>\r\n       <use x=\"83.789062\" xlink:href=\"#DejaVuSans-51\"/>\r\n       <use x=\"147.412109\" xlink:href=\"#DejaVuSans-48\"/>\r\n      </g>\r\n     </g>\r\n    </g>\r\n    <g id=\"ytick_3\">\r\n     <g id=\"line2d_37\">\r\n      <g>\r\n       <use style=\"stroke:#000000;stroke-width:0.8;\" x=\"35.304688\" xlink:href=\"#m4835ebd51f\" y=\"152.974235\"/>\r\n      </g>\r\n     </g>\r\n     <g id=\"text_9\">\r\n      <!-- −25 -->\r\n      <g transform=\"translate(7.2 156.773454)scale(0.1 -0.1)\">\r\n       <use xlink:href=\"#DejaVuSans-8722\"/>\r\n       <use x=\"83.789062\" xlink:href=\"#DejaVuSans-50\"/>\r\n       <use x=\"147.412109\" xlink:href=\"#DejaVuSans-53\"/>\r\n      </g>\r\n     </g>\r\n    </g>\r\n    <g id=\"ytick_4\">\r\n     <g id=\"line2d_38\">\r\n      <g>\r\n       <use style=\"stroke:#000000;stroke-width:0.8;\" x=\"35.304688\" xlink:href=\"#m4835ebd51f\" y=\"127.521392\"/>\r\n      </g>\r\n     </g>\r\n     <g id=\"text_10\">\r\n      <!-- −20 -->\r\n      <g transform=\"translate(7.2 131.320611)scale(0.1 -0.1)\">\r\n       <use xlink:href=\"#DejaVuSans-8722\"/>\r\n       <use x=\"83.789062\" xlink:href=\"#DejaVuSans-50\"/>\r\n       <use x=\"147.412109\" xlink:href=\"#DejaVuSans-48\"/>\r\n      </g>\r\n     </g>\r\n    </g>\r\n    <g id=\"ytick_5\">\r\n     <g id=\"line2d_39\">\r\n      <g>\r\n       <use style=\"stroke:#000000;stroke-width:0.8;\" x=\"35.304688\" xlink:href=\"#m4835ebd51f\" y=\"102.068549\"/>\r\n      </g>\r\n     </g>\r\n     <g id=\"text_11\">\r\n      <!-- −15 -->\r\n      <g transform=\"translate(7.2 105.867768)scale(0.1 -0.1)\">\r\n       <use xlink:href=\"#DejaVuSans-8722\"/>\r\n       <use x=\"83.789062\" xlink:href=\"#DejaVuSans-49\"/>\r\n       <use x=\"147.412109\" xlink:href=\"#DejaVuSans-53\"/>\r\n      </g>\r\n     </g>\r\n    </g>\r\n    <g id=\"ytick_6\">\r\n     <g id=\"line2d_40\">\r\n      <g>\r\n       <use style=\"stroke:#000000;stroke-width:0.8;\" x=\"35.304688\" xlink:href=\"#m4835ebd51f\" y=\"76.615706\"/>\r\n      </g>\r\n     </g>\r\n     <g id=\"text_12\">\r\n      <!-- −10 -->\r\n      <g transform=\"translate(7.2 80.414925)scale(0.1 -0.1)\">\r\n       <use xlink:href=\"#DejaVuSans-8722\"/>\r\n       <use x=\"83.789062\" xlink:href=\"#DejaVuSans-49\"/>\r\n       <use x=\"147.412109\" xlink:href=\"#DejaVuSans-48\"/>\r\n      </g>\r\n     </g>\r\n    </g>\r\n    <g id=\"ytick_7\">\r\n     <g id=\"line2d_41\">\r\n      <g>\r\n       <use style=\"stroke:#000000;stroke-width:0.8;\" x=\"35.304688\" xlink:href=\"#m4835ebd51f\" y=\"51.162863\"/>\r\n      </g>\r\n     </g>\r\n     <g id=\"text_13\">\r\n      <!-- −5 -->\r\n      <g transform=\"translate(13.5625 54.962082)scale(0.1 -0.1)\">\r\n       <use xlink:href=\"#DejaVuSans-8722\"/>\r\n       <use x=\"83.789062\" xlink:href=\"#DejaVuSans-53\"/>\r\n      </g>\r\n     </g>\r\n    </g>\r\n    <g id=\"ytick_8\">\r\n     <g id=\"line2d_42\">\r\n      <g>\r\n       <use style=\"stroke:#000000;stroke-width:0.8;\" x=\"35.304688\" xlink:href=\"#m4835ebd51f\" y=\"25.71002\"/>\r\n      </g>\r\n     </g>\r\n     <g id=\"text_14\">\r\n      <!-- 0 -->\r\n      <g transform=\"translate(21.942188 29.509239)scale(0.1 -0.1)\">\r\n       <use xlink:href=\"#DejaVuSans-48\"/>\r\n      </g>\r\n     </g>\r\n    </g>\r\n   </g>\r\n   <g id=\"line2d_43\">\r\n    <path clip-path=\"url(#p008fdc3562)\" d=\"M 35.304688 30.072246 \r\nL 35.639823 27.522153 \r\nL 35.974958 22.494902 \r\nL 36.310093 28.284418 \r\nL 36.645228 25.243281 \r\nL 36.980363 24.864253 \r\nL 37.315498 23.772134 \r\nL 37.650633 30.687013 \r\nL 37.985769 35.11161 \r\nL 38.320904 29.091965 \r\nL 38.656039 27.271878 \r\nL 38.991174 33.082277 \r\nL 39.326309 30.793846 \r\nL 39.661444 30.710064 \r\nL 39.996579 22.995362 \r\nL 40.331715 26.868135 \r\nL 40.66685 29.187909 \r\nL 41.001985 36.613884 \r\nL 41.33712 33.256206 \r\nL 41.672255 26.633112 \r\nL 42.00739 38.071899 \r\nL 42.342525 43.065375 \r\nL 43.012796 31.957201 \r\nL 43.347931 41.940923 \r\nL 43.683066 37.119075 \r\nL 44.018201 37.814625 \r\nL 44.353336 34.137619 \r\nL 44.688471 37.262762 \r\nL 45.358742 47.253891 \r\nL 45.693877 48.569561 \r\nL 46.029012 49.050303 \r\nL 46.364147 51.408798 \r\nL 46.699282 56.748462 \r\nL 47.034417 47.453055 \r\nL 47.369552 47.369191 \r\nL 47.704688 51.333186 \r\nL 48.039823 52.992914 \r\nL 48.374958 62.779375 \r\nL 49.380363 73.633752 \r\nL 49.715498 75.527577 \r\nL 50.050633 69.880787 \r\nL 50.385769 67.128342 \r\nL 50.720904 69.120288 \r\nL 51.056039 72.580774 \r\nL 51.391174 65.153352 \r\nL 51.726309 63.211055 \r\nL 52.061444 63.565792 \r\nL 52.396579 51.929916 \r\nL 52.731715 49.001435 \r\nL 53.06685 54.389162 \r\nL 53.401985 48.118114 \r\nL 54.072255 30.714113 \r\nL 54.40739 33.374353 \r\nL 54.742525 25.132138 \r\nL 55.07766 32.972415 \r\nL 55.412796 32.458176 \r\nL 55.747931 26.452815 \r\nL 56.083066 26.116532 \r\nL 56.418201 28.371915 \r\nL 56.753336 37.614474 \r\nL 57.088471 36.116016 \r\nL 57.758742 45.822579 \r\nL 58.093877 46.038561 \r\nL 58.429012 42.862739 \r\nL 58.764147 40.862212 \r\nL 59.099282 46.887487 \r\nL 59.434417 42.434315 \r\nL 59.769552 41.539555 \r\nL 60.104687 43.967629 \r\nL 60.774958 32.705315 \r\nL 61.110093 28.450897 \r\nL 61.445228 31.996253 \r\nL 61.780363 26.07755 \r\nL 62.115498 26.551167 \r\nL 62.450633 27.530744 \r\nL 62.785769 22.149502 \r\nL 63.120904 20.691776 \r\nL 63.456039 20.110474 \r\nL 63.791174 27.25725 \r\nL 64.126309 26.476352 \r\nL 64.796579 36.977261 \r\nL 65.131715 29.664941 \r\nL 65.46685 33.802028 \r\nL 65.801985 32.667252 \r\nL 66.13712 38.450243 \r\nL 66.472255 28.730272 \r\nL 66.80739 26.438493 \r\nL 67.142525 21.177622 \r\nL 67.47766 27.891477 \r\nL 67.812796 24.545095 \r\nL 68.147931 24.868366 \r\nL 68.483066 23.119697 \r\nL 68.818201 17.083636 \r\nL 69.153336 18.70517 \r\nL 69.488471 30.13602 \r\nL 69.823606 26.977462 \r\nL 70.158742 25.610442 \r\nL 70.493877 22.689105 \r\nL 70.829012 24.686054 \r\nL 71.164147 24.643882 \r\nL 71.499282 20.616204 \r\nL 71.834417 24.942053 \r\nL 72.169552 25.796152 \r\nL 72.839823 39.60982 \r\nL 73.174958 47.062825 \r\nL 73.510093 49.097493 \r\nL 73.845228 55.019961 \r\nL 74.180363 49.380426 \r\nL 74.515498 50.252596 \r\nL 74.850633 52.248685 \r\nL 75.185769 55.800686 \r\nL 75.520904 60.997794 \r\nL 75.856039 56.324353 \r\nL 76.191174 48.111732 \r\nL 76.526309 36.554074 \r\nL 76.861444 33.194527 \r\nL 77.196579 36.900955 \r\nL 77.531715 35.439828 \r\nL 77.86685 36.735984 \r\nL 78.201985 33.00834 \r\nL 78.53712 21.73143 \r\nL 79.20739 29.00643 \r\nL 79.542525 36.575976 \r\nL 79.87766 39.906563 \r\nL 80.212796 39.199469 \r\nL 80.883066 54.196664 \r\nL 81.218201 54.990089 \r\nL 81.553336 62.774663 \r\nL 81.888471 64.113212 \r\nL 82.223606 72.671571 \r\nL 82.893877 83.788696 \r\nL 83.229012 83.216976 \r\nL 83.899282 87.662867 \r\nL 84.569552 95.462413 \r\nL 84.904687 94.681448 \r\nL 85.239823 104.107917 \r\nL 85.574958 100.831192 \r\nL 85.910093 112.185012 \r\nL 86.245228 115.090048 \r\nL 86.580363 108.816056 \r\nL 86.915498 109.580838 \r\nL 87.250633 105.344323 \r\nL 87.585769 105.508462 \r\nL 87.920904 109.658184 \r\nL 88.256039 115.301989 \r\nL 88.591174 114.939124 \r\nL 88.926309 111.887868 \r\nL 89.261444 111.405548 \r\nL 89.596579 109.944098 \r\nL 89.931715 110.623436 \r\nL 90.26685 114.019567 \r\nL 90.601985 118.654833 \r\nL 90.93712 118.878934 \r\nL 91.272255 115.580893 \r\nL 91.60739 118.52985 \r\nL 92.27766 118.622384 \r\nL 92.612796 129.954948 \r\nL 92.947931 130.572539 \r\nL 93.283066 126.550237 \r\nL 93.618201 124.166787 \r\nL 94.288471 109.011256 \r\nL 94.623606 107.520473 \r\nL 94.958742 101.031526 \r\nL 95.293877 99.827568 \r\nL 95.629012 100.145103 \r\nL 95.964147 98.584216 \r\nL 96.634417 118.206426 \r\nL 96.969552 122.005742 \r\nL 97.304688 127.583039 \r\nL 97.639823 126.253687 \r\nL 97.974958 128.691573 \r\nL 98.310093 122.068281 \r\nL 98.645228 117.896371 \r\nL 99.315498 128.472083 \r\nL 99.650633 138.274872 \r\nL 99.985769 138.204281 \r\nL 100.320904 142.703624 \r\nL 100.656039 141.551961 \r\nL 100.991174 145.544504 \r\nL 101.326309 142.538965 \r\nL 101.996579 147.462731 \r\nL 102.331715 139.985156 \r\nL 103.001985 158.425383 \r\nL 103.33712 147.437065 \r\nL 103.672255 147.655964 \r\nL 104.00739 142.426813 \r\nL 104.342525 149.731316 \r\nL 104.67766 153.011319 \r\nL 105.012796 159.792749 \r\nL 105.347931 159.741234 \r\nL 105.683066 156.191213 \r\nL 106.018201 162.467214 \r\nL 106.353336 159.557236 \r\nL 106.688471 160.974686 \r\nL 107.023606 161.894495 \r\nL 107.358742 170.403395 \r\nL 108.029012 178.727376 \r\nL 108.364147 178.155291 \r\nL 108.699282 173.432724 \r\nL 109.034417 177.513195 \r\nL 109.369552 179.825098 \r\nL 109.704688 177.430395 \r\nL 110.039823 174.135954 \r\nL 110.374958 175.263568 \r\nL 110.710093 175.07119 \r\nL 111.045228 170.202333 \r\nL 111.380363 169.757723 \r\nL 111.715498 161.141714 \r\nL 112.050633 159.914839 \r\nL 112.385769 160.38459 \r\nL 112.720904 153.74782 \r\nL 113.056039 160.100773 \r\nL 113.726309 161.196631 \r\nL 114.061444 164.467545 \r\nL 114.731715 160.006467 \r\nL 115.06685 160.831081 \r\nL 115.73712 169.379723 \r\nL 116.072255 165.853242 \r\nL 116.40739 171.686993 \r\nL 116.742525 173.357339 \r\nL 117.07766 165.357614 \r\nL 117.747931 160.849915 \r\nL 118.083066 159.721849 \r\nL 118.418201 157.54208 \r\nL 119.088471 143.499657 \r\nL 119.423606 143.540283 \r\nL 119.758742 140.556963 \r\nL 120.764147 122.946888 \r\nL 121.099282 126.469203 \r\nL 121.434417 123.466264 \r\nL 121.769552 115.939371 \r\nL 122.104687 115.305429 \r\nL 122.439823 105.512462 \r\nL 122.774958 104.752174 \r\nL 123.110093 106.035118 \r\nL 123.445228 105.435577 \r\nL 123.780363 110.435897 \r\nL 124.785769 100.887211 \r\nL 125.120904 101.338567 \r\nL 125.456039 104.76354 \r\nL 125.791174 106.10278 \r\nL 126.126309 101.500211 \r\nL 126.461444 100.076271 \r\nL 126.796579 105.10149 \r\nL 127.131715 104.172005 \r\nL 127.46685 111.883007 \r\nL 128.13712 108.651079 \r\nL 128.80739 101.787665 \r\nL 129.142525 107.679102 \r\nL 129.47766 103.699094 \r\nL 129.812796 106.811758 \r\nL 130.147931 106.186082 \r\nL 130.483066 108.038221 \r\nL 130.818201 111.21532 \r\nL 131.153336 107.591126 \r\nL 131.488471 113.745724 \r\nL 131.823606 106.522859 \r\nL 132.158742 106.287324 \r\nL 132.493877 106.421483 \r\nL 132.829012 95.822996 \r\nL 133.164147 110.002142 \r\nL 133.499282 112.895984 \r\nL 133.834417 105.550605 \r\nL 134.169552 113.444314 \r\nL 134.504687 110.962328 \r\nL 134.839823 111.696159 \r\nL 135.174958 109.976976 \r\nL 135.510093 111.967919 \r\nL 135.845228 109.970335 \r\nL 136.180363 105.71037 \r\nL 136.515498 119.422012 \r\nL 136.850633 120.450025 \r\nL 137.185769 116.810963 \r\nL 137.520904 116.679697 \r\nL 137.856039 116.165577 \r\nL 138.191174 111.979218 \r\nL 138.526309 105.448762 \r\nL 138.861444 105.005788 \r\nL 139.196579 102.504064 \r\nL 139.531715 104.664171 \r\nL 139.86685 104.029014 \r\nL 140.201985 114.779407 \r\nL 140.53712 113.225266 \r\nL 141.20739 123.7468 \r\nL 141.542525 119.800576 \r\nL 141.87766 110.904879 \r\nL 142.212796 107.521124 \r\nL 142.547931 106.659237 \r\nL 143.218201 116.765639 \r\nL 143.553336 115.386585 \r\nL 143.888471 116.422603 \r\nL 144.223606 120.29026 \r\nL 144.558742 108.348889 \r\nL 144.893877 101.533338 \r\nL 145.564147 94.236503 \r\nL 145.899282 92.668005 \r\nL 146.234417 93.11117 \r\nL 146.569552 90.995939 \r\nL 146.904687 94.935244 \r\nL 147.239823 92.787109 \r\nL 147.574958 88.442147 \r\nL 147.910093 93.478361 \r\nL 148.245228 90.397296 \r\nL 148.580363 84.78631 \r\nL 149.250633 69.518096 \r\nL 149.585769 71.715237 \r\nL 149.920904 72.055324 \r\nL 150.256039 77.295095 \r\nL 150.591174 71.421094 \r\nL 150.926309 68.05144 \r\nL 151.261444 61.997179 \r\nL 151.596579 50.649034 \r\nL 151.931715 49.687473 \r\nL 152.26685 47.546268 \r\nL 152.601985 47.205946 \r\nL 152.93712 49.642741 \r\nL 153.272255 48.603486 \r\nL 153.60739 46.424272 \r\nL 153.942525 48.886105 \r\nL 154.27766 48.838761 \r\nL 154.612796 46.516403 \r\nL 154.947931 46.450949 \r\nL 155.283066 50.185501 \r\nL 155.618201 47.277834 \r\nL 155.953336 49.336211 \r\nL 156.288471 54.356433 \r\nL 156.958742 58.861496 \r\nL 157.293877 68.473846 \r\nL 157.629012 64.339667 \r\nL 157.964147 64.979515 \r\nL 158.299282 56.462873 \r\nL 158.634417 61.364104 \r\nL 158.969552 71.676662 \r\nL 159.304688 70.316577 \r\nL 159.639823 67.71481 \r\nL 159.974958 74.333516 \r\nL 160.310093 74.115016 \r\nL 160.645228 87.589482 \r\nL 160.980363 88.057271 \r\nL 161.315498 91.190837 \r\nL 161.985769 90.478752 \r\nL 162.320904 84.928914 \r\nL 162.991174 95.046673 \r\nL 163.326309 92.67064 \r\nL 163.661444 87.191866 \r\nL 163.996579 95.489645 \r\nL 164.331715 95.633831 \r\nL 165.001985 90.289867 \r\nL 165.33712 74.645111 \r\nL 165.672255 74.324633 \r\nL 166.00739 77.995645 \r\nL 166.67766 70.900513 \r\nL 167.012796 62.956451 \r\nL 167.347931 60.860033 \r\nL 167.683066 71.222009 \r\nL 168.018201 70.227562 \r\nL 168.353336 73.164405 \r\nL 168.688471 75.120927 \r\nL 169.023606 74.130288 \r\nL 169.358742 79.001561 \r\nL 169.693877 78.678688 \r\nL 170.029012 82.23569 \r\nL 170.364147 82.207666 \r\nL 170.699282 85.107539 \r\nL 171.034417 86.605913 \r\nL 171.369552 84.664739 \r\nL 171.704688 81.708678 \r\nL 172.039823 84.261603 \r\nL 172.374958 94.930006 \r\nL 172.710093 83.278571 \r\nL 173.045228 89.820804 \r\nL 173.380363 81.828687 \r\nL 173.715498 98.013828 \r\nL 174.050633 92.822292 \r\nL 174.385769 89.819757 \r\nL 174.720904 87.88112 \r\nL 175.056039 90.121295 \r\nL 175.391174 86.263863 \r\nL 175.726309 95.775671 \r\nL 176.061444 109.606431 \r\nL 176.396579 113.268811 \r\nL 176.731715 115.497863 \r\nL 177.06685 124.367485 \r\nL 177.401985 121.04225 \r\nL 177.73712 125.777984 \r\nL 178.742525 123.408185 \r\nL 179.07766 126.052875 \r\nL 179.412796 121.402532 \r\nL 179.747931 120.841993 \r\nL 180.083066 115.856909 \r\nL 180.753336 120.834263 \r\nL 181.088471 121.805705 \r\nL 181.423606 119.828066 \r\nL 181.758742 119.965482 \r\nL 182.093877 126.633543 \r\nL 182.429012 122.569174 \r\nL 182.764147 127.978655 \r\nL 183.099282 126.038516 \r\nL 183.434417 120.794249 \r\nL 183.769552 113.602607 \r\nL 184.104687 114.765208 \r\nL 184.439823 117.534778 \r\nL 184.774958 125.099301 \r\nL 185.110093 129.081672 \r\nL 185.445228 126.179087 \r\nL 185.780363 120.849454 \r\nL 186.115498 121.437182 \r\nL 186.450633 113.112783 \r\nL 186.785769 110.266856 \r\nL 187.120904 110.918288 \r\nL 187.456039 105.338268 \r\nL 187.791174 106.589315 \r\nL 188.126309 105.861421 \r\nL 188.461444 97.174882 \r\nL 188.796579 91.509125 \r\nL 189.131715 92.487242 \r\nL 189.46685 80.806409 \r\nL 189.801985 90.951556 \r\nL 190.13712 97.290684 \r\nL 190.472255 100.032624 \r\nL 190.80739 100.363845 \r\nL 191.142525 98.873773 \r\nL 191.812796 112.36929 \r\nL 192.147931 108.215938 \r\nL 192.483066 108.513629 \r\nL 192.818201 102.150744 \r\nL 193.153336 99.90319 \r\nL 193.488471 101.627103 \r\nL 193.823606 98.600838 \r\nL 194.158742 101.41567 \r\nL 194.493877 101.69416 \r\nL 194.829012 90.196438 \r\nL 195.164147 98.516808 \r\nL 195.834417 77.995643 \r\nL 196.504687 90.411283 \r\nL 196.839823 91.530851 \r\nL 197.174958 84.632324 \r\nL 197.510093 88.840188 \r\nL 197.845228 85.582258 \r\nL 198.180363 84.140344 \r\nL 198.515498 84.812593 \r\nL 198.850633 80.173335 \r\nL 199.185769 80.204033 \r\nL 199.520904 87.871451 \r\nL 199.856039 81.610727 \r\nL 200.191174 71.437182 \r\nL 200.526309 66.132918 \r\nL 200.861444 64.755918 \r\nL 201.196579 63.908607 \r\nL 201.531715 66.96495 \r\nL 201.86685 65.713045 \r\nL 202.201985 65.260705 \r\nL 202.53712 58.024854 \r\nL 202.872255 64.286459 \r\nL 203.20739 67.930034 \r\nL 203.542525 64.078635 \r\nL 203.87766 70.357404 \r\nL 204.212796 83.232435 \r\nL 204.547931 78.440821 \r\nL 204.883066 79.767652 \r\nL 205.218201 85.748554 \r\nL 205.553336 89.385281 \r\nL 205.888471 99.076598 \r\nL 206.223606 102.462756 \r\nL 206.558742 107.757964 \r\nL 206.893877 117.805364 \r\nL 207.229012 116.983789 \r\nL 207.564147 125.201958 \r\nL 207.899282 128.196202 \r\nL 208.234417 135.11563 \r\nL 208.569552 135.927907 \r\nL 208.904687 136.179745 \r\nL 209.239823 131.825795 \r\nL 209.574958 129.163159 \r\nL 209.910093 128.492607 \r\nL 210.245228 134.394309 \r\nL 210.580363 130.751379 \r\nL 210.915498 132.295641 \r\nL 211.250633 127.295446 \r\nL 211.585769 130.806673 \r\nL 212.256039 134.279118 \r\nL 212.591174 134.235608 \r\nL 212.926309 130.014103 \r\nL 213.261444 131.95095 \r\nL 213.596579 125.819867 \r\nL 213.931715 124.174988 \r\nL 214.26685 123.937191 \r\nL 214.601985 118.304618 \r\nL 214.93712 129.56899 \r\nL 215.272255 130.806845 \r\nL 215.60739 133.964688 \r\nL 215.942525 144.268982 \r\nL 216.27766 150.32124 \r\nL 216.612796 143.666014 \r\nL 216.947931 148.607506 \r\nL 217.283066 151.382038 \r\nL 217.618201 148.822305 \r\nL 217.953336 149.325584 \r\nL 218.288471 150.140503 \r\nL 218.623606 159.191392 \r\nL 218.958742 162.642727 \r\nL 219.293877 153.190123 \r\nL 219.629012 155.442407 \r\nL 219.964147 161.195963 \r\nL 220.299282 161.378887 \r\nL 220.634417 160.093295 \r\nL 220.969552 153.963172 \r\nL 221.304688 142.384275 \r\nL 221.639823 140.865312 \r\nL 221.974958 147.800855 \r\nL 222.310093 147.393996 \r\nL 222.645228 146.810867 \r\nL 222.980363 153.556603 \r\nL 223.315498 157.129557 \r\nL 223.650633 154.828278 \r\nL 223.985769 154.174246 \r\nL 224.320904 157.500987 \r\nL 224.656039 168.750887 \r\nL 224.991174 163.978836 \r\nL 225.326309 167.703263 \r\nL 225.661444 167.197232 \r\nL 225.996579 169.016955 \r\nL 226.331715 160.618636 \r\nL 226.66685 168.815929 \r\nL 227.001985 171.735571 \r\nL 227.33712 171.782326 \r\nL 227.672255 169.231707 \r\nL 228.00739 172.78788 \r\nL 228.342525 167.038737 \r\nL 228.67766 172.410029 \r\nL 229.012796 174.970772 \r\nL 229.683066 161.709559 \r\nL 230.018201 164.360866 \r\nL 230.353336 166.004463 \r\nL 230.688471 165.877366 \r\nL 231.023606 162.272991 \r\nL 231.358742 165.392724 \r\nL 231.693877 167.055756 \r\nL 232.029012 166.390451 \r\nL 232.364147 164.978297 \r\nL 232.699282 167.43738 \r\nL 233.034417 167.133166 \r\nL 233.369552 161.780862 \r\nL 233.704688 164.678792 \r\nL 234.039823 169.155668 \r\nL 234.710093 155.329813 \r\nL 235.045228 151.185649 \r\nL 235.380363 148.502654 \r\nL 236.050633 154.248654 \r\nL 236.720904 147.173739 \r\nL 237.056039 134.692789 \r\nL 237.391174 142.708603 \r\nL 237.726309 143.494083 \r\nL 238.061444 141.441676 \r\nL 238.396579 142.159605 \r\nL 238.731715 143.231324 \r\nL 239.06685 154.032832 \r\nL 239.401985 152.725724 \r\nL 239.73712 153.672811 \r\nL 240.072255 156.550372 \r\nL 240.40739 165.137698 \r\nL 240.742525 167.194755 \r\nL 241.07766 167.49714 \r\nL 241.412796 176.055696 \r\nL 241.747931 177.242956 \r\nL 242.083066 174.812084 \r\nL 242.753336 166.272602 \r\nL 243.088471 174.168011 \r\nL 243.423606 176.460767 \r\nL 243.758742 180.274389 \r\nL 244.093877 180.778239 \r\nL 244.429012 174.481204 \r\nL 245.099282 170.949537 \r\nL 245.769552 159.396286 \r\nL 246.104687 146.955445 \r\nL 246.439823 149.983101 \r\nL 246.774958 149.050642 \r\nL 247.110093 144.41423 \r\nL 247.445228 144.67488 \r\nL 248.115498 149.929374 \r\nL 248.450633 149.248023 \r\nL 248.785769 149.212992 \r\nL 249.120904 146.125396 \r\nL 249.456039 148.531521 \r\nL 249.791174 146.854951 \r\nL 250.126309 156.719208 \r\nL 250.796579 171.202484 \r\nL 251.131715 163.619848 \r\nL 251.46685 161.480365 \r\nL 251.801985 170.294972 \r\nL 252.472255 160.659308 \r\nL 252.80739 161.404373 \r\nL 253.142525 154.382652 \r\nL 253.47766 152.504189 \r\nL 253.812796 148.489616 \r\nL 254.147931 146.411612 \r\nL 254.483066 136.641117 \r\nL 254.818201 136.993396 \r\nL 255.153336 136.863635 \r\nL 255.488471 137.12889 \r\nL 255.823606 137.998616 \r\nL 256.158742 141.946532 \r\nL 256.829012 160.345485 \r\nL 257.164147 158.202799 \r\nL 257.499282 153.029542 \r\nL 257.834417 138.816461 \r\nL 258.169552 135.291363 \r\nL 258.504687 139.066518 \r\nL 258.839823 140.065925 \r\nL 259.174958 145.484688 \r\nL 259.510093 148.5429 \r\nL 259.845228 148.86497 \r\nL 260.180363 147.395905 \r\nL 260.515498 162.235262 \r\nL 260.850633 167.355398 \r\nL 261.520904 157.046582 \r\nL 262.191174 148.540244 \r\nL 262.861444 151.641715 \r\nL 263.196579 147.952931 \r\nL 263.86685 165.531706 \r\nL 264.201985 165.112258 \r\nL 264.53712 166.411762 \r\nL 264.872255 165.997236 \r\nL 265.20739 160.582253 \r\nL 265.542525 161.22328 \r\nL 265.87766 162.699777 \r\nL 266.212796 166.004912 \r\nL 266.547931 162.03784 \r\nL 266.883066 152.073595 \r\nL 267.218201 153.722156 \r\nL 267.553336 147.905152 \r\nL 267.888471 147.524797 \r\nL 268.223606 146.166554 \r\nL 268.558742 147.512105 \r\nL 268.893877 149.459586 \r\nL 269.229012 147.841897 \r\nL 269.564147 139.777252 \r\nL 269.899282 146.870139 \r\nL 270.234417 144.532914 \r\nL 270.569552 140.398589 \r\nL 270.904687 148.450023 \r\nL 271.239823 146.090597 \r\nL 271.574958 145.606923 \r\nL 271.910093 150.658554 \r\nL 272.245228 157.524801 \r\nL 272.580363 157.783738 \r\nL 272.915498 159.08692 \r\nL 273.250633 156.498906 \r\nL 273.585769 148.572352 \r\nL 273.920904 144.363747 \r\nL 274.256039 147.689198 \r\nL 275.261444 135.660061 \r\nL 275.931715 124.154282 \r\nL 276.26685 122.881503 \r\nL 276.601985 124.930598 \r\nL 276.93712 125.473613 \r\nL 277.272255 123.061217 \r\nL 277.60739 125.534989 \r\nL 277.942525 124.02625 \r\nL 278.27766 130.808018 \r\nL 278.612796 130.079796 \r\nL 279.283066 125.695645 \r\nL 279.953336 128.52455 \r\nL 280.623606 121.407239 \r\nL 280.958742 118.676245 \r\nL 281.293877 117.039527 \r\nL 281.629012 118.827385 \r\nL 281.964147 115.467079 \r\nL 282.299282 115.422907 \r\nL 282.634417 123.163596 \r\nL 282.969552 121.426214 \r\nL 283.304688 130.18442 \r\nL 283.639823 132.479211 \r\nL 283.974958 132.432249 \r\nL 284.310093 139.141437 \r\nL 284.645228 135.617371 \r\nL 284.980363 141.770291 \r\nL 285.315498 137.420464 \r\nL 285.650633 149.081419 \r\nL 286.656039 132.557115 \r\nL 286.991174 139.026738 \r\nL 287.326309 140.432902 \r\nL 287.661444 145.686279 \r\nL 287.996579 149.150345 \r\nL 288.331715 147.355777 \r\nL 288.66685 150.586487 \r\nL 289.001985 152.194166 \r\nL 290.00739 132.271777 \r\nL 290.342525 130.143744 \r\nL 290.67766 117.209153 \r\nL 291.012796 112.879975 \r\nL 291.683066 97.90737 \r\nL 292.018201 101.600611 \r\nL 292.353336 98.779745 \r\nL 292.688471 109.844157 \r\nL 293.023606 112.082134 \r\nL 293.358742 106.940954 \r\nL 293.693877 108.111124 \r\nL 294.029012 107.964096 \r\nL 294.364147 111.480604 \r\nL 294.699282 116.287556 \r\nL 295.034417 117.955745 \r\nL 295.369552 129.548892 \r\nL 295.704688 123.658966 \r\nL 296.039823 127.742244 \r\nL 296.374958 118.342267 \r\nL 297.045228 125.156208 \r\nL 297.715498 118.702111 \r\nL 298.385769 129.760958 \r\nL 298.720904 128.629567 \r\nL 299.726309 116.731914 \r\nL 300.061444 115.451182 \r\nL 300.396579 115.940297 \r\nL 300.731715 118.753855 \r\nL 301.06685 118.003996 \r\nL 301.73712 127.34598 \r\nL 302.072255 128.556517 \r\nL 302.40739 124.993021 \r\nL 302.742525 125.180626 \r\nL 303.07766 114.047918 \r\nL 303.412796 107.119128 \r\nL 303.747931 102.867857 \r\nL 304.083066 109.700225 \r\nL 304.418201 106.662434 \r\nL 304.753336 108.605886 \r\nL 305.088471 112.675041 \r\nL 305.423606 120.752894 \r\nL 305.758742 121.450583 \r\nL 306.093877 114.389204 \r\nL 306.429012 116.391586 \r\nL 306.764147 120.759419 \r\nL 307.099282 127.10066 \r\nL 307.434417 140.126213 \r\nL 307.769552 143.054307 \r\nL 308.104688 144.757167 \r\nL 308.439823 147.333416 \r\nL 308.774958 151.203733 \r\nL 309.110093 152.656667 \r\nL 309.445228 147.080298 \r\nL 309.780363 144.344415 \r\nL 310.115498 146.102832 \r\nL 310.450633 154.350185 \r\nL 310.785769 159.340048 \r\nL 311.456039 156.232655 \r\nL 312.126309 176.768183 \r\nL 312.461444 181.417416 \r\nL 312.796579 176.222392 \r\nL 313.131715 182.011901 \r\nL 313.46685 180.910993 \r\nL 314.472255 172.741555 \r\nL 314.80739 172.633668 \r\nL 315.142525 182.937863 \r\nL 315.47766 186.934701 \r\nL 316.483066 181.176453 \r\nL 316.818201 181.659659 \r\nL 317.153336 178.696565 \r\nL 317.488471 173.464311 \r\nL 317.823606 175.523388 \r\nL 318.158742 165.800519 \r\nL 318.493877 172.376557 \r\nL 318.829012 176.199007 \r\nL 319.164147 173.267929 \r\nL 319.499282 181.309932 \r\nL 319.834417 180.359384 \r\nL 320.169552 180.490879 \r\nL 320.504687 176.383156 \r\nL 320.839823 175.593565 \r\nL 321.174958 171.82685 \r\nL 321.510093 173.739066 \r\nL 321.845228 165.696444 \r\nL 322.180363 162.39643 \r\nL 322.515498 165.76638 \r\nL 322.850633 161.147507 \r\nL 323.185769 163.271153 \r\nL 323.520904 158.76299 \r\nL 324.191174 161.160617 \r\nL 324.526309 160.147292 \r\nL 324.861444 156.830325 \r\nL 325.196579 151.605459 \r\nL 325.531715 160.165016 \r\nL 325.86685 156.164898 \r\nL 326.201985 153.641079 \r\nL 326.53712 148.912425 \r\nL 326.872255 148.824577 \r\nL 327.20739 148.979667 \r\nL 327.542525 149.401699 \r\nL 327.87766 151.693533 \r\nL 328.547931 147.417801 \r\nL 329.553336 154.081625 \r\nL 329.888471 154.340114 \r\nL 330.223606 151.131007 \r\nL 330.558742 153.09261 \r\nL 330.893877 151.567507 \r\nL 331.229012 149.460155 \r\nL 331.564147 150.219496 \r\nL 331.899282 159.249997 \r\nL 332.234417 159.798184 \r\nL 332.569552 164.663887 \r\nL 332.904687 160.277563 \r\nL 333.239823 164.058932 \r\nL 333.910093 147.277196 \r\nL 334.580363 143.364754 \r\nL 334.915498 139.259928 \r\nL 335.250633 141.75047 \r\nL 335.585769 153.314596 \r\nL 335.920904 154.309111 \r\nL 336.256039 150.598292 \r\nL 336.591174 151.520045 \r\nL 336.926309 150.722322 \r\nL 337.261444 157.597925 \r\nL 337.596579 161.017851 \r\nL 337.931715 158.830739 \r\nL 338.26685 158.160259 \r\nL 338.601985 162.60779 \r\nL 338.93712 157.046125 \r\nL 339.272255 155.452101 \r\nL 339.60739 163.172534 \r\nL 339.942525 161.319901 \r\nL 340.27766 161.026486 \r\nL 340.612796 161.443322 \r\nL 340.947931 160.766807 \r\nL 341.283066 163.960529 \r\nL 341.618201 168.255293 \r\nL 341.953336 162.355158 \r\nL 342.623606 159.680085 \r\nL 342.958742 161.474863 \r\nL 343.293877 161.222663 \r\nL 343.629012 171.013898 \r\nL 343.964147 171.073589 \r\nL 344.299282 165.716048 \r\nL 344.634417 171.54723 \r\nL 344.969552 172.895004 \r\nL 345.304688 167.20373 \r\nL 345.639823 172.28668 \r\nL 346.310093 163.039432 \r\nL 346.645228 163.727645 \r\nL 346.980363 174.052241 \r\nL 347.315498 176.367356 \r\nL 347.650633 172.828692 \r\nL 348.320904 178.144934 \r\nL 348.656039 174.207811 \r\nL 348.991174 173.988734 \r\nL 349.326309 164.141194 \r\nL 349.661444 160.439784 \r\nL 349.996579 164.650516 \r\nL 350.331715 165.131919 \r\nL 350.66685 166.48671 \r\nL 351.001985 165.053508 \r\nL 351.33712 165.338842 \r\nL 351.672255 165.081453 \r\nL 352.00739 166.175313 \r\nL 352.342525 160.615565 \r\nL 352.67766 170.80976 \r\nL 353.012796 171.147939 \r\nL 353.347931 179.854658 \r\nL 353.683066 175.960835 \r\nL 354.018201 178.40871 \r\nL 354.353336 175.722804 \r\nL 355.023606 181.121351 \r\nL 355.358742 191.065946 \r\nL 355.693877 183.708867 \r\nL 356.029012 182.89584 \r\nL 356.364147 183.916439 \r\nL 356.699282 190.676583 \r\nL 357.034417 187.418097 \r\nL 357.369552 189.965445 \r\nL 357.704688 188.025817 \r\nL 358.039823 195.390304 \r\nL 358.710093 214.756364 \r\nL 359.045228 199.665713 \r\nL 359.380363 206.009315 \r\nL 359.715498 198.183215 \r\nL 360.050633 201.042727 \r\nL 360.385769 202.405616 \r\nL 360.720904 206.159978 \r\nL 361.056039 195.241829 \r\nL 361.391174 192.92526 \r\nL 361.726309 197.083172 \r\nL 362.061444 194.679484 \r\nL 362.396579 194.969461 \r\nL 362.731715 188.5952 \r\nL 363.06685 187.411885 \r\nL 363.401985 192.426947 \r\nL 363.73712 192.790273 \r\nL 364.072255 199.825014 \r\nL 364.40739 203.424865 \r\nL 364.742525 203.297138 \r\nL 365.07766 199.312761 \r\nL 365.412796 189.581761 \r\nL 365.747931 187.566462 \r\nL 366.083066 173.083697 \r\nL 366.418201 174.89909 \r\nL 366.753336 169.741541 \r\nL 367.088471 169.9811 \r\nL 367.423606 166.221201 \r\nL 367.758742 170.837602 \r\nL 368.093877 168.460672 \r\nL 368.764147 173.30382 \r\nL 369.099282 173.925759 \r\nL 369.434417 168.836337 \r\nL 369.769552 171.551244 \r\nL 370.104688 168.771457 \r\nL 370.104688 168.771457 \r\n\" style=\"fill:none;stroke:#1f77b4;stroke-linecap:square;stroke-width:1.5;\"/>\r\n   </g>\r\n   <g id=\"patch_3\">\r\n    <path d=\"M 35.304688 224.64 \r\nL 35.304688 7.2 \r\n\" style=\"fill:none;stroke:#000000;stroke-linecap:square;stroke-linejoin:miter;stroke-width:0.8;\"/>\r\n   </g>\r\n   <g id=\"patch_4\">\r\n    <path d=\"M 370.104688 224.64 \r\nL 370.104688 7.2 \r\n\" style=\"fill:none;stroke:#000000;stroke-linecap:square;stroke-linejoin:miter;stroke-width:0.8;\"/>\r\n   </g>\r\n   <g id=\"patch_5\">\r\n    <path d=\"M 35.304688 224.64 \r\nL 370.104688 224.64 \r\n\" style=\"fill:none;stroke:#000000;stroke-linecap:square;stroke-linejoin:miter;stroke-width:0.8;\"/>\r\n   </g>\r\n   <g id=\"patch_6\">\r\n    <path d=\"M 35.304688 7.2 \r\nL 370.104688 7.2 \r\n\" style=\"fill:none;stroke:#000000;stroke-linecap:square;stroke-linejoin:miter;stroke-width:0.8;\"/>\r\n   </g>\r\n  </g>\r\n </g>\r\n <defs>\r\n  <clipPath id=\"p008fdc3562\">\r\n   <rect height=\"217.44\" width=\"334.8\" x=\"35.304688\" y=\"7.2\"/>\r\n  </clipPath>\r\n </defs>\r\n</svg>\r\n",
      "image/png": "[encoded data removed]"
     },
     "metadata": {
      "needs_background": "light"
     }
    }
   ],
   "source": [
    "# Plotting a single series.\n",
    "size = 1000\n",
    "ts = pd.Series(np.random.randn(size), index=pd.date_range(\"1/1/2000\", periods=size)).cumsum()\n",
    "ts.plot()"
   ]
  },
  {
   "cell_type": "code",
   "execution_count": 100,
   "metadata": {},
   "outputs": [
    {
     "output_type": "execute_result",
     "data": {
      "text/plain": [
       "<AxesSubplot:>"
      ]
     },
     "metadata": {},
     "execution_count": 100
    },
    {
     "output_type": "display_data",
     "data": {
      "text/plain": "<Figure size 432x288 with 1 Axes>",
      "image/svg+xml": "<?xml version=\"1.0\" encoding=\"utf-8\" standalone=\"no\"?>\r\n<!DOCTYPE svg PUBLIC \"-//W3C//DTD SVG 1.1//EN\"\r\n  \"http://www.w3.org/Graphics/SVG/1.1/DTD/svg11.dtd\">\r\n<!-- Created with matplotlib (https://matplotlib.org/) -->\r\n<svg height=\"282.111562pt\" version=\"1.1\" viewBox=\"0 0 370.942188 282.111562\" width=\"370.942188pt\" xmlns=\"http://www.w3.org/2000/svg\" xmlns:xlink=\"http://www.w3.org/1999/xlink\">\r\n <metadata>\r\n  <rdf:RDF xmlns:cc=\"http://creativecommons.org/ns#\" xmlns:dc=\"http://purl.org/dc/elements/1.1/\" xmlns:rdf=\"http://www.w3.org/1999/02/22-rdf-syntax-ns#\">\r\n   <cc:Work>\r\n    <dc:type rdf:resource=\"http://purl.org/dc/dcmitype/StillImage\"/>\r\n    <dc:date>2021-02-14T23:24:22.246861</dc:date>\r\n    <dc:format>image/svg+xml</dc:format>\r\n    <dc:creator>\r\n     <cc:Agent>\r\n      <dc:title>Matplotlib v3.3.4, https://matplotlib.org/</dc:title>\r\n     </cc:Agent>\r\n    </dc:creator>\r\n   </cc:Work>\r\n  </rdf:RDF>\r\n </metadata>\r\n <defs>\r\n  <style type=\"text/css\">*{stroke-linecap:butt;stroke-linejoin:round;}</style>\r\n </defs>\r\n <g id=\"figure_1\">\r\n  <g id=\"patch_1\">\r\n   <path d=\"M 0 282.111562 \r\nL 370.942188 282.111562 \r\nL 370.942188 0 \r\nL 0 0 \r\nz\r\n\" style=\"fill:none;\"/>\r\n  </g>\r\n  <g id=\"axes_1\">\r\n   <g id=\"patch_2\">\r\n    <path d=\"M 28.942188 224.64 \r\nL 363.742188 224.64 \r\nL 363.742188 7.2 \r\nL 28.942188 7.2 \r\nz\r\n\" style=\"fill:#ffffff;\"/>\r\n   </g>\r\n   <g id=\"matplotlib.axis_1\">\r\n    <g id=\"xtick_1\">\r\n     <g id=\"line2d_1\">\r\n      <defs>\r\n       <path d=\"M 0 0 \r\nL 0 3.5 \r\n\" id=\"mc6ae64e61e\" style=\"stroke:#000000;stroke-width:0.8;\"/>\r\n      </defs>\r\n      <g>\r\n       <use style=\"stroke:#000000;stroke-width:0.8;\" x=\"28.942187\" xlink:href=\"#mc6ae64e61e\" y=\"224.64\"/>\r\n      </g>\r\n     </g>\r\n     <g id=\"text_1\">\r\n      <!--  -->\r\n      <g transform=\"translate(28.942187 239.238438)scale(0.1 -0.1)\"/>\r\n      <!--  -->\r\n      <g transform=\"translate(28.942187 250.43625)scale(0.1 -0.1)\"/>\r\n      <!-- Jan -->\r\n      <g transform=\"translate(21.234375 261.634063)scale(0.1 -0.1)\">\r\n       <defs>\r\n        <path d=\"M 9.8125 72.90625 \r\nL 19.671875 72.90625 \r\nL 19.671875 5.078125 \r\nQ 19.671875 -8.109375 14.671875 -14.0625 \r\nQ 9.671875 -20.015625 -1.421875 -20.015625 \r\nL -5.171875 -20.015625 \r\nL -5.171875 -11.71875 \r\nL -2.09375 -11.71875 \r\nQ 4.4375 -11.71875 7.125 -8.046875 \r\nQ 9.8125 -4.390625 9.8125 5.078125 \r\nz\r\n\" id=\"DejaVuSans-74\"/>\r\n        <path d=\"M 34.28125 27.484375 \r\nQ 23.390625 27.484375 19.1875 25 \r\nQ 14.984375 22.515625 14.984375 16.5 \r\nQ 14.984375 11.71875 18.140625 8.90625 \r\nQ 21.296875 6.109375 26.703125 6.109375 \r\nQ 34.1875 6.109375 38.703125 11.40625 \r\nQ 43.21875 16.703125 43.21875 25.484375 \r\nL 43.21875 27.484375 \r\nz\r\nM 52.203125 31.203125 \r\nL 52.203125 0 \r\nL 43.21875 0 \r\nL 43.21875 8.296875 \r\nQ 40.140625 3.328125 35.546875 0.953125 \r\nQ 30.953125 -1.421875 24.3125 -1.421875 \r\nQ 15.921875 -1.421875 10.953125 3.296875 \r\nQ 6 8.015625 6 15.921875 \r\nQ 6 25.140625 12.171875 29.828125 \r\nQ 18.359375 34.515625 30.609375 34.515625 \r\nL 43.21875 34.515625 \r\nL 43.21875 35.40625 \r\nQ 43.21875 41.609375 39.140625 45 \r\nQ 35.0625 48.390625 27.6875 48.390625 \r\nQ 23 48.390625 18.546875 47.265625 \r\nQ 14.109375 46.140625 10.015625 43.890625 \r\nL 10.015625 52.203125 \r\nQ 14.9375 54.109375 19.578125 55.046875 \r\nQ 24.21875 56 28.609375 56 \r\nQ 40.484375 56 46.34375 49.84375 \r\nQ 52.203125 43.703125 52.203125 31.203125 \r\nz\r\n\" id=\"DejaVuSans-97\"/>\r\n        <path d=\"M 54.890625 33.015625 \r\nL 54.890625 0 \r\nL 45.90625 0 \r\nL 45.90625 32.71875 \r\nQ 45.90625 40.484375 42.875 44.328125 \r\nQ 39.84375 48.1875 33.796875 48.1875 \r\nQ 26.515625 48.1875 22.3125 43.546875 \r\nQ 18.109375 38.921875 18.109375 30.90625 \r\nL 18.109375 0 \r\nL 9.078125 0 \r\nL 9.078125 54.6875 \r\nL 18.109375 54.6875 \r\nL 18.109375 46.1875 \r\nQ 21.34375 51.125 25.703125 53.5625 \r\nQ 30.078125 56 35.796875 56 \r\nQ 45.21875 56 50.046875 50.171875 \r\nQ 54.890625 44.34375 54.890625 33.015625 \r\nz\r\n\" id=\"DejaVuSans-110\"/>\r\n       </defs>\r\n       <use xlink:href=\"#DejaVuSans-74\"/>\r\n       <use x=\"29.492188\" xlink:href=\"#DejaVuSans-97\"/>\r\n       <use x=\"90.771484\" xlink:href=\"#DejaVuSans-110\"/>\r\n      </g>\r\n      <!-- 2000 -->\r\n      <g transform=\"translate(16.217187 272.831875)scale(0.1 -0.1)\">\r\n       <defs>\r\n        <path d=\"M 19.1875 8.296875 \r\nL 53.609375 8.296875 \r\nL 53.609375 0 \r\nL 7.328125 0 \r\nL 7.328125 8.296875 \r\nQ 12.9375 14.109375 22.625 23.890625 \r\nQ 32.328125 33.6875 34.8125 36.53125 \r\nQ 39.546875 41.84375 41.421875 45.53125 \r\nQ 43.3125 49.21875 43.3125 52.78125 \r\nQ 43.3125 58.59375 39.234375 62.25 \r\nQ 35.15625 65.921875 28.609375 65.921875 \r\nQ 23.96875 65.921875 18.8125 64.3125 \r\nQ 13.671875 62.703125 7.8125 59.421875 \r\nL 7.8125 69.390625 \r\nQ 13.765625 71.78125 18.9375 73 \r\nQ 24.125 74.21875 28.421875 74.21875 \r\nQ 39.75 74.21875 46.484375 68.546875 \r\nQ 53.21875 62.890625 53.21875 53.421875 \r\nQ 53.21875 48.921875 51.53125 44.890625 \r\nQ 49.859375 40.875 45.40625 35.40625 \r\nQ 44.1875 33.984375 37.640625 27.21875 \r\nQ 31.109375 20.453125 19.1875 8.296875 \r\nz\r\n\" id=\"DejaVuSans-50\"/>\r\n        <path d=\"M 31.78125 66.40625 \r\nQ 24.171875 66.40625 20.328125 58.90625 \r\nQ 16.5 51.421875 16.5 36.375 \r\nQ 16.5 21.390625 20.328125 13.890625 \r\nQ 24.171875 6.390625 31.78125 6.390625 \r\nQ 39.453125 6.390625 43.28125 13.890625 \r\nQ 47.125 21.390625 47.125 36.375 \r\nQ 47.125 51.421875 43.28125 58.90625 \r\nQ 39.453125 66.40625 31.78125 66.40625 \r\nz\r\nM 31.78125 74.21875 \r\nQ 44.046875 74.21875 50.515625 64.515625 \r\nQ 56.984375 54.828125 56.984375 36.375 \r\nQ 56.984375 17.96875 50.515625 8.265625 \r\nQ 44.046875 -1.421875 31.78125 -1.421875 \r\nQ 19.53125 -1.421875 13.0625 8.265625 \r\nQ 6.59375 17.96875 6.59375 36.375 \r\nQ 6.59375 54.828125 13.0625 64.515625 \r\nQ 19.53125 74.21875 31.78125 74.21875 \r\nz\r\n\" id=\"DejaVuSans-48\"/>\r\n       </defs>\r\n       <use xlink:href=\"#DejaVuSans-50\"/>\r\n       <use x=\"63.623047\" xlink:href=\"#DejaVuSans-48\"/>\r\n       <use x=\"127.246094\" xlink:href=\"#DejaVuSans-48\"/>\r\n       <use x=\"190.869141\" xlink:href=\"#DejaVuSans-48\"/>\r\n      </g>\r\n     </g>\r\n    </g>\r\n    <g id=\"xtick_2\">\r\n     <g id=\"line2d_2\">\r\n      <g>\r\n       <use style=\"stroke:#000000;stroke-width:0.8;\" x=\"240.754432\" xlink:href=\"#mc6ae64e61e\" y=\"224.64\"/>\r\n      </g>\r\n     </g>\r\n     <g id=\"text_2\">\r\n      <!--  -->\r\n      <g transform=\"translate(240.754432 239.238438)scale(0.1 -0.1)\"/>\r\n      <!--  -->\r\n      <g transform=\"translate(240.754432 250.43625)scale(0.1 -0.1)\"/>\r\n      <!-- Feb -->\r\n      <g transform=\"translate(231.90287 261.634063)scale(0.1 -0.1)\">\r\n       <defs>\r\n        <path d=\"M 9.8125 72.90625 \r\nL 51.703125 72.90625 \r\nL 51.703125 64.59375 \r\nL 19.671875 64.59375 \r\nL 19.671875 43.109375 \r\nL 48.578125 43.109375 \r\nL 48.578125 34.8125 \r\nL 19.671875 34.8125 \r\nL 19.671875 0 \r\nL 9.8125 0 \r\nz\r\n\" id=\"DejaVuSans-70\"/>\r\n        <path d=\"M 56.203125 29.59375 \r\nL 56.203125 25.203125 \r\nL 14.890625 25.203125 \r\nQ 15.484375 15.921875 20.484375 11.0625 \r\nQ 25.484375 6.203125 34.421875 6.203125 \r\nQ 39.59375 6.203125 44.453125 7.46875 \r\nQ 49.3125 8.734375 54.109375 11.28125 \r\nL 54.109375 2.78125 \r\nQ 49.265625 0.734375 44.1875 -0.34375 \r\nQ 39.109375 -1.421875 33.890625 -1.421875 \r\nQ 20.796875 -1.421875 13.15625 6.1875 \r\nQ 5.515625 13.8125 5.515625 26.8125 \r\nQ 5.515625 40.234375 12.765625 48.109375 \r\nQ 20.015625 56 32.328125 56 \r\nQ 43.359375 56 49.78125 48.890625 \r\nQ 56.203125 41.796875 56.203125 29.59375 \r\nz\r\nM 47.21875 32.234375 \r\nQ 47.125 39.59375 43.09375 43.984375 \r\nQ 39.0625 48.390625 32.421875 48.390625 \r\nQ 24.90625 48.390625 20.390625 44.140625 \r\nQ 15.875 39.890625 15.1875 32.171875 \r\nz\r\n\" id=\"DejaVuSans-101\"/>\r\n        <path d=\"M 48.6875 27.296875 \r\nQ 48.6875 37.203125 44.609375 42.84375 \r\nQ 40.53125 48.484375 33.40625 48.484375 \r\nQ 26.265625 48.484375 22.1875 42.84375 \r\nQ 18.109375 37.203125 18.109375 27.296875 \r\nQ 18.109375 17.390625 22.1875 11.75 \r\nQ 26.265625 6.109375 33.40625 6.109375 \r\nQ 40.53125 6.109375 44.609375 11.75 \r\nQ 48.6875 17.390625 48.6875 27.296875 \r\nz\r\nM 18.109375 46.390625 \r\nQ 20.953125 51.265625 25.265625 53.625 \r\nQ 29.59375 56 35.59375 56 \r\nQ 45.5625 56 51.78125 48.09375 \r\nQ 58.015625 40.1875 58.015625 27.296875 \r\nQ 58.015625 14.40625 51.78125 6.484375 \r\nQ 45.5625 -1.421875 35.59375 -1.421875 \r\nQ 29.59375 -1.421875 25.265625 0.953125 \r\nQ 20.953125 3.328125 18.109375 8.203125 \r\nL 18.109375 0 \r\nL 9.078125 0 \r\nL 9.078125 75.984375 \r\nL 18.109375 75.984375 \r\nz\r\n\" id=\"DejaVuSans-98\"/>\r\n       </defs>\r\n       <use xlink:href=\"#DejaVuSans-70\"/>\r\n       <use x=\"52.019531\" xlink:href=\"#DejaVuSans-101\"/>\r\n       <use x=\"113.542969\" xlink:href=\"#DejaVuSans-98\"/>\r\n      </g>\r\n     </g>\r\n    </g>\r\n    <g id=\"xtick_3\">\r\n     <g id=\"line2d_3\">\r\n      <g>\r\n       <use style=\"stroke:#000000;stroke-width:0.8;\" x=\"363.742188\" xlink:href=\"#mc6ae64e61e\" y=\"224.64\"/>\r\n      </g>\r\n     </g>\r\n    </g>\r\n    <g id=\"xtick_4\">\r\n     <g id=\"line2d_4\">\r\n      <defs>\r\n       <path d=\"M 0 0 \r\nL 0 2 \r\n\" id=\"mefa47632aa\" style=\"stroke:#000000;stroke-width:0.6;\"/>\r\n      </defs>\r\n      <g>\r\n       <use style=\"stroke:#000000;stroke-width:0.6;\" x=\"35.774841\" xlink:href=\"#mefa47632aa\" y=\"224.64\"/>\r\n      </g>\r\n     </g>\r\n    </g>\r\n    <g id=\"xtick_5\">\r\n     <g id=\"line2d_5\">\r\n      <g>\r\n       <use style=\"stroke:#000000;stroke-width:0.6;\" x=\"42.607494\" xlink:href=\"#mefa47632aa\" y=\"224.64\"/>\r\n      </g>\r\n     </g>\r\n     <g id=\"text_3\">\r\n      <!-- 03 -->\r\n      <g transform=\"translate(36.244994 237.638438)scale(0.1 -0.1)\">\r\n       <defs>\r\n        <path d=\"M 40.578125 39.3125 \r\nQ 47.65625 37.796875 51.625 33 \r\nQ 55.609375 28.21875 55.609375 21.1875 \r\nQ 55.609375 10.40625 48.1875 4.484375 \r\nQ 40.765625 -1.421875 27.09375 -1.421875 \r\nQ 22.515625 -1.421875 17.65625 -0.515625 \r\nQ 12.796875 0.390625 7.625 2.203125 \r\nL 7.625 11.71875 \r\nQ 11.71875 9.328125 16.59375 8.109375 \r\nQ 21.484375 6.890625 26.8125 6.890625 \r\nQ 36.078125 6.890625 40.9375 10.546875 \r\nQ 45.796875 14.203125 45.796875 21.1875 \r\nQ 45.796875 27.640625 41.28125 31.265625 \r\nQ 36.765625 34.90625 28.71875 34.90625 \r\nL 20.21875 34.90625 \r\nL 20.21875 43.015625 \r\nL 29.109375 43.015625 \r\nQ 36.375 43.015625 40.234375 45.921875 \r\nQ 44.09375 48.828125 44.09375 54.296875 \r\nQ 44.09375 59.90625 40.109375 62.90625 \r\nQ 36.140625 65.921875 28.71875 65.921875 \r\nQ 24.65625 65.921875 20.015625 65.03125 \r\nQ 15.375 64.15625 9.8125 62.3125 \r\nL 9.8125 71.09375 \r\nQ 15.4375 72.65625 20.34375 73.4375 \r\nQ 25.25 74.21875 29.59375 74.21875 \r\nQ 40.828125 74.21875 47.359375 69.109375 \r\nQ 53.90625 64.015625 53.90625 55.328125 \r\nQ 53.90625 49.265625 50.4375 45.09375 \r\nQ 46.96875 40.921875 40.578125 39.3125 \r\nz\r\n\" id=\"DejaVuSans-51\"/>\r\n       </defs>\r\n       <use xlink:href=\"#DejaVuSans-48\"/>\r\n       <use x=\"63.623047\" xlink:href=\"#DejaVuSans-51\"/>\r\n      </g>\r\n     </g>\r\n    </g>\r\n    <g id=\"xtick_6\">\r\n     <g id=\"line2d_6\">\r\n      <g>\r\n       <use style=\"stroke:#000000;stroke-width:0.6;\" x=\"49.440147\" xlink:href=\"#mefa47632aa\" y=\"224.64\"/>\r\n      </g>\r\n     </g>\r\n    </g>\r\n    <g id=\"xtick_7\">\r\n     <g id=\"line2d_7\">\r\n      <g>\r\n       <use style=\"stroke:#000000;stroke-width:0.6;\" x=\"56.2728\" xlink:href=\"#mefa47632aa\" y=\"224.64\"/>\r\n      </g>\r\n     </g>\r\n    </g>\r\n    <g id=\"xtick_8\">\r\n     <g id=\"line2d_8\">\r\n      <g>\r\n       <use style=\"stroke:#000000;stroke-width:0.6;\" x=\"63.105453\" xlink:href=\"#mefa47632aa\" y=\"224.64\"/>\r\n      </g>\r\n     </g>\r\n    </g>\r\n    <g id=\"xtick_9\">\r\n     <g id=\"line2d_9\">\r\n      <g>\r\n       <use style=\"stroke:#000000;stroke-width:0.6;\" x=\"69.938106\" xlink:href=\"#mefa47632aa\" y=\"224.64\"/>\r\n      </g>\r\n     </g>\r\n    </g>\r\n    <g id=\"xtick_10\">\r\n     <g id=\"line2d_10\">\r\n      <g>\r\n       <use style=\"stroke:#000000;stroke-width:0.6;\" x=\"76.770759\" xlink:href=\"#mefa47632aa\" y=\"224.64\"/>\r\n      </g>\r\n     </g>\r\n    </g>\r\n    <g id=\"xtick_11\">\r\n     <g id=\"line2d_11\">\r\n      <g>\r\n       <use style=\"stroke:#000000;stroke-width:0.6;\" x=\"83.603412\" xlink:href=\"#mefa47632aa\" y=\"224.64\"/>\r\n      </g>\r\n     </g>\r\n    </g>\r\n    <g id=\"xtick_12\">\r\n     <g id=\"line2d_12\">\r\n      <g>\r\n       <use style=\"stroke:#000000;stroke-width:0.6;\" x=\"90.436065\" xlink:href=\"#mefa47632aa\" y=\"224.64\"/>\r\n      </g>\r\n     </g>\r\n     <g id=\"text_4\">\r\n      <!-- 10 -->\r\n      <g transform=\"translate(84.073565 237.638438)scale(0.1 -0.1)\">\r\n       <defs>\r\n        <path d=\"M 12.40625 8.296875 \r\nL 28.515625 8.296875 \r\nL 28.515625 63.921875 \r\nL 10.984375 60.40625 \r\nL 10.984375 69.390625 \r\nL 28.421875 72.90625 \r\nL 38.28125 72.90625 \r\nL 38.28125 8.296875 \r\nL 54.390625 8.296875 \r\nL 54.390625 0 \r\nL 12.40625 0 \r\nz\r\n\" id=\"DejaVuSans-49\"/>\r\n       </defs>\r\n       <use xlink:href=\"#DejaVuSans-49\"/>\r\n       <use x=\"63.623047\" xlink:href=\"#DejaVuSans-48\"/>\r\n      </g>\r\n     </g>\r\n    </g>\r\n    <g id=\"xtick_13\">\r\n     <g id=\"line2d_13\">\r\n      <g>\r\n       <use style=\"stroke:#000000;stroke-width:0.6;\" x=\"97.268718\" xlink:href=\"#mefa47632aa\" y=\"224.64\"/>\r\n      </g>\r\n     </g>\r\n    </g>\r\n    <g id=\"xtick_14\">\r\n     <g id=\"line2d_14\">\r\n      <g>\r\n       <use style=\"stroke:#000000;stroke-width:0.6;\" x=\"104.101371\" xlink:href=\"#mefa47632aa\" y=\"224.64\"/>\r\n      </g>\r\n     </g>\r\n    </g>\r\n    <g id=\"xtick_15\">\r\n     <g id=\"line2d_15\">\r\n      <g>\r\n       <use style=\"stroke:#000000;stroke-width:0.6;\" x=\"110.934024\" xlink:href=\"#mefa47632aa\" y=\"224.64\"/>\r\n      </g>\r\n     </g>\r\n    </g>\r\n    <g id=\"xtick_16\">\r\n     <g id=\"line2d_16\">\r\n      <g>\r\n       <use style=\"stroke:#000000;stroke-width:0.6;\" x=\"117.766677\" xlink:href=\"#mefa47632aa\" y=\"224.64\"/>\r\n      </g>\r\n     </g>\r\n    </g>\r\n    <g id=\"xtick_17\">\r\n     <g id=\"line2d_17\">\r\n      <g>\r\n       <use style=\"stroke:#000000;stroke-width:0.6;\" x=\"124.59933\" xlink:href=\"#mefa47632aa\" y=\"224.64\"/>\r\n      </g>\r\n     </g>\r\n    </g>\r\n    <g id=\"xtick_18\">\r\n     <g id=\"line2d_18\">\r\n      <g>\r\n       <use style=\"stroke:#000000;stroke-width:0.6;\" x=\"131.431983\" xlink:href=\"#mefa47632aa\" y=\"224.64\"/>\r\n      </g>\r\n     </g>\r\n    </g>\r\n    <g id=\"xtick_19\">\r\n     <g id=\"line2d_19\">\r\n      <g>\r\n       <use style=\"stroke:#000000;stroke-width:0.6;\" x=\"138.264636\" xlink:href=\"#mefa47632aa\" y=\"224.64\"/>\r\n      </g>\r\n     </g>\r\n     <g id=\"text_5\">\r\n      <!-- 17 -->\r\n      <g transform=\"translate(131.902136 237.638438)scale(0.1 -0.1)\">\r\n       <defs>\r\n        <path d=\"M 8.203125 72.90625 \r\nL 55.078125 72.90625 \r\nL 55.078125 68.703125 \r\nL 28.609375 0 \r\nL 18.3125 0 \r\nL 43.21875 64.59375 \r\nL 8.203125 64.59375 \r\nz\r\n\" id=\"DejaVuSans-55\"/>\r\n       </defs>\r\n       <use xlink:href=\"#DejaVuSans-49\"/>\r\n       <use x=\"63.623047\" xlink:href=\"#DejaVuSans-55\"/>\r\n      </g>\r\n     </g>\r\n    </g>\r\n    <g id=\"xtick_20\">\r\n     <g id=\"line2d_20\">\r\n      <g>\r\n       <use style=\"stroke:#000000;stroke-width:0.6;\" x=\"145.09729\" xlink:href=\"#mefa47632aa\" y=\"224.64\"/>\r\n      </g>\r\n     </g>\r\n    </g>\r\n    <g id=\"xtick_21\">\r\n     <g id=\"line2d_21\">\r\n      <g>\r\n       <use style=\"stroke:#000000;stroke-width:0.6;\" x=\"151.929943\" xlink:href=\"#mefa47632aa\" y=\"224.64\"/>\r\n      </g>\r\n     </g>\r\n    </g>\r\n    <g id=\"xtick_22\">\r\n     <g id=\"line2d_22\">\r\n      <g>\r\n       <use style=\"stroke:#000000;stroke-width:0.6;\" x=\"158.762596\" xlink:href=\"#mefa47632aa\" y=\"224.64\"/>\r\n      </g>\r\n     </g>\r\n    </g>\r\n    <g id=\"xtick_23\">\r\n     <g id=\"line2d_23\">\r\n      <g>\r\n       <use style=\"stroke:#000000;stroke-width:0.6;\" x=\"165.595249\" xlink:href=\"#mefa47632aa\" y=\"224.64\"/>\r\n      </g>\r\n     </g>\r\n    </g>\r\n    <g id=\"xtick_24\">\r\n     <g id=\"line2d_24\">\r\n      <g>\r\n       <use style=\"stroke:#000000;stroke-width:0.6;\" x=\"172.427902\" xlink:href=\"#mefa47632aa\" y=\"224.64\"/>\r\n      </g>\r\n     </g>\r\n    </g>\r\n    <g id=\"xtick_25\">\r\n     <g id=\"line2d_25\">\r\n      <g>\r\n       <use style=\"stroke:#000000;stroke-width:0.6;\" x=\"179.260555\" xlink:href=\"#mefa47632aa\" y=\"224.64\"/>\r\n      </g>\r\n     </g>\r\n    </g>\r\n    <g id=\"xtick_26\">\r\n     <g id=\"line2d_26\">\r\n      <g>\r\n       <use style=\"stroke:#000000;stroke-width:0.6;\" x=\"186.093208\" xlink:href=\"#mefa47632aa\" y=\"224.64\"/>\r\n      </g>\r\n     </g>\r\n     <g id=\"text_6\">\r\n      <!-- 24 -->\r\n      <g transform=\"translate(179.730708 237.638438)scale(0.1 -0.1)\">\r\n       <defs>\r\n        <path d=\"M 37.796875 64.3125 \r\nL 12.890625 25.390625 \r\nL 37.796875 25.390625 \r\nz\r\nM 35.203125 72.90625 \r\nL 47.609375 72.90625 \r\nL 47.609375 25.390625 \r\nL 58.015625 25.390625 \r\nL 58.015625 17.1875 \r\nL 47.609375 17.1875 \r\nL 47.609375 0 \r\nL 37.796875 0 \r\nL 37.796875 17.1875 \r\nL 4.890625 17.1875 \r\nL 4.890625 26.703125 \r\nz\r\n\" id=\"DejaVuSans-52\"/>\r\n       </defs>\r\n       <use xlink:href=\"#DejaVuSans-50\"/>\r\n       <use x=\"63.623047\" xlink:href=\"#DejaVuSans-52\"/>\r\n      </g>\r\n     </g>\r\n    </g>\r\n    <g id=\"xtick_27\">\r\n     <g id=\"line2d_27\">\r\n      <g>\r\n       <use style=\"stroke:#000000;stroke-width:0.6;\" x=\"192.925861\" xlink:href=\"#mefa47632aa\" y=\"224.64\"/>\r\n      </g>\r\n     </g>\r\n    </g>\r\n    <g id=\"xtick_28\">\r\n     <g id=\"line2d_28\">\r\n      <g>\r\n       <use style=\"stroke:#000000;stroke-width:0.6;\" x=\"199.758514\" xlink:href=\"#mefa47632aa\" y=\"224.64\"/>\r\n      </g>\r\n     </g>\r\n    </g>\r\n    <g id=\"xtick_29\">\r\n     <g id=\"line2d_29\">\r\n      <g>\r\n       <use style=\"stroke:#000000;stroke-width:0.6;\" x=\"206.591167\" xlink:href=\"#mefa47632aa\" y=\"224.64\"/>\r\n      </g>\r\n     </g>\r\n    </g>\r\n    <g id=\"xtick_30\">\r\n     <g id=\"line2d_30\">\r\n      <g>\r\n       <use style=\"stroke:#000000;stroke-width:0.6;\" x=\"213.42382\" xlink:href=\"#mefa47632aa\" y=\"224.64\"/>\r\n      </g>\r\n     </g>\r\n    </g>\r\n    <g id=\"xtick_31\">\r\n     <g id=\"line2d_31\">\r\n      <g>\r\n       <use style=\"stroke:#000000;stroke-width:0.6;\" x=\"220.256473\" xlink:href=\"#mefa47632aa\" y=\"224.64\"/>\r\n      </g>\r\n     </g>\r\n    </g>\r\n    <g id=\"xtick_32\">\r\n     <g id=\"line2d_32\">\r\n      <g>\r\n       <use style=\"stroke:#000000;stroke-width:0.6;\" x=\"227.089126\" xlink:href=\"#mefa47632aa\" y=\"224.64\"/>\r\n      </g>\r\n     </g>\r\n    </g>\r\n    <g id=\"xtick_33\">\r\n     <g id=\"line2d_33\">\r\n      <g>\r\n       <use style=\"stroke:#000000;stroke-width:0.6;\" x=\"233.921779\" xlink:href=\"#mefa47632aa\" y=\"224.64\"/>\r\n      </g>\r\n     </g>\r\n     <g id=\"text_7\">\r\n      <!-- 31 -->\r\n      <g transform=\"translate(227.559279 237.638438)scale(0.1 -0.1)\">\r\n       <use xlink:href=\"#DejaVuSans-51\"/>\r\n       <use x=\"63.623047\" xlink:href=\"#DejaVuSans-49\"/>\r\n      </g>\r\n     </g>\r\n    </g>\r\n    <g id=\"xtick_34\">\r\n     <g id=\"line2d_34\">\r\n      <g>\r\n       <use style=\"stroke:#000000;stroke-width:0.6;\" x=\"247.587085\" xlink:href=\"#mefa47632aa\" y=\"224.64\"/>\r\n      </g>\r\n     </g>\r\n    </g>\r\n    <g id=\"xtick_35\">\r\n     <g id=\"line2d_35\">\r\n      <g>\r\n       <use style=\"stroke:#000000;stroke-width:0.6;\" x=\"254.419739\" xlink:href=\"#mefa47632aa\" y=\"224.64\"/>\r\n      </g>\r\n     </g>\r\n    </g>\r\n    <g id=\"xtick_36\">\r\n     <g id=\"line2d_36\">\r\n      <g>\r\n       <use style=\"stroke:#000000;stroke-width:0.6;\" x=\"261.252392\" xlink:href=\"#mefa47632aa\" y=\"224.64\"/>\r\n      </g>\r\n     </g>\r\n    </g>\r\n    <g id=\"xtick_37\">\r\n     <g id=\"line2d_37\">\r\n      <g>\r\n       <use style=\"stroke:#000000;stroke-width:0.6;\" x=\"268.085045\" xlink:href=\"#mefa47632aa\" y=\"224.64\"/>\r\n      </g>\r\n     </g>\r\n    </g>\r\n    <g id=\"xtick_38\">\r\n     <g id=\"line2d_38\">\r\n      <g>\r\n       <use style=\"stroke:#000000;stroke-width:0.6;\" x=\"274.917698\" xlink:href=\"#mefa47632aa\" y=\"224.64\"/>\r\n      </g>\r\n     </g>\r\n    </g>\r\n    <g id=\"xtick_39\">\r\n     <g id=\"line2d_39\">\r\n      <g>\r\n       <use style=\"stroke:#000000;stroke-width:0.6;\" x=\"281.750351\" xlink:href=\"#mefa47632aa\" y=\"224.64\"/>\r\n      </g>\r\n     </g>\r\n     <g id=\"text_8\">\r\n      <!-- 07 -->\r\n      <g transform=\"translate(275.387851 237.638438)scale(0.1 -0.1)\">\r\n       <use xlink:href=\"#DejaVuSans-48\"/>\r\n       <use x=\"63.623047\" xlink:href=\"#DejaVuSans-55\"/>\r\n      </g>\r\n     </g>\r\n    </g>\r\n    <g id=\"xtick_40\">\r\n     <g id=\"line2d_40\">\r\n      <g>\r\n       <use style=\"stroke:#000000;stroke-width:0.6;\" x=\"288.583004\" xlink:href=\"#mefa47632aa\" y=\"224.64\"/>\r\n      </g>\r\n     </g>\r\n    </g>\r\n    <g id=\"xtick_41\">\r\n     <g id=\"line2d_41\">\r\n      <g>\r\n       <use style=\"stroke:#000000;stroke-width:0.6;\" x=\"295.415657\" xlink:href=\"#mefa47632aa\" y=\"224.64\"/>\r\n      </g>\r\n     </g>\r\n    </g>\r\n    <g id=\"xtick_42\">\r\n     <g id=\"line2d_42\">\r\n      <g>\r\n       <use style=\"stroke:#000000;stroke-width:0.6;\" x=\"302.24831\" xlink:href=\"#mefa47632aa\" y=\"224.64\"/>\r\n      </g>\r\n     </g>\r\n    </g>\r\n    <g id=\"xtick_43\">\r\n     <g id=\"line2d_43\">\r\n      <g>\r\n       <use style=\"stroke:#000000;stroke-width:0.6;\" x=\"309.080963\" xlink:href=\"#mefa47632aa\" y=\"224.64\"/>\r\n      </g>\r\n     </g>\r\n    </g>\r\n    <g id=\"xtick_44\">\r\n     <g id=\"line2d_44\">\r\n      <g>\r\n       <use style=\"stroke:#000000;stroke-width:0.6;\" x=\"315.913616\" xlink:href=\"#mefa47632aa\" y=\"224.64\"/>\r\n      </g>\r\n     </g>\r\n    </g>\r\n    <g id=\"xtick_45\">\r\n     <g id=\"line2d_45\">\r\n      <g>\r\n       <use style=\"stroke:#000000;stroke-width:0.6;\" x=\"322.746269\" xlink:href=\"#mefa47632aa\" y=\"224.64\"/>\r\n      </g>\r\n     </g>\r\n    </g>\r\n    <g id=\"xtick_46\">\r\n     <g id=\"line2d_46\">\r\n      <g>\r\n       <use style=\"stroke:#000000;stroke-width:0.6;\" x=\"329.578922\" xlink:href=\"#mefa47632aa\" y=\"224.64\"/>\r\n      </g>\r\n     </g>\r\n     <g id=\"text_9\">\r\n      <!-- 14 -->\r\n      <g transform=\"translate(323.216422 237.638438)scale(0.1 -0.1)\">\r\n       <use xlink:href=\"#DejaVuSans-49\"/>\r\n       <use x=\"63.623047\" xlink:href=\"#DejaVuSans-52\"/>\r\n      </g>\r\n     </g>\r\n    </g>\r\n    <g id=\"xtick_47\">\r\n     <g id=\"line2d_47\">\r\n      <g>\r\n       <use style=\"stroke:#000000;stroke-width:0.6;\" x=\"336.411575\" xlink:href=\"#mefa47632aa\" y=\"224.64\"/>\r\n      </g>\r\n     </g>\r\n    </g>\r\n    <g id=\"xtick_48\">\r\n     <g id=\"line2d_48\">\r\n      <g>\r\n       <use style=\"stroke:#000000;stroke-width:0.6;\" x=\"343.244228\" xlink:href=\"#mefa47632aa\" y=\"224.64\"/>\r\n      </g>\r\n     </g>\r\n    </g>\r\n    <g id=\"xtick_49\">\r\n     <g id=\"line2d_49\">\r\n      <g>\r\n       <use style=\"stroke:#000000;stroke-width:0.6;\" x=\"350.076881\" xlink:href=\"#mefa47632aa\" y=\"224.64\"/>\r\n      </g>\r\n     </g>\r\n    </g>\r\n    <g id=\"xtick_50\">\r\n     <g id=\"line2d_50\">\r\n      <g>\r\n       <use style=\"stroke:#000000;stroke-width:0.6;\" x=\"356.909534\" xlink:href=\"#mefa47632aa\" y=\"224.64\"/>\r\n      </g>\r\n     </g>\r\n    </g>\r\n   </g>\r\n   <g id=\"matplotlib.axis_2\">\r\n    <g id=\"ytick_1\">\r\n     <g id=\"line2d_51\">\r\n      <defs>\r\n       <path d=\"M 0 0 \r\nL -3.5 0 \r\n\" id=\"ma598885c43\" style=\"stroke:#000000;stroke-width:0.8;\"/>\r\n      </defs>\r\n      <g>\r\n       <use style=\"stroke:#000000;stroke-width:0.8;\" x=\"28.942188\" xlink:href=\"#ma598885c43\" y=\"199.284493\"/>\r\n      </g>\r\n     </g>\r\n     <g id=\"text_10\">\r\n      <!-- −5 -->\r\n      <g transform=\"translate(7.2 203.083712)scale(0.1 -0.1)\">\r\n       <defs>\r\n        <path d=\"M 10.59375 35.5 \r\nL 73.1875 35.5 \r\nL 73.1875 27.203125 \r\nL 10.59375 27.203125 \r\nz\r\n\" id=\"DejaVuSans-8722\"/>\r\n        <path d=\"M 10.796875 72.90625 \r\nL 49.515625 72.90625 \r\nL 49.515625 64.59375 \r\nL 19.828125 64.59375 \r\nL 19.828125 46.734375 \r\nQ 21.96875 47.46875 24.109375 47.828125 \r\nQ 26.265625 48.1875 28.421875 48.1875 \r\nQ 40.625 48.1875 47.75 41.5 \r\nQ 54.890625 34.8125 54.890625 23.390625 \r\nQ 54.890625 11.625 47.5625 5.09375 \r\nQ 40.234375 -1.421875 26.90625 -1.421875 \r\nQ 22.3125 -1.421875 17.546875 -0.640625 \r\nQ 12.796875 0.140625 7.71875 1.703125 \r\nL 7.71875 11.625 \r\nQ 12.109375 9.234375 16.796875 8.0625 \r\nQ 21.484375 6.890625 26.703125 6.890625 \r\nQ 35.15625 6.890625 40.078125 11.328125 \r\nQ 45.015625 15.765625 45.015625 23.390625 \r\nQ 45.015625 31 40.078125 35.4375 \r\nQ 35.15625 39.890625 26.703125 39.890625 \r\nQ 22.75 39.890625 18.8125 39.015625 \r\nQ 14.890625 38.140625 10.796875 36.28125 \r\nz\r\n\" id=\"DejaVuSans-53\"/>\r\n       </defs>\r\n       <use xlink:href=\"#DejaVuSans-8722\"/>\r\n       <use x=\"83.789062\" xlink:href=\"#DejaVuSans-53\"/>\r\n      </g>\r\n     </g>\r\n    </g>\r\n    <g id=\"ytick_2\">\r\n     <g id=\"line2d_52\">\r\n      <g>\r\n       <use style=\"stroke:#000000;stroke-width:0.8;\" x=\"28.942188\" xlink:href=\"#ma598885c43\" y=\"153.350621\"/>\r\n      </g>\r\n     </g>\r\n     <g id=\"text_11\">\r\n      <!-- 0 -->\r\n      <g transform=\"translate(15.579688 157.14984)scale(0.1 -0.1)\">\r\n       <use xlink:href=\"#DejaVuSans-48\"/>\r\n      </g>\r\n     </g>\r\n    </g>\r\n    <g id=\"ytick_3\">\r\n     <g id=\"line2d_53\">\r\n      <g>\r\n       <use style=\"stroke:#000000;stroke-width:0.8;\" x=\"28.942188\" xlink:href=\"#ma598885c43\" y=\"107.416749\"/>\r\n      </g>\r\n     </g>\r\n     <g id=\"text_12\">\r\n      <!-- 5 -->\r\n      <g transform=\"translate(15.579688 111.215968)scale(0.1 -0.1)\">\r\n       <use xlink:href=\"#DejaVuSans-53\"/>\r\n      </g>\r\n     </g>\r\n    </g>\r\n    <g id=\"ytick_4\">\r\n     <g id=\"line2d_54\">\r\n      <g>\r\n       <use style=\"stroke:#000000;stroke-width:0.8;\" x=\"28.942188\" xlink:href=\"#ma598885c43\" y=\"61.482877\"/>\r\n      </g>\r\n     </g>\r\n     <g id=\"text_13\">\r\n      <!-- 10 -->\r\n      <g transform=\"translate(9.217188 65.282096)scale(0.1 -0.1)\">\r\n       <use xlink:href=\"#DejaVuSans-49\"/>\r\n       <use x=\"63.623047\" xlink:href=\"#DejaVuSans-48\"/>\r\n      </g>\r\n     </g>\r\n    </g>\r\n    <g id=\"ytick_5\">\r\n     <g id=\"line2d_55\">\r\n      <g>\r\n       <use style=\"stroke:#000000;stroke-width:0.8;\" x=\"28.942188\" xlink:href=\"#ma598885c43\" y=\"15.549005\"/>\r\n      </g>\r\n     </g>\r\n     <g id=\"text_14\">\r\n      <!-- 15 -->\r\n      <g transform=\"translate(9.217188 19.348224)scale(0.1 -0.1)\">\r\n       <use xlink:href=\"#DejaVuSans-49\"/>\r\n       <use x=\"63.623047\" xlink:href=\"#DejaVuSans-53\"/>\r\n      </g>\r\n     </g>\r\n    </g>\r\n   </g>\r\n   <g id=\"line2d_56\">\r\n    <path clip-path=\"url(#p5caec2db4f)\" d=\"M 28.942187 148.146193 \r\nL 35.774841 140.91 \r\nL 42.607494 150.572602 \r\nL 49.440147 138.381537 \r\nL 56.2728 143.259935 \r\nL 63.105453 142.901443 \r\nL 69.938106 146.508903 \r\nL 76.770759 151.528431 \r\nL 83.603412 146.377765 \r\nL 90.436065 147.185901 \r\nL 97.268718 138.488774 \r\nL 104.101371 132.419287 \r\nL 110.934024 131.135233 \r\nL 117.766677 134.593483 \r\nL 124.59933 129.056872 \r\nL 131.431983 129.594195 \r\nL 138.264636 127.419438 \r\nL 145.09729 113.294012 \r\nL 151.929943 111.734472 \r\nL 158.762596 101.845384 \r\nL 165.595249 108.942215 \r\nL 172.427902 111.55319 \r\nL 179.260555 117.591401 \r\nL 186.093208 106.745819 \r\nL 192.925861 108.505991 \r\nL 199.758514 118.392667 \r\nL 206.591167 130.423603 \r\nL 213.42382 123.06489 \r\nL 220.256473 118.28939 \r\nL 227.089126 113.327154 \r\nL 233.921779 96.216225 \r\nL 240.754432 91.184697 \r\nL 247.587085 80.451399 \r\nL 254.419739 80.420568 \r\nL 261.252392 82.500842 \r\nL 268.085045 82.054077 \r\nL 274.917698 93.427912 \r\nL 281.750351 92.872923 \r\nL 288.583004 101.219926 \r\nL 295.415657 85.323495 \r\nL 302.24831 87.150667 \r\nL 309.080963 83.589559 \r\nL 315.913616 81.524477 \r\nL 322.746269 89.498849 \r\nL 329.578922 84.720206 \r\nL 336.411575 88.553898 \r\nL 343.244228 94.040637 \r\nL 350.076881 94.199784 \r\nL 356.909534 99.375261 \r\nL 363.742188 89.934768 \r\n\" style=\"fill:none;stroke:#1f77b4;stroke-linecap:square;stroke-width:1.5;\"/>\r\n   </g>\r\n   <g id=\"line2d_57\">\r\n    <path clip-path=\"url(#p5caec2db4f)\" d=\"M 28.942187 170.425947 \r\nL 35.774841 162.865819 \r\nL 42.607494 173.986748 \r\nL 49.440147 181.730504 \r\nL 56.2728 171.41612 \r\nL 63.105453 164.416466 \r\nL 69.938106 165.990312 \r\nL 76.770759 149.340432 \r\nL 83.603412 153.719687 \r\nL 90.436065 148.819848 \r\nL 97.268718 162.377097 \r\nL 104.101371 161.251479 \r\nL 110.934024 147.877243 \r\nL 117.766677 141.099309 \r\nL 124.59933 135.574497 \r\nL 131.431983 132.832475 \r\nL 138.264636 123.944607 \r\nL 145.09729 129.30347 \r\nL 151.929943 143.002025 \r\nL 158.762596 139.850566 \r\nL 165.595249 139.400669 \r\nL 172.427902 121.518839 \r\nL 179.260555 110.128545 \r\nL 186.093208 117.872175 \r\nL 192.925861 109.108254 \r\nL 199.758514 107.07163 \r\nL 206.591167 102.932495 \r\nL 213.42382 104.463418 \r\nL 220.256473 99.045737 \r\nL 227.089126 98.923182 \r\nL 233.921779 105.332445 \r\nL 240.754432 108.398718 \r\nL 247.587085 103.701364 \r\nL 254.419739 91.420515 \r\nL 261.252392 95.165373 \r\nL 268.085045 92.924837 \r\nL 274.917698 83.324724 \r\nL 281.750351 96.460921 \r\nL 288.583004 104.965768 \r\nL 295.415657 105.970814 \r\nL 302.24831 119.373084 \r\nL 309.080963 119.950004 \r\nL 315.913616 123.498008 \r\nL 322.746269 110.842248 \r\nL 329.578922 113.071709 \r\nL 336.411575 123.982548 \r\nL 343.244228 126.6764 \r\nL 350.076881 128.991081 \r\nL 356.909534 133.641727 \r\nL 363.742188 129.496084 \r\n\" style=\"fill:none;stroke:#ff7f0e;stroke-linecap:square;stroke-width:1.5;\"/>\r\n   </g>\r\n   <g id=\"line2d_58\">\r\n    <path clip-path=\"url(#p5caec2db4f)\" d=\"M 28.942187 169.218751 \r\nL 35.774841 158.396893 \r\nL 42.607494 161.181282 \r\nL 49.440147 157.944904 \r\nL 56.2728 150.175255 \r\nL 63.105453 147.69112 \r\nL 69.938106 136.105881 \r\nL 76.770759 132.904779 \r\nL 83.603412 119.463277 \r\nL 90.436065 120.540321 \r\nL 97.268718 125.179628 \r\nL 104.101371 131.893212 \r\nL 110.934024 123.358204 \r\nL 117.766677 110.35581 \r\nL 124.59933 100.434274 \r\nL 131.431983 85.145766 \r\nL 138.264636 73.267121 \r\nL 145.09729 50.729119 \r\nL 151.929943 35.879532 \r\nL 158.762596 31.999712 \r\nL 165.595249 49.573195 \r\nL 172.427902 56.647782 \r\nL 179.260555 55.278267 \r\nL 186.093208 58.95192 \r\nL 192.925861 69.423198 \r\nL 199.758514 67.48862 \r\nL 206.591167 60.236397 \r\nL 213.42382 54.635422 \r\nL 220.256473 47.437564 \r\nL 227.089126 17.083636 \r\nL 233.921779 28.519997 \r\nL 240.754432 30.452644 \r\nL 247.587085 36.652612 \r\nL 254.419739 39.727191 \r\nL 261.252392 34.104619 \r\nL 268.085045 39.289496 \r\nL 274.917698 43.16814 \r\nL 281.750351 39.71679 \r\nL 288.583004 51.57411 \r\nL 295.415657 38.933679 \r\nL 302.24831 48.618455 \r\nL 309.080963 69.632512 \r\nL 315.913616 77.535259 \r\nL 322.746269 76.235835 \r\nL 329.578922 56.443748 \r\nL 336.411575 49.335109 \r\nL 343.244228 68.914055 \r\nL 350.076881 69.730409 \r\nL 356.909534 74.313683 \r\nL 363.742188 85.754212 \r\n\" style=\"fill:none;stroke:#2ca02c;stroke-linecap:square;stroke-width:1.5;\"/>\r\n   </g>\r\n   <g id=\"line2d_59\">\r\n    <path clip-path=\"url(#p5caec2db4f)\" d=\"M 28.942187 149.030106 \r\nL 35.774841 146.754885 \r\nL 42.607494 153.594522 \r\nL 49.440147 158.627473 \r\nL 56.2728 148.460239 \r\nL 63.105453 149.736294 \r\nL 69.938106 144.9845 \r\nL 76.770759 143.795605 \r\nL 83.603412 147.488581 \r\nL 90.436065 132.994342 \r\nL 97.268718 136.187994 \r\nL 104.101371 119.637036 \r\nL 110.934024 118.10592 \r\nL 117.766677 122.164424 \r\nL 124.59933 108.079826 \r\nL 131.431983 114.314254 \r\nL 138.264636 112.139889 \r\nL 145.09729 119.621007 \r\nL 151.929943 132.675648 \r\nL 158.762596 141.297122 \r\nL 165.595249 137.300126 \r\nL 172.427902 120.65853 \r\nL 179.260555 119.278961 \r\nL 186.093208 115.124755 \r\nL 192.925861 131.429053 \r\nL 199.758514 145.44919 \r\nL 206.591167 148.785593 \r\nL 213.42382 166.871424 \r\nL 220.256473 159.391554 \r\nL 227.089126 160.470554 \r\nL 233.921779 188.880311 \r\nL 240.754432 183.806047 \r\nL 247.587085 181.638773 \r\nL 254.419739 179.782266 \r\nL 261.252392 186.622706 \r\nL 268.085045 168.739185 \r\nL 274.917698 176.45955 \r\nL 281.750351 173.499384 \r\nL 288.583004 179.450691 \r\nL 295.415657 189.152033 \r\nL 302.24831 188.670994 \r\nL 309.080963 195.409305 \r\nL 315.913616 185.52038 \r\nL 322.746269 206.153393 \r\nL 329.578922 211.839637 \r\nL 336.411575 206.890457 \r\nL 343.244228 195.99436 \r\nL 350.076881 204.129833 \r\nL 356.909534 213.957828 \r\nL 363.742188 214.756364 \r\n\" style=\"fill:none;stroke:#d62728;stroke-linecap:square;stroke-width:1.5;\"/>\r\n   </g>\r\n   <g id=\"patch_3\">\r\n    <path d=\"M 28.942188 224.64 \r\nL 28.942188 7.2 \r\n\" style=\"fill:none;stroke:#000000;stroke-linecap:square;stroke-linejoin:miter;stroke-width:0.8;\"/>\r\n   </g>\r\n   <g id=\"patch_4\">\r\n    <path d=\"M 363.742188 224.64 \r\nL 363.742188 7.2 \r\n\" style=\"fill:none;stroke:#000000;stroke-linecap:square;stroke-linejoin:miter;stroke-width:0.8;\"/>\r\n   </g>\r\n   <g id=\"patch_5\">\r\n    <path d=\"M 28.942187 224.64 \r\nL 363.742188 224.64 \r\n\" style=\"fill:none;stroke:#000000;stroke-linecap:square;stroke-linejoin:miter;stroke-width:0.8;\"/>\r\n   </g>\r\n   <g id=\"patch_6\">\r\n    <path d=\"M 28.942187 7.2 \r\nL 363.742188 7.2 \r\n\" style=\"fill:none;stroke:#000000;stroke-linecap:square;stroke-linejoin:miter;stroke-width:0.8;\"/>\r\n   </g>\r\n   <g id=\"legend_1\">\r\n    <g id=\"patch_7\">\r\n     <path d=\"M 35.942188 73.9125 \r\nL 75.642188 73.9125 \r\nQ 77.642188 73.9125 77.642188 71.9125 \r\nL 77.642188 14.2 \r\nQ 77.642188 12.2 75.642188 12.2 \r\nL 35.942188 12.2 \r\nQ 33.942188 12.2 33.942188 14.2 \r\nL 33.942188 71.9125 \r\nQ 33.942188 73.9125 35.942188 73.9125 \r\nz\r\n\" style=\"fill:#ffffff;opacity:0.8;stroke:#cccccc;stroke-linejoin:miter;\"/>\r\n    </g>\r\n    <g id=\"line2d_60\">\r\n     <path d=\"M 37.942188 20.298438 \r\nL 57.942188 20.298438 \r\n\" style=\"fill:none;stroke:#1f77b4;stroke-linecap:square;stroke-width:1.5;\"/>\r\n    </g>\r\n    <g id=\"line2d_61\"/>\r\n    <g id=\"text_15\">\r\n     <!-- A -->\r\n     <g transform=\"translate(65.942188 23.798438)scale(0.1 -0.1)\">\r\n      <defs>\r\n       <path d=\"M 34.1875 63.1875 \r\nL 20.796875 26.90625 \r\nL 47.609375 26.90625 \r\nz\r\nM 28.609375 72.90625 \r\nL 39.796875 72.90625 \r\nL 67.578125 0 \r\nL 57.328125 0 \r\nL 50.6875 18.703125 \r\nL 17.828125 18.703125 \r\nL 11.1875 0 \r\nL 0.78125 0 \r\nz\r\n\" id=\"DejaVuSans-65\"/>\r\n      </defs>\r\n      <use xlink:href=\"#DejaVuSans-65\"/>\r\n     </g>\r\n    </g>\r\n    <g id=\"line2d_62\">\r\n     <path d=\"M 37.942188 34.976563 \r\nL 57.942188 34.976563 \r\n\" style=\"fill:none;stroke:#ff7f0e;stroke-linecap:square;stroke-width:1.5;\"/>\r\n    </g>\r\n    <g id=\"line2d_63\"/>\r\n    <g id=\"text_16\">\r\n     <!-- B -->\r\n     <g transform=\"translate(65.942188 38.476563)scale(0.1 -0.1)\">\r\n      <defs>\r\n       <path d=\"M 19.671875 34.8125 \r\nL 19.671875 8.109375 \r\nL 35.5 8.109375 \r\nQ 43.453125 8.109375 47.28125 11.40625 \r\nQ 51.125 14.703125 51.125 21.484375 \r\nQ 51.125 28.328125 47.28125 31.5625 \r\nQ 43.453125 34.8125 35.5 34.8125 \r\nz\r\nM 19.671875 64.796875 \r\nL 19.671875 42.828125 \r\nL 34.28125 42.828125 \r\nQ 41.5 42.828125 45.03125 45.53125 \r\nQ 48.578125 48.25 48.578125 53.8125 \r\nQ 48.578125 59.328125 45.03125 62.0625 \r\nQ 41.5 64.796875 34.28125 64.796875 \r\nz\r\nM 9.8125 72.90625 \r\nL 35.015625 72.90625 \r\nQ 46.296875 72.90625 52.390625 68.21875 \r\nQ 58.5 63.53125 58.5 54.890625 \r\nQ 58.5 48.1875 55.375 44.234375 \r\nQ 52.25 40.28125 46.1875 39.3125 \r\nQ 53.46875 37.75 57.5 32.78125 \r\nQ 61.53125 27.828125 61.53125 20.40625 \r\nQ 61.53125 10.640625 54.890625 5.3125 \r\nQ 48.25 0 35.984375 0 \r\nL 9.8125 0 \r\nz\r\n\" id=\"DejaVuSans-66\"/>\r\n      </defs>\r\n      <use xlink:href=\"#DejaVuSans-66\"/>\r\n     </g>\r\n    </g>\r\n    <g id=\"line2d_64\">\r\n     <path d=\"M 37.942188 49.654688 \r\nL 57.942188 49.654688 \r\n\" style=\"fill:none;stroke:#2ca02c;stroke-linecap:square;stroke-width:1.5;\"/>\r\n    </g>\r\n    <g id=\"line2d_65\"/>\r\n    <g id=\"text_17\">\r\n     <!-- C -->\r\n     <g transform=\"translate(65.942188 53.154688)scale(0.1 -0.1)\">\r\n      <defs>\r\n       <path d=\"M 64.40625 67.28125 \r\nL 64.40625 56.890625 \r\nQ 59.421875 61.53125 53.78125 63.8125 \r\nQ 48.140625 66.109375 41.796875 66.109375 \r\nQ 29.296875 66.109375 22.65625 58.46875 \r\nQ 16.015625 50.828125 16.015625 36.375 \r\nQ 16.015625 21.96875 22.65625 14.328125 \r\nQ 29.296875 6.6875 41.796875 6.6875 \r\nQ 48.140625 6.6875 53.78125 8.984375 \r\nQ 59.421875 11.28125 64.40625 15.921875 \r\nL 64.40625 5.609375 \r\nQ 59.234375 2.09375 53.4375 0.328125 \r\nQ 47.65625 -1.421875 41.21875 -1.421875 \r\nQ 24.65625 -1.421875 15.125 8.703125 \r\nQ 5.609375 18.84375 5.609375 36.375 \r\nQ 5.609375 53.953125 15.125 64.078125 \r\nQ 24.65625 74.21875 41.21875 74.21875 \r\nQ 47.75 74.21875 53.53125 72.484375 \r\nQ 59.328125 70.75 64.40625 67.28125 \r\nz\r\n\" id=\"DejaVuSans-67\"/>\r\n      </defs>\r\n      <use xlink:href=\"#DejaVuSans-67\"/>\r\n     </g>\r\n    </g>\r\n    <g id=\"line2d_66\">\r\n     <path d=\"M 37.942188 64.332813 \r\nL 57.942188 64.332813 \r\n\" style=\"fill:none;stroke:#d62728;stroke-linecap:square;stroke-width:1.5;\"/>\r\n    </g>\r\n    <g id=\"line2d_67\"/>\r\n    <g id=\"text_18\">\r\n     <!-- D -->\r\n     <g transform=\"translate(65.942188 67.832813)scale(0.1 -0.1)\">\r\n      <defs>\r\n       <path d=\"M 19.671875 64.796875 \r\nL 19.671875 8.109375 \r\nL 31.59375 8.109375 \r\nQ 46.6875 8.109375 53.6875 14.9375 \r\nQ 60.6875 21.78125 60.6875 36.53125 \r\nQ 60.6875 51.171875 53.6875 57.984375 \r\nQ 46.6875 64.796875 31.59375 64.796875 \r\nz\r\nM 9.8125 72.90625 \r\nL 30.078125 72.90625 \r\nQ 51.265625 72.90625 61.171875 64.09375 \r\nQ 71.09375 55.28125 71.09375 36.53125 \r\nQ 71.09375 17.671875 61.125 8.828125 \r\nQ 51.171875 0 30.078125 0 \r\nL 9.8125 0 \r\nz\r\n\" id=\"DejaVuSans-68\"/>\r\n      </defs>\r\n      <use xlink:href=\"#DejaVuSans-68\"/>\r\n     </g>\r\n    </g>\r\n   </g>\r\n  </g>\r\n </g>\r\n <defs>\r\n  <clipPath id=\"p5caec2db4f\">\r\n   <rect height=\"217.44\" width=\"334.8\" x=\"28.942188\" y=\"7.2\"/>\r\n  </clipPath>\r\n </defs>\r\n</svg>\r\n",
      "image/png": "[encoded data removed]"
     },
     "metadata": {
      "needs_background": "light"
     }
    }
   ],
   "source": [
    "# Plotting an entire dataframe.\n",
    "size = 50\n",
    "columns = list(\"ABCD\")\n",
    "df = pd.DataFrame(\n",
    "    np.random.randn(size, len(columns)),\n",
    "    index=pd.date_range(\"1/1/2000\", periods=size),\n",
    "    columns=columns,\n",
    ").cumsum()\n",
    "df.plot()"
   ]
  },
  {
   "source": [
    "## Getting data in/out"
   ],
   "cell_type": "markdown",
   "metadata": {}
  },
  {
   "cell_type": "code",
   "execution_count": 104,
   "metadata": {},
   "outputs": [
    {
     "output_type": "display_data",
     "data": {
      "text/plain": "   Unnamed: 0         A         B         C         D\n0  2000-01-01  0.566513 -1.858686 -1.727280  0.470297\n1  2000-01-02  1.354188 -1.035750 -0.549297  0.717960\n2  2000-01-03  0.302393 -2.246286 -0.852384 -0.026549\n3  2000-01-04  1.629417 -3.089211 -0.500097 -0.574397\n4  2000-01-05  1.098393 -1.966468  0.345645  0.532329",
      "text/html": "<div>\n<style scoped>\n    .dataframe tbody tr th:only-of-type {\n        vertical-align: middle;\n    }\n\n    .dataframe tbody tr th {\n        vertical-align: top;\n    }\n\n    .dataframe thead th {\n        text-align: right;\n    }\n</style>\n<table border=\"1\" class=\"dataframe\">\n  <thead>\n    <tr style=\"text-align: right;\">\n      <th></th>\n      <th>Unnamed: 0</th>\n      <th>A</th>\n      <th>B</th>\n      <th>C</th>\n      <th>D</th>\n    </tr>\n  </thead>\n  <tbody>\n    <tr>\n      <th>0</th>\n      <td>2000-01-01</td>\n      <td>0.566513</td>\n      <td>-1.858686</td>\n      <td>-1.727280</td>\n      <td>0.470297</td>\n    </tr>\n    <tr>\n      <th>1</th>\n      <td>2000-01-02</td>\n      <td>1.354188</td>\n      <td>-1.035750</td>\n      <td>-0.549297</td>\n      <td>0.717960</td>\n    </tr>\n    <tr>\n      <th>2</th>\n      <td>2000-01-03</td>\n      <td>0.302393</td>\n      <td>-2.246286</td>\n      <td>-0.852384</td>\n      <td>-0.026549</td>\n    </tr>\n    <tr>\n      <th>3</th>\n      <td>2000-01-04</td>\n      <td>1.629417</td>\n      <td>-3.089211</td>\n      <td>-0.500097</td>\n      <td>-0.574397</td>\n    </tr>\n    <tr>\n      <th>4</th>\n      <td>2000-01-05</td>\n      <td>1.098393</td>\n      <td>-1.966468</td>\n      <td>0.345645</td>\n      <td>0.532329</td>\n    </tr>\n  </tbody>\n</table>\n</div>"
     },
     "metadata": {}
    }
   ],
   "source": [
    "# Simple CSV I/O.\n",
    "import os\n",
    "\n",
    "file_name = \"foo.csv\"\n",
    "df.to_csv(file_name)\n",
    "display(pd.read_csv(file_name).head())\n",
    "# Clean up.\n",
    "os.remove(file_name)"
   ]
  },
  {
   "cell_type": "code",
   "execution_count": 106,
   "metadata": {},
   "outputs": [
    {
     "output_type": "error",
     "ename": "ImportError",
     "evalue": "Missing optional dependency 'tables'.  Use pip or conda to install tables.",
     "traceback": [
      "\u001b[1;31m---------------------------------------------------------------------------\u001b[0m",
      "\u001b[1;31mImportError\u001b[0m                               Traceback (most recent call last)",
      "\u001b[1;32m<ipython-input-106-7807b94b82ce>\u001b[0m in \u001b[0;36m<module>\u001b[1;34m\u001b[0m\n\u001b[0;32m      1\u001b[0m \u001b[1;31m# Supports HDF5 format.\u001b[0m\u001b[1;33m\u001b[0m\u001b[1;33m\u001b[0m\u001b[1;33m\u001b[0m\u001b[0m\n\u001b[0;32m      2\u001b[0m \u001b[0mfile_name\u001b[0m \u001b[1;33m=\u001b[0m \u001b[1;34m\"foo.h5\"\u001b[0m\u001b[1;33m\u001b[0m\u001b[1;33m\u001b[0m\u001b[0m\n\u001b[1;32m----> 3\u001b[1;33m \u001b[0mdf\u001b[0m\u001b[1;33m.\u001b[0m\u001b[0mto_hdf\u001b[0m\u001b[1;33m(\u001b[0m\u001b[0mfile_name\u001b[0m\u001b[1;33m,\u001b[0m \u001b[1;34m\"df\"\u001b[0m\u001b[1;33m)\u001b[0m\u001b[1;33m\u001b[0m\u001b[1;33m\u001b[0m\u001b[0m\n\u001b[0m",
      "\u001b[1;32m~\\envs\\pandas-sandbox\\lib\\site-packages\\pandas\\core\\generic.py\u001b[0m in \u001b[0;36mto_hdf\u001b[1;34m(self, path_or_buf, key, mode, complevel, complib, append, format, index, min_itemsize, nan_rep, dropna, data_columns, errors, encoding)\u001b[0m\n\u001b[0;32m   2603\u001b[0m         \u001b[1;32mfrom\u001b[0m \u001b[0mpandas\u001b[0m\u001b[1;33m.\u001b[0m\u001b[0mio\u001b[0m \u001b[1;32mimport\u001b[0m \u001b[0mpytables\u001b[0m\u001b[1;33m\u001b[0m\u001b[1;33m\u001b[0m\u001b[0m\n\u001b[0;32m   2604\u001b[0m \u001b[1;33m\u001b[0m\u001b[0m\n\u001b[1;32m-> 2605\u001b[1;33m         pytables.to_hdf(\n\u001b[0m\u001b[0;32m   2606\u001b[0m             \u001b[0mpath_or_buf\u001b[0m\u001b[1;33m,\u001b[0m\u001b[1;33m\u001b[0m\u001b[1;33m\u001b[0m\u001b[0m\n\u001b[0;32m   2607\u001b[0m             \u001b[0mkey\u001b[0m\u001b[1;33m,\u001b[0m\u001b[1;33m\u001b[0m\u001b[1;33m\u001b[0m\u001b[0m\n",
      "\u001b[1;32m~\\envs\\pandas-sandbox\\lib\\site-packages\\pandas\\io\\pytables.py\u001b[0m in \u001b[0;36mto_hdf\u001b[1;34m(path_or_buf, key, value, mode, complevel, complib, append, format, index, min_itemsize, nan_rep, dropna, data_columns, errors, encoding)\u001b[0m\n\u001b[0;32m    275\u001b[0m     \u001b[0mpath_or_buf\u001b[0m \u001b[1;33m=\u001b[0m \u001b[0mstringify_path\u001b[0m\u001b[1;33m(\u001b[0m\u001b[0mpath_or_buf\u001b[0m\u001b[1;33m)\u001b[0m\u001b[1;33m\u001b[0m\u001b[1;33m\u001b[0m\u001b[0m\n\u001b[0;32m    276\u001b[0m     \u001b[1;32mif\u001b[0m \u001b[0misinstance\u001b[0m\u001b[1;33m(\u001b[0m\u001b[0mpath_or_buf\u001b[0m\u001b[1;33m,\u001b[0m \u001b[0mstr\u001b[0m\u001b[1;33m)\u001b[0m\u001b[1;33m:\u001b[0m\u001b[1;33m\u001b[0m\u001b[1;33m\u001b[0m\u001b[0m\n\u001b[1;32m--> 277\u001b[1;33m         with HDFStore(\n\u001b[0m\u001b[0;32m    278\u001b[0m             \u001b[0mpath_or_buf\u001b[0m\u001b[1;33m,\u001b[0m \u001b[0mmode\u001b[0m\u001b[1;33m=\u001b[0m\u001b[0mmode\u001b[0m\u001b[1;33m,\u001b[0m \u001b[0mcomplevel\u001b[0m\u001b[1;33m=\u001b[0m\u001b[0mcomplevel\u001b[0m\u001b[1;33m,\u001b[0m \u001b[0mcomplib\u001b[0m\u001b[1;33m=\u001b[0m\u001b[0mcomplib\u001b[0m\u001b[1;33m\u001b[0m\u001b[1;33m\u001b[0m\u001b[0m\n\u001b[0;32m    279\u001b[0m         ) as store:\n",
      "\u001b[1;32m~\\envs\\pandas-sandbox\\lib\\site-packages\\pandas\\io\\pytables.py\u001b[0m in \u001b[0;36m__init__\u001b[1;34m(self, path, mode, complevel, complib, fletcher32, **kwargs)\u001b[0m\n\u001b[0;32m    540\u001b[0m             \u001b[1;32mraise\u001b[0m \u001b[0mValueError\u001b[0m\u001b[1;33m(\u001b[0m\u001b[1;34m\"format is not a defined argument for HDFStore\"\u001b[0m\u001b[1;33m)\u001b[0m\u001b[1;33m\u001b[0m\u001b[1;33m\u001b[0m\u001b[0m\n\u001b[0;32m    541\u001b[0m \u001b[1;33m\u001b[0m\u001b[0m\n\u001b[1;32m--> 542\u001b[1;33m         \u001b[0mtables\u001b[0m \u001b[1;33m=\u001b[0m \u001b[0mimport_optional_dependency\u001b[0m\u001b[1;33m(\u001b[0m\u001b[1;34m\"tables\"\u001b[0m\u001b[1;33m)\u001b[0m\u001b[1;33m\u001b[0m\u001b[1;33m\u001b[0m\u001b[0m\n\u001b[0m\u001b[0;32m    543\u001b[0m \u001b[1;33m\u001b[0m\u001b[0m\n\u001b[0;32m    544\u001b[0m         \u001b[1;32mif\u001b[0m \u001b[0mcomplib\u001b[0m \u001b[1;32mis\u001b[0m \u001b[1;32mnot\u001b[0m \u001b[1;32mNone\u001b[0m \u001b[1;32mand\u001b[0m \u001b[0mcomplib\u001b[0m \u001b[1;32mnot\u001b[0m \u001b[1;32min\u001b[0m \u001b[0mtables\u001b[0m\u001b[1;33m.\u001b[0m\u001b[0mfilters\u001b[0m\u001b[1;33m.\u001b[0m\u001b[0mall_complibs\u001b[0m\u001b[1;33m:\u001b[0m\u001b[1;33m\u001b[0m\u001b[1;33m\u001b[0m\u001b[0m\n",
      "\u001b[1;32m~\\envs\\pandas-sandbox\\lib\\site-packages\\pandas\\compat\\_optional.py\u001b[0m in \u001b[0;36mimport_optional_dependency\u001b[1;34m(name, extra, raise_on_missing, on_version)\u001b[0m\n\u001b[0;32m    107\u001b[0m     \u001b[1;32mexcept\u001b[0m \u001b[0mImportError\u001b[0m\u001b[1;33m:\u001b[0m\u001b[1;33m\u001b[0m\u001b[1;33m\u001b[0m\u001b[0m\n\u001b[0;32m    108\u001b[0m         \u001b[1;32mif\u001b[0m \u001b[0mraise_on_missing\u001b[0m\u001b[1;33m:\u001b[0m\u001b[1;33m\u001b[0m\u001b[1;33m\u001b[0m\u001b[0m\n\u001b[1;32m--> 109\u001b[1;33m             \u001b[1;32mraise\u001b[0m \u001b[0mImportError\u001b[0m\u001b[1;33m(\u001b[0m\u001b[0mmsg\u001b[0m\u001b[1;33m)\u001b[0m \u001b[1;32mfrom\u001b[0m \u001b[1;32mNone\u001b[0m\u001b[1;33m\u001b[0m\u001b[1;33m\u001b[0m\u001b[0m\n\u001b[0m\u001b[0;32m    110\u001b[0m         \u001b[1;32melse\u001b[0m\u001b[1;33m:\u001b[0m\u001b[1;33m\u001b[0m\u001b[1;33m\u001b[0m\u001b[0m\n\u001b[0;32m    111\u001b[0m             \u001b[1;32mreturn\u001b[0m \u001b[1;32mNone\u001b[0m\u001b[1;33m\u001b[0m\u001b[1;33m\u001b[0m\u001b[0m\n",
      "\u001b[1;31mImportError\u001b[0m: Missing optional dependency 'tables'.  Use pip or conda to install tables."
     ]
    }
   ],
   "source": [
    "# Supports HDF5 format.\n",
    "# REQUIRES PYPI PACKAGE: tables\n",
    "import os\n",
    "\n",
    "file_name = \"foo.h5\"\n",
    "df.to_hdf(file_name, \"df\")\n",
    "display(pd.read_hdf(file_name, \"df\"))\n",
    "# Clean up.\n",
    "os.remove(file_name)"
   ]
  },
  {
   "cell_type": "code",
   "execution_count": 108,
   "metadata": {},
   "outputs": [
    {
     "output_type": "error",
     "ename": "KeyboardInterrupt",
     "evalue": "",
     "traceback": [
      "\u001b[1;31m---------------------------------------------------------------------------\u001b[0m",
      "\u001b[1;31mKeyboardInterrupt\u001b[0m                         Traceback (most recent call last)",
      "\u001b[1;32m<ipython-input-108-4f6e9263c1b9>\u001b[0m in \u001b[0;36m<module>\u001b[1;34m\u001b[0m\n\u001b[0;32m      2\u001b[0m \u001b[1;31m# Supports MS Excel format.\u001b[0m\u001b[1;33m\u001b[0m\u001b[1;33m\u001b[0m\u001b[1;33m\u001b[0m\u001b[0m\n\u001b[0;32m      3\u001b[0m \u001b[1;31m# REQUIRES PYPI PACKAGE: openpyxl\u001b[0m\u001b[1;33m\u001b[0m\u001b[1;33m\u001b[0m\u001b[1;33m\u001b[0m\u001b[0m\n\u001b[1;32m----> 4\u001b[1;33m \u001b[1;32mimport\u001b[0m \u001b[0mos\u001b[0m\u001b[1;33m\u001b[0m\u001b[1;33m\u001b[0m\u001b[0m\n\u001b[0m\u001b[0;32m      5\u001b[0m \u001b[1;33m\u001b[0m\u001b[0m\n\u001b[0;32m      6\u001b[0m \u001b[0mfile_name\u001b[0m \u001b[1;33m=\u001b[0m \u001b[1;34m\"foo.xlsx\"\u001b[0m\u001b[1;33m\u001b[0m\u001b[1;33m\u001b[0m\u001b[0m\n",
      "\u001b[1;32m<ipython-input-108-4f6e9263c1b9>\u001b[0m in \u001b[0;36m<module>\u001b[1;34m\u001b[0m\n\u001b[0;32m      2\u001b[0m \u001b[1;31m# Supports MS Excel format.\u001b[0m\u001b[1;33m\u001b[0m\u001b[1;33m\u001b[0m\u001b[1;33m\u001b[0m\u001b[0m\n\u001b[0;32m      3\u001b[0m \u001b[1;31m# REQUIRES PYPI PACKAGE: openpyxl\u001b[0m\u001b[1;33m\u001b[0m\u001b[1;33m\u001b[0m\u001b[1;33m\u001b[0m\u001b[0m\n\u001b[1;32m----> 4\u001b[1;33m \u001b[1;32mimport\u001b[0m \u001b[0mos\u001b[0m\u001b[1;33m\u001b[0m\u001b[1;33m\u001b[0m\u001b[0m\n\u001b[0m\u001b[0;32m      5\u001b[0m \u001b[1;33m\u001b[0m\u001b[0m\n\u001b[0;32m      6\u001b[0m \u001b[0mfile_name\u001b[0m \u001b[1;33m=\u001b[0m \u001b[1;34m\"foo.xlsx\"\u001b[0m\u001b[1;33m\u001b[0m\u001b[1;33m\u001b[0m\u001b[0m\n",
      "\u001b[1;32mc:\\Users\\Psilo\\.vscode\\extensions\\ms-python.python-2021.1.502429796\\pythonFiles\\lib\\python\\debugpy\\_vendored\\pydevd\\_pydevd_bundle\\pydevd_frame.py\u001b[0m in \u001b[0;36mtrace_dispatch\u001b[1;34m(self, frame, event, arg)\u001b[0m\n\u001b[0;32m   1020\u001b[0m                     \u001b[1;32mif\u001b[0m \u001b[0mis_line\u001b[0m\u001b[1;33m:\u001b[0m\u001b[1;33m\u001b[0m\u001b[1;33m\u001b[0m\u001b[0m\n\u001b[0;32m   1021\u001b[0m                         \u001b[0mself\u001b[0m\u001b[1;33m.\u001b[0m\u001b[0mset_suspend\u001b[0m\u001b[1;33m(\u001b[0m\u001b[0mthread\u001b[0m\u001b[1;33m,\u001b[0m \u001b[0mstep_cmd\u001b[0m\u001b[1;33m,\u001b[0m \u001b[0moriginal_step_cmd\u001b[0m\u001b[1;33m=\u001b[0m\u001b[0minfo\u001b[0m\u001b[1;33m.\u001b[0m\u001b[0mpydev_original_step_cmd\u001b[0m\u001b[1;33m)\u001b[0m\u001b[1;33m\u001b[0m\u001b[1;33m\u001b[0m\u001b[0m\n\u001b[1;32m-> 1022\u001b[1;33m                         \u001b[0mself\u001b[0m\u001b[1;33m.\u001b[0m\u001b[0mdo_wait_suspend\u001b[0m\u001b[1;33m(\u001b[0m\u001b[0mthread\u001b[0m\u001b[1;33m,\u001b[0m \u001b[0mframe\u001b[0m\u001b[1;33m,\u001b[0m \u001b[0mevent\u001b[0m\u001b[1;33m,\u001b[0m \u001b[0marg\u001b[0m\u001b[1;33m)\u001b[0m\u001b[1;33m\u001b[0m\u001b[1;33m\u001b[0m\u001b[0m\n\u001b[0m\u001b[0;32m   1023\u001b[0m                     \u001b[1;32melif\u001b[0m \u001b[0mis_return\u001b[0m\u001b[1;33m:\u001b[0m  \u001b[1;31m# return event\u001b[0m\u001b[1;33m\u001b[0m\u001b[1;33m\u001b[0m\u001b[0m\n\u001b[0;32m   1024\u001b[0m                         \u001b[0mback\u001b[0m \u001b[1;33m=\u001b[0m \u001b[0mframe\u001b[0m\u001b[1;33m.\u001b[0m\u001b[0mf_back\u001b[0m\u001b[1;33m\u001b[0m\u001b[1;33m\u001b[0m\u001b[0m\n",
      "\u001b[1;32mc:\\Users\\Psilo\\.vscode\\extensions\\ms-python.python-2021.1.502429796\\pythonFiles\\lib\\python\\debugpy\\_vendored\\pydevd\\_pydevd_bundle\\pydevd_frame.py\u001b[0m in \u001b[0;36mdo_wait_suspend\u001b[1;34m(self, *args, **kwargs)\u001b[0m\n\u001b[0;32m    151\u001b[0m \u001b[1;33m\u001b[0m\u001b[0m\n\u001b[0;32m    152\u001b[0m     \u001b[1;32mdef\u001b[0m \u001b[0mdo_wait_suspend\u001b[0m\u001b[1;33m(\u001b[0m\u001b[0mself\u001b[0m\u001b[1;33m,\u001b[0m \u001b[1;33m*\u001b[0m\u001b[0margs\u001b[0m\u001b[1;33m,\u001b[0m \u001b[1;33m**\u001b[0m\u001b[0mkwargs\u001b[0m\u001b[1;33m)\u001b[0m\u001b[1;33m:\u001b[0m\u001b[1;33m\u001b[0m\u001b[1;33m\u001b[0m\u001b[0m\n\u001b[1;32m--> 153\u001b[1;33m         \u001b[0mself\u001b[0m\u001b[1;33m.\u001b[0m\u001b[0m_args\u001b[0m\u001b[1;33m[\u001b[0m\u001b[1;36m0\u001b[0m\u001b[1;33m]\u001b[0m\u001b[1;33m.\u001b[0m\u001b[0mdo_wait_suspend\u001b[0m\u001b[1;33m(\u001b[0m\u001b[1;33m*\u001b[0m\u001b[0margs\u001b[0m\u001b[1;33m,\u001b[0m \u001b[1;33m**\u001b[0m\u001b[0mkwargs\u001b[0m\u001b[1;33m)\u001b[0m\u001b[1;33m\u001b[0m\u001b[1;33m\u001b[0m\u001b[0m\n\u001b[0m\u001b[0;32m    154\u001b[0m \u001b[1;33m\u001b[0m\u001b[0m\n\u001b[0;32m    155\u001b[0m     \u001b[1;31m# IFDEF CYTHON\u001b[0m\u001b[1;33m\u001b[0m\u001b[1;33m\u001b[0m\u001b[1;33m\u001b[0m\u001b[0m\n",
      "\u001b[1;32mc:\\Users\\Psilo\\.vscode\\extensions\\ms-python.python-2021.1.502429796\\pythonFiles\\lib\\python\\debugpy\\_vendored\\pydevd\\pydevd.py\u001b[0m in \u001b[0;36mdo_wait_suspend\u001b[1;34m(self, thread, frame, event, arg, exception_type)\u001b[0m\n\u001b[0;32m   1853\u001b[0m \u001b[1;33m\u001b[0m\u001b[0m\n\u001b[0;32m   1854\u001b[0m             \u001b[1;32mwith\u001b[0m \u001b[0mself\u001b[0m\u001b[1;33m.\u001b[0m\u001b[0m_threads_suspended_single_notification\u001b[0m\u001b[1;33m.\u001b[0m\u001b[0mnotify_thread_suspended\u001b[0m\u001b[1;33m(\u001b[0m\u001b[0mthread_id\u001b[0m\u001b[1;33m,\u001b[0m \u001b[0mstop_reason\u001b[0m\u001b[1;33m)\u001b[0m\u001b[1;33m:\u001b[0m\u001b[1;33m\u001b[0m\u001b[1;33m\u001b[0m\u001b[0m\n\u001b[1;32m-> 1855\u001b[1;33m                 \u001b[0mkeep_suspended\u001b[0m \u001b[1;33m=\u001b[0m \u001b[0mself\u001b[0m\u001b[1;33m.\u001b[0m\u001b[0m_do_wait_suspend\u001b[0m\u001b[1;33m(\u001b[0m\u001b[0mthread\u001b[0m\u001b[1;33m,\u001b[0m \u001b[0mframe\u001b[0m\u001b[1;33m,\u001b[0m \u001b[0mevent\u001b[0m\u001b[1;33m,\u001b[0m \u001b[0marg\u001b[0m\u001b[1;33m,\u001b[0m \u001b[0msuspend_type\u001b[0m\u001b[1;33m,\u001b[0m \u001b[0mfrom_this_thread\u001b[0m\u001b[1;33m,\u001b[0m \u001b[0mframes_tracker\u001b[0m\u001b[1;33m)\u001b[0m\u001b[1;33m\u001b[0m\u001b[1;33m\u001b[0m\u001b[0m\n\u001b[0m\u001b[0;32m   1856\u001b[0m \u001b[1;33m\u001b[0m\u001b[0m\n\u001b[0;32m   1857\u001b[0m         \u001b[0mframes_list\u001b[0m \u001b[1;33m=\u001b[0m \u001b[1;32mNone\u001b[0m\u001b[1;33m\u001b[0m\u001b[1;33m\u001b[0m\u001b[0m\n",
      "\u001b[1;32mc:\\Users\\Psilo\\.vscode\\extensions\\ms-python.python-2021.1.502429796\\pythonFiles\\lib\\python\\debugpy\\_vendored\\pydevd\\pydevd.py\u001b[0m in \u001b[0;36m_do_wait_suspend\u001b[1;34m(self, thread, frame, event, arg, suspend_type, from_this_thread, frames_tracker)\u001b[0m\n\u001b[0;32m   1888\u001b[0m \u001b[1;33m\u001b[0m\u001b[0m\n\u001b[0;32m   1889\u001b[0m             \u001b[0mself\u001b[0m\u001b[1;33m.\u001b[0m\u001b[0mprocess_internal_commands\u001b[0m\u001b[1;33m(\u001b[0m\u001b[1;33m)\u001b[0m\u001b[1;33m\u001b[0m\u001b[1;33m\u001b[0m\u001b[0m\n\u001b[1;32m-> 1890\u001b[1;33m             \u001b[0mtime\u001b[0m\u001b[1;33m.\u001b[0m\u001b[0msleep\u001b[0m\u001b[1;33m(\u001b[0m\u001b[1;36m0.01\u001b[0m\u001b[1;33m)\u001b[0m\u001b[1;33m\u001b[0m\u001b[1;33m\u001b[0m\u001b[0m\n\u001b[0m\u001b[0;32m   1891\u001b[0m \u001b[1;33m\u001b[0m\u001b[0m\n\u001b[0;32m   1892\u001b[0m         \u001b[0mself\u001b[0m\u001b[1;33m.\u001b[0m\u001b[0mcancel_async_evaluation\u001b[0m\u001b[1;33m(\u001b[0m\u001b[0mget_current_thread_id\u001b[0m\u001b[1;33m(\u001b[0m\u001b[0mthread\u001b[0m\u001b[1;33m)\u001b[0m\u001b[1;33m,\u001b[0m \u001b[0mstr\u001b[0m\u001b[1;33m(\u001b[0m\u001b[0mid\u001b[0m\u001b[1;33m(\u001b[0m\u001b[0mframe\u001b[0m\u001b[1;33m)\u001b[0m\u001b[1;33m)\u001b[0m\u001b[1;33m)\u001b[0m\u001b[1;33m\u001b[0m\u001b[1;33m\u001b[0m\u001b[0m\n",
      "\u001b[1;31mKeyboardInterrupt\u001b[0m: "
     ]
    }
   ],
   "source": [
    "# Supports MS Excel format.\n",
    "# REQUIRES PYPI PACKAGE: openpyxl\n",
    "import os\n",
    "\n",
    "file_name = \"foo.xlsx\"\n",
    "df.to_excel(file_name, sheet_name=\"pandas demo\")\n",
    "pd.read_excel(file_name, sheet_name=\"pandas demo\", index_col=None, na_values=[\"NA\"])\n",
    "# Clean up.\n",
    "os.remove(file_name)"
   ]
  },
  {
   "source": [
    "\n",
    "## Gotchas"
   ],
   "cell_type": "markdown",
   "metadata": {}
  },
  {
   "cell_type": "code",
   "execution_count": 110,
   "metadata": {},
   "outputs": [
    {
     "output_type": "stream",
     "name": "stdout",
     "text": [
      "That's not how you evaluate pandas objects!\n"
     ]
    }
   ],
   "source": [
    "series = pd.Series([True, True, False])\n",
    "# Do not do this:\n",
    "try:\n",
    "    if series:\n",
    "        print(\"I was truthy!\")\n",
    "except ValueError:\n",
    "    print(\"That's not how you evaluate pandas objects!\")\n"
   ]
  },
  {
   "cell_type": "code",
   "execution_count": 113,
   "metadata": {},
   "outputs": [
    {
     "output_type": "stream",
     "name": "stdout",
     "text": [
      "Some part of me is truthy!\n"
     ]
    }
   ],
   "source": [
    "# Do this instead:\n",
    "if series.all():\n",
    "    print(\"I was totally truthy!\")\n",
    "if series.any():\n",
    "    print(\"Some part of me is truthy!\")"
   ]
  }
 ]
}